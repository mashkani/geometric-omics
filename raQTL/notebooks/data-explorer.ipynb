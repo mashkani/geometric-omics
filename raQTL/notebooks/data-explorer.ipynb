{
 "cells": [
  {
   "cell_type": "code",
   "execution_count": 1,
   "id": "41a755ea-3f62-46d4-9646-6a27c0d64f6c",
   "metadata": {
    "tags": []
   },
   "outputs": [],
   "source": [
    "import pandas as pd"
   ]
  },
  {
   "cell_type": "code",
   "execution_count": 19,
   "id": "94fd96b8-f502-44fa-a1a9-4d02daf5997d",
   "metadata": {
    "tags": []
   },
   "outputs": [
    {
     "data": {
      "text/html": [
       "<div>\n",
       "<style scoped>\n",
       "    .dataframe tbody tr th:only-of-type {\n",
       "        vertical-align: middle;\n",
       "    }\n",
       "\n",
       "    .dataframe tbody tr th {\n",
       "        vertical-align: top;\n",
       "    }\n",
       "\n",
       "    .dataframe thead th {\n",
       "        text-align: right;\n",
       "    }\n",
       "</style>\n",
       "<table border=\"1\" class=\"dataframe\">\n",
       "  <thead>\n",
       "    <tr style=\"text-align: right;\">\n",
       "      <th></th>\n",
       "      <th>chr</th>\n",
       "      <th>SNP_ID</th>\n",
       "      <th>SNPabspos</th>\n",
       "      <th>ref.element.count</th>\n",
       "      <th>alt.element.count</th>\n",
       "      <th>hepg2.ref.mean</th>\n",
       "      <th>hepg2.alt.mean</th>\n",
       "      <th>hepg2.wilcox.p.value</th>\n",
       "      <th>hepg2.wilcox.p.value.random</th>\n",
       "      <th>ref</th>\n",
       "      <th>alt</th>\n",
       "    </tr>\n",
       "  </thead>\n",
       "  <tbody>\n",
       "    <tr>\n",
       "      <th>0</th>\n",
       "      <td>chr3</td>\n",
       "      <td>rs9814223</td>\n",
       "      <td>24362252</td>\n",
       "      <td>224</td>\n",
       "      <td>177</td>\n",
       "      <td>1.579731</td>\n",
       "      <td>36.281741</td>\n",
       "      <td>5.029041e-40</td>\n",
       "      <td>0.760828</td>\n",
       "      <td>A</td>\n",
       "      <td>G</td>\n",
       "    </tr>\n",
       "    <tr>\n",
       "      <th>1</th>\n",
       "      <td>chr4</td>\n",
       "      <td>rs1605769</td>\n",
       "      <td>59436721</td>\n",
       "      <td>261</td>\n",
       "      <td>79</td>\n",
       "      <td>1.423470</td>\n",
       "      <td>15.025351</td>\n",
       "      <td>2.481365e-36</td>\n",
       "      <td>0.430313</td>\n",
       "      <td>T</td>\n",
       "      <td>C</td>\n",
       "    </tr>\n",
       "    <tr>\n",
       "      <th>2</th>\n",
       "      <td>chr5</td>\n",
       "      <td>rs3815923</td>\n",
       "      <td>54253581</td>\n",
       "      <td>208</td>\n",
       "      <td>208</td>\n",
       "      <td>13.427058</td>\n",
       "      <td>0.966040</td>\n",
       "      <td>5.922130e-36</td>\n",
       "      <td>0.657593</td>\n",
       "      <td>A</td>\n",
       "      <td>G</td>\n",
       "    </tr>\n",
       "    <tr>\n",
       "      <th>3</th>\n",
       "      <td>chr9</td>\n",
       "      <td>rs1928227</td>\n",
       "      <td>88698591</td>\n",
       "      <td>212</td>\n",
       "      <td>242</td>\n",
       "      <td>0.803605</td>\n",
       "      <td>11.766448</td>\n",
       "      <td>1.452938e-35</td>\n",
       "      <td>0.709940</td>\n",
       "      <td>C</td>\n",
       "      <td>A</td>\n",
       "    </tr>\n",
       "    <tr>\n",
       "      <th>4</th>\n",
       "      <td>chr14</td>\n",
       "      <td>rs7156067</td>\n",
       "      <td>89393045</td>\n",
       "      <td>197</td>\n",
       "      <td>258</td>\n",
       "      <td>15.567052</td>\n",
       "      <td>0.838567</td>\n",
       "      <td>2.073221e-35</td>\n",
       "      <td>0.805964</td>\n",
       "      <td>G</td>\n",
       "      <td>A</td>\n",
       "    </tr>\n",
       "  </tbody>\n",
       "</table>\n",
       "</div>"
      ],
      "text/plain": [
       "     chr     SNP_ID  SNPabspos  ref.element.count  alt.element.count   \n",
       "0   chr3  rs9814223   24362252                224                177  \\\n",
       "1   chr4  rs1605769   59436721                261                 79   \n",
       "2   chr5  rs3815923   54253581                208                208   \n",
       "3   chr9  rs1928227   88698591                212                242   \n",
       "4  chr14  rs7156067   89393045                197                258   \n",
       "\n",
       "   hepg2.ref.mean  hepg2.alt.mean  hepg2.wilcox.p.value   \n",
       "0        1.579731       36.281741          5.029041e-40  \\\n",
       "1        1.423470       15.025351          2.481365e-36   \n",
       "2       13.427058        0.966040          5.922130e-36   \n",
       "3        0.803605       11.766448          1.452938e-35   \n",
       "4       15.567052        0.838567          2.073221e-35   \n",
       "\n",
       "   hepg2.wilcox.p.value.random ref alt  \n",
       "0                     0.760828   A   G  \n",
       "1                     0.430313   T   C  \n",
       "2                     0.657593   A   G  \n",
       "3                     0.709940   C   A  \n",
       "4                     0.805964   G   A  "
      ]
     },
     "execution_count": 19,
     "metadata": {},
     "output_type": "execute_result"
    }
   ],
   "source": [
    "\n",
    "file_path_hep = \"C:/Users/falty/Desktop/geometric-omics/raQTL/data/hepg2.sign.id.LP190708.txt\"\n",
    "df = pd.read_csv(file_path, delimiter=\"\\t\")\n",
    "\n",
    "# Now you can work with the DataFrame\n",
    "df.head()"
   ]
  },
  {
   "cell_type": "code",
   "execution_count": 20,
   "id": "dbc49e42-e1e7-420f-ae3d-7e6e7b3ad66f",
   "metadata": {
    "tags": []
   },
   "outputs": [
    {
     "data": {
      "text/plain": [
       "14183"
      ]
     },
     "execution_count": 20,
     "metadata": {},
     "output_type": "execute_result"
    }
   ],
   "source": [
    "len(df)"
   ]
  },
  {
   "cell_type": "code",
   "execution_count": 21,
   "id": "aeb3cbf4-ba7e-42e6-a8a3-c300dd88af7a",
   "metadata": {
    "tags": []
   },
   "outputs": [
    {
     "data": {
      "text/plain": [
       "11"
      ]
     },
     "execution_count": 21,
     "metadata": {},
     "output_type": "execute_result"
    }
   ],
   "source": [
    "len(df.columns)"
   ]
  }
 ],
 "metadata": {
  "kernelspec": {
   "display_name": "Python 3 (ipykernel)",
   "language": "python",
   "name": "python3"
  },
  "language_info": {
   "codemirror_mode": {
    "name": "ipython",
    "version": 3
   },
   "file_extension": ".py",
   "mimetype": "text/x-python",
   "name": "python",
   "nbconvert_exporter": "python",
   "pygments_lexer": "ipython3",
   "version": "3.11.3"
  }
 },
 "nbformat": 4,
 "nbformat_minor": 5
}
