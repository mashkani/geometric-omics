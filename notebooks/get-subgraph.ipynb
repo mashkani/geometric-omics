{
 "cells": [
  {
   "cell_type": "markdown",
   "id": "8856a85c-cc6c-4e9c-9466-fafee6338628",
   "metadata": {
    "tags": []
   },
   "source": [
    "# Load the dataframe\n",
    "## README \n",
    "Website: https://www.eqtlgen.org/phase1.html\n",
    "\n",
    "Paper: https://www.nature.com/articles/s41588-021-00913-zhttps://www.nature.com/articles/s41588-021-00913-z\n",
    "\n",
    "This Jupyter notebook README covers cis-eQTL and trans-eQTL results from the eQTLGen project. The dataset includes significant files for both cis-eQTL and trans-eQTL analyses. \n",
    "\n",
    "Files contain various columns with information on P-value, SNP rs ID, SNP chromosome, SNP position, assessed and not assessed alleles, Z-score, ENSG and HGNC names of eQTL genes, gene chromosome, gene position, number of cohorts, number of samples, false discovery rate, and Bonferroni-corrected P-value.\n",
    "\n",
    "The cis-eQTL analysis includes 19,250 genes expressed in blood, with SNP-gene combinations within 1Mb from the gene center and tested in at least 2 cohorts. The trans-eQTL analysis tests 19,960 genes expressed in blood and 10,317 trait-associated SNPs based on GWAS Catalog, Immunobase, and Astle et al. study. Trans-eQTL combinations have a distance of >5Mb and were tested in at least 2 cohorts.\n",
    "\n",
    "The FDR calculation uses a pruned set of SNPs for trans-eQTL mapping and permutation-based FDR calculation. Crossmapping filters are applied to identify and remove potential artifacts in trans-eQTL results, recalculating the FDR afterward. Note that the full results file has not been filtered for cross-mapping effects, which may lead to artifacts in the data.\n",
    "\n",
    "The code below demonstrates the process of creating a graph-based representation of the combined cis and trans-eQTL data using PyTorch Geometric. This process can be broken down into several steps:\n",
    "\n",
    "1. Combine cis and trans dataframes: The code begins by concatenating the cis and trans dataframes into a single dataframe named 'data', which contains information on both cis-eQTL and trans-eQTL results. This combined dataset simplifies the process of working with the data and ensures that all relevant information is contained within a single data structure.\n",
    "\n",
    "2. Create mappings for genes and SNPs: To represent the genes and SNPs as nodes in the graph, integer indices are assigned to each unique gene and SNP. This is done using dictionaries called 'gene_to_idx' and 'snp_to_idx', which map the gene and SNP identifiers to their corresponding integer indices.\n",
    "\n",
    "3. Generate node type labels: Node type labels are created using PyTorch tensors, distinguishing between gene nodes (assigned a label of 0) and SNP nodes (assigned a label of 1). This differentiation is useful for various graph-based analyses and machine learning tasks that require knowledge of node types.\n",
    "\n",
    "4. Create edges based on gene and SNP indices: Edges in the graph represent the relationships between genes and SNPs. These edges are created by iterating over the 'data' dataframe and extracting the corresponding gene and SNP indices from the previously created mappings. The edges are then represented as a PyTorch tensor with a long data type.\n",
    "\n",
    "5. Convert edges to undirected: Since the relationships between genes and SNPs are undirected, the edges in the graph should also be undirected. This is achieved using the 'to_undirected()' function from PyTorch Geometric, which ensures that the graph correctly represents the underlying biology.\n",
    "\n",
    "6. Create a PyTorch Geometric graph: Finally, the graph is created using the PyTorch Geometric 'Data' class. The node types and edge indices are used as inputs to instantiate the graph object, which can then be utilized for further analysis and visualization.\n",
    "\n",
    "The resulting 'graph' object is a PyTorch Geometric representation of the combined cis and trans-eQTL data. The prediction task is to predict new association edges given the training edges, with the task type being link prediction. Below are a few important graph statistics:\n",
    "\n",
    "- Number of nodes: 3681495\n",
    "- Number of SNP nodes: 3664025\n",
    "- Number of Gene nodes: 17470\n",
    "- Number of edges: 10567450\n",
    "- Number of connected components: 424\n",
    "- Average degree: 5.74\n",
    "- Median degree: 2.0\n",
    "- Standard deviation of degree: 69.81\n",
    "- Density: 0.0000015594\n",
    "- Assortativity: -0.2267915607\n",
    "\n",
    "The prediction task is to predict new association edges given the training edges, with the task type being link prediction. The data splitting is random while maintaining an equal proportion of cis- and trans- associations."
   ]
  },
  {
   "cell_type": "markdown",
   "id": "4ae5b6c8-9ccf-4c35-b6dc-e8755e8c251e",
   "metadata": {},
   "source": [
    "## Data Setup "
   ]
  },
  {
   "cell_type": "markdown",
   "id": "6c312ac4-08e0-46ae-b18a-10f81e6b2ddb",
   "metadata": {},
   "source": [
    "### Libraries"
   ]
  },
  {
   "cell_type": "code",
   "execution_count": 1,
   "id": "08f0bf7f-91fc-4010-bb06-e5e4434c3c73",
   "metadata": {
    "tags": []
   },
   "outputs": [],
   "source": [
    "import os\n",
    "\n",
    "import numpy as np\n",
    "import pandas as pd\n",
    "import matplotlib.pyplot as plt\n",
    "from sklearn.model_selection import train_test_split\n",
    "from sklearn.metrics import precision_recall_fscore_support, roc_auc_score, average_precision_score\n",
    "from sklearn.preprocessing import LabelEncoder\n",
    "\n",
    "import torch\n",
    "import torch.nn.functional as F\n",
    "import torch_geometric\n",
    "from torch_geometric.data import Data\n",
    "from torch_geometric.nn import GCNConv, GATConv\n",
    "from torch_geometric.utils import to_undirected, negative_sampling, subgraph\n",
    "\n",
    "import networkx as nx\n",
    "from ogb.io import DatasetSaver\n",
    "from ogb.linkproppred import LinkPropPredDataset"
   ]
  },
  {
   "cell_type": "code",
   "execution_count": 2,
   "id": "c398fa63-4d51-40a5-baab-d085d2beaf66",
   "metadata": {},
   "outputs": [
    {
     "name": "stdout",
     "output_type": "stream",
     "text": [
      "PyTorch version: 2.0.0+cu118\n",
      "PyTorch Geometric version: 2.3.1\n"
     ]
    }
   ],
   "source": [
    "print(f\"PyTorch version: {torch.__version__}\")\n",
    "print(f\"PyTorch Geometric version: {torch_geometric.__version__}\")"
   ]
  },
  {
   "cell_type": "markdown",
   "id": "c59f449a-fcde-4fb3-92cf-98d585bf4a7e",
   "metadata": {},
   "source": [
    "### Load data"
   ]
  },
  {
   "cell_type": "code",
   "execution_count": 6,
   "id": "1837b7ee-8c4a-416b-b8eb-1e0fbcdfed40",
   "metadata": {
    "tags": []
   },
   "outputs": [],
   "source": [
    "# Read files\n",
    "data_types = {'Pvalue': float, 'SNP': str, 'SNPChr': str, 'SNPPos': float,\n",
    "              'AssessedAllele': str, 'OtherAllele': str, 'Zscore': float,\n",
    "              'Gene': str, 'GeneSymbol': str, 'GeneChr': str, 'GenePos': float,\n",
    "              'NrCohorts': int, 'NrSamples': int, 'FDR': float,\n",
    "              'BonferroniP': float, 'GeneStart': float, 'GeneEnd': float}\n",
    "data = pd.read_csv(\"sig-combined-with-genes.csv\", dtype=data_types)"
   ]
  },
  {
   "cell_type": "code",
   "execution_count": 7,
   "id": "2639da02-191f-485c-8342-1cfe09fbf9f7",
   "metadata": {
    "tags": []
   },
   "outputs": [
    {
     "name": "stdout",
     "output_type": "stream",
     "text": [
      "Data(x=[3681584, 7], edge_index=[2, 21134900])\n"
     ]
    }
   ],
   "source": [
    "# Create mappings for genes and SNPs to integer indices\n",
    "genes = data['Gene'].unique()\n",
    "snps = data['SNP'].unique()\n",
    "gene_to_idx = {gene: idx for idx, gene in enumerate(genes)}\n",
    "snp_to_idx = {snp: idx + len(genes) for idx, snp in enumerate(snps)}\n",
    "\n",
    "# Create node feature vectors\n",
    "gene_features = data.loc[data['Gene'].isin(genes)][['Gene', 'GeneChr', 'GeneStart', 'GeneEnd']].drop_duplicates().sort_values(by='Gene').reset_index(drop=True)\n",
    "snp_features = data.loc[data['SNP'].isin(snps)][['SNP', 'SNPChr', 'SNPPos', 'AssessedAllele', 'OtherAllele']].drop_duplicates().sort_values(by='SNP').reset_index(drop=True)\n",
    "\n",
    "# Create node type labels\n",
    "node_types = torch.tensor([0] * len(genes) + [1] * len(snps), dtype=torch.long)\n",
    "\n",
    "# Create edges\n",
    "edges = data.apply(lambda row: (gene_to_idx[row['Gene']], snp_to_idx[row['SNP']]), axis=1)\n",
    "edges = torch.tensor(list(edges), dtype=torch.long).t().contiguous()\n",
    "\n",
    "# Convert edges to undirected\n",
    "edges = to_undirected(edges)\n",
    "\n",
    "# Combine the feature vectors\n",
    "combined_features = pd.concat([gene_features, snp_features], ignore_index=True).drop(['Gene', 'SNP'], axis=1)\n",
    "\n",
    "# Convert 'GeneChr' and 'SNPChr' to strings\n",
    "combined_features['GeneChr'] = combined_features['GeneChr'].astype(str)\n",
    "combined_features['SNPChr'] = combined_features['SNPChr'].astype(str)\n",
    "\n",
    "# Label encoding for categorical columns\n",
    "categorical_columns = ['GeneChr', 'SNPChr', 'AssessedAllele', 'OtherAllele']\n",
    "for column in categorical_columns:\n",
    "    le = LabelEncoder()\n",
    "    combined_features[column] = le.fit_transform(combined_features[column])\n",
    "\n",
    "# Create the PyTorch tensor\n",
    "features = torch.tensor(combined_features.values, dtype=torch.float)\n",
    "\n",
    "# Create the PyTorch Geometric graph\n",
    "graph = Data(x=features, edge_index=edges)\n",
    "\n",
    "print(graph)"
   ]
  },
  {
   "cell_type": "code",
   "execution_count": 8,
   "id": "b37eff42-570c-4be5-a11d-0f78257d63f7",
   "metadata": {
    "tags": []
   },
   "outputs": [
    {
     "name": "stdout",
     "output_type": "stream",
     "text": [
      "Data(x=[3576300, 7], edge_index=[2, 20865032])\n"
     ]
    }
   ],
   "source": [
    "def create_networkx_graph(edge_index):\n",
    "    G = nx.Graph()\n",
    "    for edge in edge_index.t().numpy():\n",
    "        G.add_edge(edge[0], edge[1])\n",
    "    return G\n",
    "\n",
    "# Convert the PyTorch Geometric graph to a NetworkX graph\n",
    "G = create_networkx_graph(graph.edge_index)\n",
    "\n",
    "# Find the connected components\n",
    "components = list(nx.connected_components(G))\n",
    "\n",
    "# Find the largest component\n",
    "largest_component = max(components, key=len)\n",
    "\n",
    "# Get the node indices of the largest connected component\n",
    "largest_component_nodes = torch.tensor(list(largest_component), dtype=torch.long)\n",
    "\n",
    "# Extract the largest connected component subgraph\n",
    "largest_subgraph_edge_index, _ = subgraph(largest_component_nodes, graph.edge_index)\n",
    "largest_subgraph_features = graph.x[largest_component_nodes]\n",
    "\n",
    "# Create the new Data object for the largest subgraph\n",
    "largest_subgraph = Data(x=largest_subgraph_features, edge_index=largest_subgraph_edge_index)\n",
    "\n",
    "print(largest_subgraph)"
   ]
  },
  {
   "cell_type": "code",
   "execution_count": 9,
   "id": "0a9515f6-7ac6-47a6-b0df-60e7d185cd52",
   "metadata": {
    "tags": []
   },
   "outputs": [
    {
     "name": "stdout",
     "output_type": "stream",
     "text": [
      "Full graph stats:\n",
      "Number of nodes: 3681495\n",
      "Number of SNP nodes: 3664114\n",
      "Number of Gene nodes: 17470\n",
      "Number of edges: 10567450\n",
      "Number of connected components: 424\n",
      "Average degree: 5.74\n",
      "Median degree: 2.0\n",
      "Standard deviation of degree: 69.81\n",
      "Density: 0.0000015594\n",
      "Assortativity: -0.2267915607\n",
      "\n",
      "\n",
      "Subgraph stats:\n",
      "Number of nodes: 3576300\n",
      "Number of SNP nodes: 3559409\n",
      "Number of Gene nodes: 16891\n",
      "Number of edges: 10432516\n",
      "Number of connected components: 1\n",
      "Average degree: 5.83\n",
      "Median degree: 2.0\n",
      "Standard deviation of degree: 70.62\n",
      "Density: 0.0000016314\n",
      "Assortativity: -0.2275165079\n"
     ]
    }
   ],
   "source": [
    "def print_graph_stats(graph, nodes, genes, snps):\n",
    "    G = nx.Graph()\n",
    "    for edge in graph.edge_index.t().numpy():\n",
    "        G.add_edge(edge[0], edge[1])\n",
    "\n",
    "    num_nodes = G.number_of_nodes()\n",
    "    num_genes = len([node for node in nodes if node < len(genes)])\n",
    "    num_snps = len([node for node in nodes if node >= len(genes)])\n",
    "    num_edges = G.number_of_edges()\n",
    "    num_connected_components = nx.number_connected_components(G)\n",
    "    average_degree = np.mean([degree for _, degree in G.degree()])\n",
    "    median_degree = np.median([degree for _, degree in G.degree()])\n",
    "    std_degree = np.std([degree for _, degree in G.degree()])\n",
    "    density = nx.density(G)\n",
    "    assortativity = nx.degree_assortativity_coefficient(G)\n",
    "\n",
    "    print(f\"Number of nodes: {num_nodes}\")\n",
    "    print(\"Number of SNP nodes:\", num_snps)\n",
    "    print(\"Number of Gene nodes:\", num_genes)\n",
    "    print(f\"Number of edges: {num_edges}\")\n",
    "    print(f\"Number of connected components: {num_connected_components}\")\n",
    "    print(f\"Average degree: {average_degree:.2f}\")\n",
    "    print(f\"Median degree: {median_degree}\")\n",
    "    print(f\"Standard deviation of degree: {std_degree:.2f}\")\n",
    "    print(f\"Density: {density:.10f}\")\n",
    "    print(f\"Assortativity: {assortativity:.10f}\")\n",
    "\n",
    "# For the full graph\n",
    "print(\"Full graph stats:\")\n",
    "print_graph_stats(graph, range(graph.num_nodes), genes, snps)\n",
    "print(\"\\n\")\n",
    "\n",
    "# For the subgraph\n",
    "print(\"Subgraph stats:\")\n",
    "print_graph_stats(largest_subgraph, largest_component_nodes.numpy(), genes, snps)"
   ]
  },
  {
   "cell_type": "code",
   "execution_count": 13,
   "id": "641a3c45-e3fa-4049-bb28-20ec917754e4",
   "metadata": {
    "tags": []
   },
   "outputs": [
    {
     "name": "stderr",
     "output_type": "stream",
     "text": [
      "C:\\Users\\falty\\AppData\\Local\\Temp\\ipykernel_4204\\2184106801.py:26: RuntimeWarning: invalid value encountered in cast\n",
      "  categorical_feature_idx = np.round(node_features[:, i]).astype(int)\n",
      "C:\\Users\\falty\\AppData\\Local\\Temp\\ipykernel_4204\\2184106801.py:26: RuntimeWarning: invalid value encountered in cast\n",
      "  categorical_feature_idx = np.round(node_features[:, i]).astype(int)\n"
     ]
    }
   ],
   "source": [
    "def custom_inverse_transform(le, indices):\n",
    "    decoded = np.empty_like(indices, dtype=object)\n",
    "    for i, idx in enumerate(indices):\n",
    "        if 0 <= idx < len(le.classes_):\n",
    "            decoded[i] = le.classes_[idx]\n",
    "        else:\n",
    "            decoded[i] = np.nan\n",
    "    return decoded\n",
    "\n",
    "# Extract the node features from the largest subgraph\n",
    "node_features = largest_subgraph.x.numpy()\n",
    "\n",
    "# Decode the categorical columns\n",
    "categorical_columns = ['GeneChr', 'SNPChr', 'AssessedAllele', 'OtherAllele']\n",
    "continuous_columns = ['GeneStart', 'GeneEnd', 'SNPPos']\n",
    "encoders = {}\n",
    "\n",
    "# Retain continuous columns as they are\n",
    "continuous_features = node_features[:, [1, 2, 4]]\n",
    "\n",
    "# Process categorical columns\n",
    "categorical_features = []\n",
    "for i, column in enumerate(categorical_columns):\n",
    "    le = LabelEncoder()\n",
    "    le.fit(combined_features[column])\n",
    "    categorical_feature_idx = np.round(node_features[:, i]).astype(int)\n",
    "    categorical_features.append(custom_inverse_transform(le, categorical_feature_idx))\n",
    "    encoders[column] = le\n",
    "\n",
    "# Combine continuous and categorical columns\n",
    "processed_node_features = np.column_stack((categorical_features[0], continuous_features[:, 0], continuous_features[:, 1],\n",
    "                                           categorical_features[1], continuous_features[:, 2], categorical_features[2], categorical_features[3]))\n",
    "\n",
    "# Create column names for the node features\n",
    "column_names = ['GeneChr', 'GeneStart', 'GeneEnd', 'SNPChr', 'SNPPos', 'AssessedAllele', 'OtherAllele']\n",
    "\n",
    "# Create a new DataFrame with the original column names and values\n",
    "largest_subgraph_df = pd.DataFrame(processed_node_features, columns=column_names)\n",
    "\n",
    "# Reset the index of the DataFrame\n",
    "largest_subgraph_df.reset_index(drop=True, inplace=True)"
   ]
  },
  {
   "cell_type": "code",
   "execution_count": 11,
   "id": "d1447413-fb33-4904-bd18-7efc34868e1e",
   "metadata": {
    "tags": []
   },
   "outputs": [
    {
     "data": {
      "text/html": [
       "<div>\n",
       "<style scoped>\n",
       "    .dataframe tbody tr th:only-of-type {\n",
       "        vertical-align: middle;\n",
       "    }\n",
       "\n",
       "    .dataframe tbody tr th {\n",
       "        vertical-align: top;\n",
       "    }\n",
       "\n",
       "    .dataframe thead th {\n",
       "        text-align: right;\n",
       "    }\n",
       "</style>\n",
       "<table border=\"1\" class=\"dataframe\">\n",
       "  <thead>\n",
       "    <tr style=\"text-align: right;\">\n",
       "      <th></th>\n",
       "      <th>GeneChr</th>\n",
       "      <th>GeneStart</th>\n",
       "      <th>GeneEnd</th>\n",
       "      <th>SNPChr</th>\n",
       "      <th>SNPPos</th>\n",
       "      <th>AssessedAllele</th>\n",
       "      <th>OtherAllele</th>\n",
       "    </tr>\n",
       "  </thead>\n",
       "  <tbody>\n",
       "    <tr>\n",
       "      <th>0</th>\n",
       "      <td>12</td>\n",
       "      <td>50934868.0</td>\n",
       "      <td>50959140.0</td>\n",
       "      <td>NaN</td>\n",
       "      <td>NaN</td>\n",
       "      <td>NaN</td>\n",
       "      <td>NaN</td>\n",
       "    </tr>\n",
       "    <tr>\n",
       "      <th>1</th>\n",
       "      <td>0</td>\n",
       "      <td>169849632.0</td>\n",
       "      <td>169894272.0</td>\n",
       "      <td>NaN</td>\n",
       "      <td>NaN</td>\n",
       "      <td>NaN</td>\n",
       "      <td>NaN</td>\n",
       "    </tr>\n",
       "    <tr>\n",
       "      <th>2</th>\n",
       "      <td>0</td>\n",
       "      <td>169662000.0</td>\n",
       "      <td>169854080.0</td>\n",
       "      <td>NaN</td>\n",
       "      <td>NaN</td>\n",
       "      <td>NaN</td>\n",
       "      <td>NaN</td>\n",
       "    </tr>\n",
       "    <tr>\n",
       "      <th>3</th>\n",
       "      <td>0</td>\n",
       "      <td>27612064.0</td>\n",
       "      <td>27635184.0</td>\n",
       "      <td>NaN</td>\n",
       "      <td>NaN</td>\n",
       "      <td>NaN</td>\n",
       "      <td>NaN</td>\n",
       "    </tr>\n",
       "    <tr>\n",
       "      <th>4</th>\n",
       "      <td>0</td>\n",
       "      <td>196651760.0</td>\n",
       "      <td>196752480.0</td>\n",
       "      <td>NaN</td>\n",
       "      <td>NaN</td>\n",
       "      <td>NaN</td>\n",
       "      <td>NaN</td>\n",
       "    </tr>\n",
       "  </tbody>\n",
       "</table>\n",
       "</div>"
      ],
      "text/plain": [
       "  GeneChr    GeneStart      GeneEnd SNPChr SNPPos AssessedAllele OtherAllele\n",
       "0      12   50934868.0   50959140.0    NaN    NaN            NaN         NaN\n",
       "1       0  169849632.0  169894272.0    NaN    NaN            NaN         NaN\n",
       "2       0  169662000.0  169854080.0    NaN    NaN            NaN         NaN\n",
       "3       0   27612064.0   27635184.0    NaN    NaN            NaN         NaN\n",
       "4       0  196651760.0  196752480.0    NaN    NaN            NaN         NaN"
      ]
     },
     "execution_count": 11,
     "metadata": {},
     "output_type": "execute_result"
    }
   ],
   "source": [
    "largest_subgraph_df.head()"
   ]
  }
 ],
 "metadata": {
  "kernelspec": {
   "display_name": "Python 3 (ipykernel)",
   "language": "python",
   "name": "python3"
  },
  "language_info": {
   "codemirror_mode": {
    "name": "ipython",
    "version": 3
   },
   "file_extension": ".py",
   "mimetype": "text/x-python",
   "name": "python",
   "nbconvert_exporter": "python",
   "pygments_lexer": "ipython3",
   "version": "3.11.3"
  },
  "toc-autonumbering": false
 },
 "nbformat": 4,
 "nbformat_minor": 5
}
