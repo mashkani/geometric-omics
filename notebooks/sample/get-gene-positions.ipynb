{
 "cells": [
  {
   "cell_type": "code",
   "execution_count": 1,
   "id": "240a13d9-5f0c-48ac-8ebd-902ee6a14cf9",
   "metadata": {
    "tags": []
   },
   "outputs": [],
   "source": [
    "# Read files\n",
    "import requests\n",
    "import pandas as pd\n",
    "from concurrent.futures import ThreadPoolExecutor\n",
    "from ratelimit import limits, sleep_and_retry\n",
    "\n",
    "cis = pd.read_csv(\"sig-cis.csv\")\n",
    "trans = pd.read_csv(\"sig-trans.csv\")\n",
    "data = pd.concat([cis, trans], ignore_index=True)"
   ]
  },
  {
   "cell_type": "code",
   "execution_count": 2,
   "id": "b16b7bdd-4b23-4ab7-ace8-617087cb7e5c",
   "metadata": {
    "tags": []
   },
   "outputs": [
    {
     "name": "stdout",
     "output_type": "stream",
     "text": [
      "Querying genes 1-1000 of 17405\n",
      "Querying genes 1001-2000 of 17405\n",
      "Querying genes 2001-3000 of 17405\n",
      "Querying genes 3001-4000 of 17405\n",
      "Querying genes 4001-5000 of 17405\n",
      "Querying genes 5001-6000 of 17405\n",
      "Querying genes 6001-7000 of 17405\n",
      "Querying genes 7001-8000 of 17405\n",
      "Querying genes 8001-9000 of 17405\n",
      "Querying genes 9001-10000 of 17405\n",
      "Querying genes 10001-11000 of 17405\n",
      "Querying genes 11001-12000 of 17405\n",
      "Querying genes 12001-13000 of 17405\n",
      "Querying genes 13001-14000 of 17405\n",
      "Querying genes 14001-15000 of 17405\n",
      "Querying genes 15001-16000 of 17405\n",
      "Querying genes 16001-17000 of 17405\n",
      "Querying genes 17001-18000 of 17405\n"
     ]
    }
   ],
   "source": [
    "# Set the Ensembl API endpoint and species\n",
    "server = \"https://rest.ensembl.org\"\n",
    "species = \"human\"\n",
    "\n",
    "# Define a function to query the Ensembl API for gene coordinates\n",
    "@sleep_and_retry\n",
    "@limits(calls=15, period=1)\n",
    "def get_gene_coordinates(gene_name):\n",
    "    # Set the API endpoint and parameters for the gene lookup\n",
    "    ext = f\"/lookup/symbol/{species}/{gene_name}?expand=1\"\n",
    "    # Send the GET request to the API\n",
    "    response = requests.get(server + ext, headers={\"Content-Type\": \"application/json\"})\n",
    "    # Parse the response JSON and retrieve the gene coordinates\n",
    "    if response.ok:\n",
    "        gene_data = response.json()\n",
    "        start_pos = gene_data[\"start\"]\n",
    "        end_pos = gene_data[\"end\"]\n",
    "        return (start_pos, end_pos)\n",
    "    else:\n",
    "        return (\"N/A\", \"N/A\")\n",
    "\n",
    "# Create new columns to store the gene start and end positions\n",
    "data[\"GeneStart\"] = \"\"\n",
    "data[\"GeneEnd\"] = \"\"\n",
    "\n",
    "# Define a function to query gene coordinates for a batch of gene symbols\n",
    "def query_gene_coordinates_batch(gene_symbols):\n",
    "    results = [get_gene_coordinates(gene_symbol) for gene_symbol in gene_symbols]\n",
    "    return results\n",
    "\n",
    "# Query gene coordinates for all unique gene symbols in batches\n",
    "gene_symbols = data[\"GeneSymbol\"].unique().tolist()\n",
    "batch_size = 1000\n",
    "for i in range(0, len(gene_symbols), batch_size):\n",
    "    print(f\"Querying genes {i+1}-{i+batch_size} of {len(gene_symbols)}\")\n",
    "    batch_symbols = gene_symbols[i:i+batch_size]\n",
    "    batch_results = query_gene_coordinates_batch(batch_symbols)\n",
    "    for j, gene_symbol in enumerate(batch_symbols):\n",
    "        gene_start, gene_end = batch_results[j]\n",
    "        data.loc[data[\"GeneSymbol\"] == gene_symbol, \"GeneStart\"] = gene_start\n",
    "        data.loc[data[\"GeneSymbol\"] == gene_symbol, \"GeneEnd\"] = gene_end"
   ]
  },
  {
   "cell_type": "code",
   "execution_count": 6,
   "id": "ba4ebc67-7c94-4ddc-95f9-f83ec303c465",
   "metadata": {
    "tags": []
   },
   "outputs": [
    {
     "data": {
      "text/plain": [
       "Index(['Pvalue', 'SNP', 'SNPChr', 'SNPPos', 'AssessedAllele', 'OtherAllele',\n",
       "       'Zscore', 'Gene', 'GeneSymbol', 'GeneChr', 'GenePos', 'NrCohorts',\n",
       "       'NrSamples', 'FDR', 'BonferroniP', 'GeneStart', 'GeneEnd'],\n",
       "      dtype='object')"
      ]
     },
     "execution_count": 6,
     "metadata": {},
     "output_type": "execute_result"
    }
   ],
   "source": [
    "data.columns"
   ]
  },
  {
   "cell_type": "code",
   "execution_count": 4,
   "id": "48b16663-b34c-4845-bfe7-22f341998c68",
   "metadata": {
    "tags": []
   },
   "outputs": [],
   "source": [
    "data.to_csv('sig-combined-with-genes.csv', index=False)"
   ]
  }
 ],
 "metadata": {
  "kernelspec": {
   "display_name": "Python 3 (ipykernel)",
   "language": "python",
   "name": "python3"
  },
  "language_info": {
   "codemirror_mode": {
    "name": "ipython",
    "version": 3
   },
   "file_extension": ".py",
   "mimetype": "text/x-python",
   "name": "python",
   "nbconvert_exporter": "python",
   "pygments_lexer": "ipython3",
   "version": "3.11.3"
  }
 },
 "nbformat": 4,
 "nbformat_minor": 5
}
