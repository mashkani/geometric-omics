{
 "cells": [
  {
   "cell_type": "markdown",
   "id": "8856a85c-cc6c-4e9c-9466-fafee6338628",
   "metadata": {
    "tags": []
   },
   "source": [
    "## README \n",
    "Website: https://www.eqtlgen.org/phase1.html\n",
    "\n",
    "Paper: https://www.nature.com/articles/s41588-021-00913-zhttps://www.nature.com/articles/s41588-021-00913-z\n",
    "\n",
    "This Jupyter notebook README covers cis-eQTL and trans-eQTL results from the eQTLGen project. The dataset includes significant files for both cis-eQTL and trans-eQTL analyses. \n",
    "\n",
    "Files contain various columns with information on P-value, SNP rs ID, SNP chromosome, SNP position, assessed and not assessed alleles, Z-score, ENSG and HGNC names of eQTL genes, gene chromosome, gene position, number of cohorts, number of samples, false discovery rate, and Bonferroni-corrected P-value.\n",
    "\n",
    "The cis-eQTL analysis includes 19,250 genes expressed in blood, with SNP-gene combinations within 1Mb from the gene center and tested in at least 2 cohorts. The trans-eQTL analysis tests 19,960 genes expressed in blood and 10,317 trait-associated SNPs based on GWAS Catalog, Immunobase, and Astle et al. study. Trans-eQTL combinations have a distance of >5Mb and were tested in at least 2 cohorts.\n",
    "\n",
    "The FDR calculation uses a pruned set of SNPs for trans-eQTL mapping and permutation-based FDR calculation. Crossmapping filters are applied to identify and remove potential artifacts in trans-eQTL results, recalculating the FDR afterward. Note that the full results file has not been filtered for cross-mapping effects, which may lead to artifacts in the data.\n",
    "\n",
    "The code below demonstrates the process of creating a graph-based representation of the combined cis and trans-eQTL data using PyTorch Geometric. This process can be broken down into several steps:\n",
    "\n",
    "1. Combine cis and trans dataframes: The code begins by concatenating the cis and trans dataframes into a single dataframe named 'data', which contains information on both cis-eQTL and trans-eQTL results. This combined dataset simplifies the process of working with the data and ensures that all relevant information is contained within a single data structure.\n",
    "\n",
    "2. Create mappings for genes and SNPs: To represent the genes and SNPs as nodes in the graph, integer indices are assigned to each unique gene and SNP. This is done using dictionaries called 'gene_to_idx' and 'snp_to_idx', which map the gene and SNP identifiers to their corresponding integer indices.\n",
    "\n",
    "3. Generate node type labels: Node type labels are created using PyTorch tensors, distinguishing between gene nodes (assigned a label of 0) and SNP nodes (assigned a label of 1). This differentiation is useful for various graph-based analyses and machine learning tasks that require knowledge of node types.\n",
    "\n",
    "4. Create edges based on gene and SNP indices: Edges in the graph represent the relationships between genes and SNPs. These edges are created by iterating over the 'data' dataframe and extracting the corresponding gene and SNP indices from the previously created mappings. The edges are then represented as a PyTorch tensor with a long data type.\n",
    "\n",
    "5. Convert edges to undirected: Since the relationships between genes and SNPs are undirected, the edges in the graph should also be undirected. This is achieved using the 'to_undirected()' function from PyTorch Geometric, which ensures that the graph correctly represents the underlying biology.\n",
    "\n",
    "6. Create a PyTorch Geometric graph: Finally, the graph is created using the PyTorch Geometric 'Data' class. The node types and edge indices are used as inputs to instantiate the graph object, which can then be utilized for further analysis and visualization.\n",
    "\n",
    "The resulting 'graph' object is a PyTorch Geometric representation of the combined cis and trans-eQTL data. The prediction task is to predict new association edges given the training edges, with the task type being link prediction. Below are a few important graph statistics:\n",
    "\n",
    "- Number of nodes: 3681495\n",
    "- Number of SNP nodes: 3664025\n",
    "- Number of Gene nodes: 17470\n",
    "- Number of edges: 10567450\n",
    "- Number of connected components: 424\n",
    "- Average degree: 5.74\n",
    "- Median degree: 2.0\n",
    "- Standard deviation of degree: 69.81\n",
    "- Density: 0.0000015594\n",
    "- Assortativity: -0.2267915607\n",
    "\n",
    "The prediction task is to predict new association edges given the training edges, with the task type being link prediction. The data splitting is random while maintaining an equal proportion of cis- and trans- associations."
   ]
  },
  {
   "cell_type": "markdown",
   "id": "4ae5b6c8-9ccf-4c35-b6dc-e8755e8c251e",
   "metadata": {},
   "source": [
    "## Data Setup "
   ]
  },
  {
   "cell_type": "markdown",
   "id": "6c312ac4-08e0-46ae-b18a-10f81e6b2ddb",
   "metadata": {},
   "source": [
    "### Libraries"
   ]
  },
  {
   "cell_type": "code",
   "execution_count": 1,
   "id": "08f0bf7f-91fc-4010-bb06-e5e4434c3c73",
   "metadata": {
    "tags": []
   },
   "outputs": [],
   "source": [
    "import os\n",
    "\n",
    "import numpy as np\n",
    "import pandas as pd\n",
    "import matplotlib.pyplot as plt\n",
    "\n",
    "from sklearn.model_selection import train_test_split\n",
    "from sklearn.metrics import precision_recall_fscore_support, roc_auc_score, average_precision_score\n",
    "from sklearn.preprocessing import LabelEncoder\n",
    "from sklearn.preprocessing import StandardScaler\n",
    "\n",
    "\n",
    "import torch\n",
    "import torch.nn as nn\n",
    "import torch.nn.functional as F\n",
    "import torch.nn.init as init\n",
    "\n",
    "import torch_sparse\n",
    "\n",
    "import torch_geometric\n",
    "from torch_geometric.data import Data\n",
    "from torch_geometric.nn import GCNConv, GATConv\n",
    "from torch_geometric.utils import to_undirected, negative_sampling, subgraph\n",
    "from torch_geometric.transforms import RandomLinkSplit\n",
    "\n",
    "import networkx as nx\n",
    "from ogb.io import DatasetSaver\n",
    "from ogb.linkproppred import LinkPropPredDataset"
   ]
  },
  {
   "cell_type": "code",
   "execution_count": 2,
   "id": "c398fa63-4d51-40a5-baab-d085d2beaf66",
   "metadata": {},
   "outputs": [
    {
     "name": "stdout",
     "output_type": "stream",
     "text": [
      "PyTorch version: 2.0.0+cu118\n",
      "PyTorch Geometric version: 2.3.1\n"
     ]
    }
   ],
   "source": [
    "print(f\"PyTorch version: {torch.__version__}\")\n",
    "print(f\"PyTorch Geometric version: {torch_geometric.__version__}\")"
   ]
  },
  {
   "cell_type": "code",
   "execution_count": 3,
   "id": "95bdb806-8661-4798-93a7-85e08eff2304",
   "metadata": {
    "tags": []
   },
   "outputs": [
    {
     "name": "stdout",
     "output_type": "stream",
     "text": [
      "Using NVIDIA GeForce RTX 3060 Ti (cuda)\n",
      "CUDA version: 11.8\n",
      "Number of CUDA devices: 1\n"
     ]
    }
   ],
   "source": [
    "if torch.cuda.is_available():\n",
    "    device = torch.device(\"cuda\")          # Current CUDA device\n",
    "    print(f\"Using {torch.cuda.get_device_name()} ({device})\")\n",
    "    print(f\"CUDA version: {torch.version.cuda}\")\n",
    "    print(f\"Number of CUDA devices: {torch.cuda.device_count()}\")\n",
    "else:\n",
    "    print(\"CUDA is not available on this device.\")"
   ]
  },
  {
   "cell_type": "code",
   "execution_count": 4,
   "id": "bcacfc26-0c67-49a3-812c-7b2fce754c3e",
   "metadata": {
    "tags": []
   },
   "outputs": [],
   "source": [
    "data_types = {'Pvalue': float, 'SNP': str, 'SNPChr': str, 'SNPPos': float,\n",
    "              'AssessedAllele': str, 'OtherAllele': str, 'Zscore': float,\n",
    "              'Gene': str, 'GeneSymbol': str, 'GeneChr': str, 'GenePos': float,\n",
    "              'NrCohorts': int, 'NrSamples': int, 'FDR': float,\n",
    "              'BonferroniP': float, 'GeneStart': float, 'GeneEnd': float}\n",
    "data = pd.read_csv(\"sig-combined-with-genes.csv\", dtype=data_types)"
   ]
  },
  {
   "cell_type": "code",
   "execution_count": 5,
   "id": "3365c167-cbdf-407f-8cda-d259b5ad46d6",
   "metadata": {
    "tags": []
   },
   "outputs": [
    {
     "data": {
      "text/plain": [
       "Index(['Pvalue', 'SNP', 'SNPChr', 'SNPPos', 'AssessedAllele', 'OtherAllele',\n",
       "       'Zscore', 'Gene', 'GeneSymbol', 'GeneChr', 'GenePos', 'NrCohorts',\n",
       "       'NrSamples', 'FDR', 'BonferroniP', 'GeneStart', 'GeneEnd'],\n",
       "      dtype='object')"
      ]
     },
     "execution_count": 5,
     "metadata": {},
     "output_type": "execute_result"
    }
   ],
   "source": [
    "data.columns"
   ]
  },
  {
   "cell_type": "markdown",
   "id": "bb69c8a8-38f2-40f2-885e-f5106d8b6240",
   "metadata": {},
   "source": [
    "### Graph"
   ]
  },
  {
   "cell_type": "code",
   "execution_count": 6,
   "id": "fdee40ba-792a-452f-b267-ffbe6920f4fc",
   "metadata": {
    "tags": []
   },
   "outputs": [
    {
     "name": "stdout",
     "output_type": "stream",
     "text": [
      "Number of nodes: 3681584\n",
      "Number of edges: 21134900\n",
      "Node feature dimension: 8\n",
      "Node types: tensor([0, 0, 0,  ..., 1, 1, 1])\n"
     ]
    }
   ],
   "source": [
    "# Task: Link prediction: does an edge exist between two nodes?\n",
    "# Node Types: 0 = Gene, 1 = SNP\n",
    "# Gene Node Features: 'Gene': str, 'GeneChr': str, GeneStart': float, 'GeneEnd': float\n",
    "# SNP Node Features: 'SNP': str, 'SNPChr': str, 'SNPPos': float, 'AssessedAllele': str, 'OtherAllele': str\n",
    "\n",
    "# Load data\n",
    "data_types = {'Pvalue': float, 'SNP': str, 'SNPChr': str, 'SNPPos': float,\n",
    "              'AssessedAllele': str, 'OtherAllele': str, 'Zscore': float,\n",
    "              'Gene': str, 'GeneSymbol': str, 'GeneChr': str, 'GenePos': float,\n",
    "              'NrCohorts': int, 'NrSamples': int, 'FDR': float,\n",
    "              'BonferroniP': float, 'GeneStart': float, 'GeneEnd': float}\n",
    "data = pd.read_csv(\"sig-combined-with-genes.csv\", dtype=data_types)\n",
    "#data = data.sample(frac=0.005, random_state=42)\n",
    "\n",
    "# Create mappings for genes and SNPs to integer indices\n",
    "genes = data['Gene'].unique()\n",
    "snps = data['SNP'].unique()\n",
    "gene_to_idx = {gene: idx for idx, gene in enumerate(genes)}\n",
    "snp_to_idx = {snp: idx + len(genes) for idx, snp in enumerate(snps)}\n",
    "\n",
    "# Create node feature vectors\n",
    "gene_features = data.loc[data['Gene'].isin(genes)][['Gene', 'GeneChr', 'GenePos', 'GeneStart', 'GeneEnd']].drop_duplicates().sort_values(by='Gene').reset_index(drop=True)\n",
    "snp_features = data.loc[data['SNP'].isin(snps)][['SNP', 'SNPChr', 'SNPPos', 'AssessedAllele', 'OtherAllele']].drop_duplicates().sort_values(by='SNP').reset_index(drop=True)\n",
    "\n",
    "\n",
    "# Create node type labels\n",
    "node_types = torch.tensor([0] * len(genes) + [1] * len(snps), dtype=torch.long)\n",
    "\n",
    "# Create edges\n",
    "edges = data.apply(lambda row: (gene_to_idx[row['Gene']], snp_to_idx[row['SNP']]), axis=1)\n",
    "edges = torch.tensor(list(edges), dtype=torch.long).t().contiguous()\n",
    "\n",
    "# Convert edges to undirected\n",
    "edges = to_undirected(edges)\n",
    "\n",
    "# Combine the feature vectors\n",
    "combined_features = pd.concat([gene_features, snp_features], ignore_index=True).drop(['Gene', 'SNP'], axis=1)\n",
    "\n",
    "# Replace NaN and empty strings with \"N/A\"\n",
    "combined_features.fillna({'GeneChr': 'N/A', 'GenePos': 0, 'GeneStart': 0, 'GeneEnd': 0,\n",
    "                          'SNPChr': 'N/A', 'SNPPos': 0, 'AssessedAllele': 'N/A', 'OtherAllele': 'N/A'}, inplace=True)\n",
    "combined_features.replace({'GeneChr': {'': 'N/A'}, 'SNPChr': {'': 'N/A'},\n",
    "                           'AssessedAllele': {'': 'N/A'}, 'OtherAllele': {'': 'N/A'}}, inplace=True)\n",
    "\n",
    "\n",
    "# Label encoding for categorical columns\n",
    "categorical_columns = ['GeneChr', 'SNPChr', 'AssessedAllele', 'OtherAllele']\n",
    "for column in categorical_columns:\n",
    "    le = LabelEncoder()\n",
    "    combined_features[column] = le.fit_transform(combined_features[column])\n",
    "\n",
    "# Standardize numerical features\n",
    "numerical_columns = ['GenePos', 'GeneStart', 'GeneEnd', 'SNPPos']\n",
    "scaler = StandardScaler()\n",
    "combined_features[numerical_columns] = scaler.fit_transform(combined_features[numerical_columns])\n",
    "\n",
    "# Create the PyTorch tensor\n",
    "features = torch.tensor(combined_features.values, dtype=torch.float)\n",
    "\n",
    "# Create the PyTorch Geometric graph\n",
    "graph = Data(x=features, edge_index=edges)\n",
    "graph.node_types = node_types\n",
    "#graph.x = F.normalize(graph.x, p=2, dim=-1)\n",
    "print(f\"Number of nodes: {graph.num_nodes}\")\n",
    "print(f\"Number of edges: {graph.num_edges}\")\n",
    "print(f\"Node feature dimension: {graph.num_node_features}\")\n",
    "print(f\"Node types: {graph.node_types}\")"
   ]
  },
  {
   "cell_type": "markdown",
   "id": "e9aadf68-9a33-4a1e-a3fc-d544c7bc3811",
   "metadata": {},
   "source": [
    "### Check"
   ]
  },
  {
   "cell_type": "code",
   "execution_count": 7,
   "id": "82b9481a-59ce-4609-8570-e567be6e0b72",
   "metadata": {
    "tags": []
   },
   "outputs": [
    {
     "name": "stdout",
     "output_type": "stream",
     "text": [
      "Are there any NaN values in features? False\n"
     ]
    }
   ],
   "source": [
    "# Check for NaN values in features\n",
    "nan_in_features = torch.isnan(graph.x).any().item()\n",
    "print(f\"Are there any NaN values in features? {nan_in_features}\")"
   ]
  },
  {
   "cell_type": "markdown",
   "id": "f3873739-be99-4769-9422-accd0884c817",
   "metadata": {},
   "source": [
    "### Subgraph"
   ]
  },
  {
   "cell_type": "raw",
   "id": "591d3925-0652-427f-8cd2-6542fab8183a",
   "metadata": {
    "tags": []
   },
   "source": [
    "def create_networkx_graph(edge_index):\n",
    "    G = nx.Graph()\n",
    "    for edge in edge_index.t().numpy():\n",
    "        G.add_edge(edge[0], edge[1])\n",
    "    return G\n",
    "\n",
    "# Convert the PyTorch Geometric graph to a NetworkX graph\n",
    "G = create_networkx_graph(graph.edge_index)\n",
    "\n",
    "# Find the connected components\n",
    "components = list(nx.connected_components(G))\n",
    "\n",
    "# Find the largest component\n",
    "largest_component = max(components, key=len)\n",
    "\n",
    "# Get the node indices of the largest connected component\n",
    "largest_component_nodes = torch.tensor(list(largest_component), dtype=torch.long)\n",
    "\n",
    "# Extract the largest connected component subgraph\n",
    "largest_subgraph_edge_index, _ = subgraph(largest_component_nodes, graph.edge_index)\n",
    "largest_subgraph_features = graph.x[largest_component_nodes]\n",
    "\n",
    "# Create the new Data object for the largest subgraph\n",
    "largest_subgraph = Data(x=largest_subgraph_features, edge_index=largest_subgraph_edge_index)\n",
    "\n",
    "graph = largest_subgraph"
   ]
  },
  {
   "cell_type": "markdown",
   "id": "355916c8-695e-40ed-b943-d547ffc0fa75",
   "metadata": {},
   "source": [
    "### Stats"
   ]
  },
  {
   "cell_type": "code",
   "execution_count": 8,
   "id": "187e286f-691a-4c43-8d50-54960becda8d",
   "metadata": {
    "tags": []
   },
   "outputs": [
    {
     "name": "stdout",
     "output_type": "stream",
     "text": [
      "Graph stats:\n",
      "Number of nodes: 3681495\n",
      "Number of SNP nodes: 3664025\n",
      "Number of Gene nodes: 17470\n",
      "Number of edges: 10567450\n",
      "Number of connected components: 424\n",
      "Average degree: 5.74\n",
      "Median degree: 2.0\n",
      "Standard deviation of degree: 69.81\n",
      "Density: 0.0000015594\n",
      "Assortativity: -0.2267915607\n",
      "\n",
      "\n"
     ]
    }
   ],
   "source": [
    "def print_graph_stats(graph, genes, snps):\n",
    "    G = nx.Graph()\n",
    "    for edge in graph.edge_index.t().numpy():\n",
    "        G.add_edge(edge[0], edge[1])\n",
    "\n",
    "    num_nodes = G.number_of_nodes()\n",
    "    num_genes = len(genes)\n",
    "    num_snps = len(snps)\n",
    "    num_edges = G.number_of_edges()\n",
    "    num_connected_components = nx.number_connected_components(G)\n",
    "    average_degree = np.mean([degree for _, degree in G.degree()])\n",
    "    median_degree = np.median([degree for _, degree in G.degree()])\n",
    "    std_degree = np.std([degree for _, degree in G.degree()])\n",
    "    density = nx.density(G)\n",
    "    assortativity = nx.degree_assortativity_coefficient(G)\n",
    "\n",
    "    print(f\"Number of nodes: {num_nodes}\")\n",
    "    print(\"Number of SNP nodes:\", num_snps)\n",
    "    print(\"Number of Gene nodes:\", num_genes)\n",
    "    print(f\"Number of edges: {num_edges}\")\n",
    "    print(f\"Number of connected components: {num_connected_components}\")\n",
    "    print(f\"Average degree: {average_degree:.2f}\")\n",
    "    print(f\"Median degree: {median_degree}\")\n",
    "    print(f\"Standard deviation of degree: {std_degree:.2f}\")\n",
    "    print(f\"Density: {density:.10f}\")\n",
    "    print(f\"Assortativity: {assortativity:.10f}\")\n",
    "\n",
    "\n",
    "# For the cis-graph\n",
    "print(\"Graph stats:\")\n",
    "print_graph_stats(graph, genes, snps)\n",
    "print(\"\\n\")\n",
    "\n",
    "# data = pd.read_csv(\"sig-combined-with-genes.csv\", dtype=data_types)\n",
    "# graph = Data(x=features, edge_index=edges)"
   ]
  },
  {
   "cell_type": "markdown",
   "id": "159e2e18-acf9-4b79-a611-ce5e0d178a21",
   "metadata": {},
   "source": [
    "### Data split"
   ]
  },
  {
   "cell_type": "code",
   "execution_count": 9,
   "id": "dc44238c-7139-459a-a68d-522cdafc6bbe",
   "metadata": {
    "tags": []
   },
   "outputs": [
    {
     "name": "stdout",
     "output_type": "stream",
     "text": [
      "Data(x=[3681584, 8], edge_index=[2, 2113492], node_types=[3681495], edge_label=[2113492], edge_label_index=[2, 2113492])\n",
      "Data(x=[3681584, 8], edge_index=[2, 2113492], node_types=[3681495], edge_label=[9510704], edge_label_index=[2, 9510704])\n",
      "Data(x=[3681584, 8], edge_index=[2, 11624196], node_types=[3681495], edge_label=[9510704], edge_label_index=[2, 9510704])\n"
     ]
    }
   ],
   "source": [
    "# data = pd.read_csv(\"sig-combined-with-genes.csv\", dtype=data_types)\n",
    "# graph = Data(x=features, edge_index=edges)\n",
    "\n",
    "\n",
    "transform = RandomLinkSplit(num_val=0.45, num_test=0.45, is_undirected=True)\n",
    "graph_train, graph_val, graph_test = transform(graph)\n",
    "\n",
    "print(graph_train)\n",
    "print(graph_val)\n",
    "print(graph_test)"
   ]
  },
  {
   "cell_type": "markdown",
   "id": "b5be4956-cc71-4ff8-acdb-4548416fd7f9",
   "metadata": {},
   "source": [
    "### Model"
   ]
  },
  {
   "cell_type": "code",
   "execution_count": 10,
   "id": "918bb6cb-25fc-4d09-b0c0-4a925020349e",
   "metadata": {
    "tags": []
   },
   "outputs": [
    {
     "name": "stdout",
     "output_type": "stream",
     "text": [
      "Epoch: 1, Loss: 155.8685, Val ROC-AUC: 0.5000000000, Val MRR: 0.5000000000, Val Hits@5: 1\n",
      "Epoch: 2, Loss: 129.8599, Val ROC-AUC: 0.5000000000, Val MRR: 0.5000000000, Val Hits@5: 1\n",
      "Epoch: 3, Loss: 107.6335, Val ROC-AUC: 0.5000000000, Val MRR: 0.5000000000, Val Hits@5: 1\n",
      "Epoch: 4, Loss: 88.9438, Val ROC-AUC: 0.5000000000, Val MRR: 0.5000000000, Val Hits@5: 1\n",
      "Epoch: 5, Loss: 73.6864, Val ROC-AUC: 0.5000007097, Val MRR: 0.5000000000, Val Hits@5: 1\n",
      "Epoch: 6, Loss: 61.1965, Val ROC-AUC: 0.5000070973, Val MRR: 0.5000000000, Val Hits@5: 1\n",
      "Epoch: 7, Loss: 51.0015, Val ROC-AUC: 0.5011641870, Val MRR: 0.5000000000, Val Hits@5: 1\n",
      "Epoch: 8, Loss: 42.7625, Val ROC-AUC: 0.5081048331, Val MRR: 0.5000000000, Val Hits@5: 1\n",
      "Epoch: 9, Loss: 35.8981, Val ROC-AUC: 0.5256522789, Val MRR: 0.5000000000, Val Hits@5: 1\n",
      "Epoch: 10, Loss: 30.3800, Val ROC-AUC: 0.5524364849, Val MRR: 0.5000000000, Val Hits@5: 1\n",
      "Epoch: 11, Loss: 25.8435, Val ROC-AUC: 0.5873354125, Val MRR: 1.0000000000, Val Hits@5: 1\n",
      "Epoch: 12, Loss: 22.0635, Val ROC-AUC: 0.6228808222, Val MRR: 1.0000000000, Val Hits@5: 1\n",
      "Epoch: 13, Loss: 18.8201, Val ROC-AUC: 0.6579116712, Val MRR: 0.5000000000, Val Hits@5: 1\n",
      "Epoch: 14, Loss: 15.8532, Val ROC-AUC: 0.6873298459, Val MRR: 1.0000000000, Val Hits@5: 1\n",
      "Epoch: 15, Loss: 13.3659, Val ROC-AUC: 0.7130106723, Val MRR: 1.0000000000, Val Hits@5: 1\n",
      "Epoch: 16, Loss: 11.2369, Val ROC-AUC: 0.7399396375, Val MRR: 0.5000000000, Val Hits@5: 1\n",
      "Epoch: 17, Loss: 9.3609, Val ROC-AUC: 0.7743305880, Val MRR: 1.0000000000, Val Hits@5: 1\n",
      "Epoch: 18, Loss: 7.8466, Val ROC-AUC: 0.8259496120, Val MRR: 1.0000000000, Val Hits@5: 1\n",
      "Epoch: 19, Loss: 6.7504, Val ROC-AUC: 0.8858852583, Val MRR: 1.0000000000, Val Hits@5: 1\n",
      "Epoch: 20, Loss: 6.0567, Val ROC-AUC: 0.9257651302, Val MRR: 1.0000000000, Val Hits@5: 1\n",
      "Epoch: 21, Loss: 5.7974, Val ROC-AUC: 0.9441669188, Val MRR: 1.0000000000, Val Hits@5: 1\n",
      "Epoch: 22, Loss: 5.7585, Val ROC-AUC: 0.9528567061, Val MRR: 1.0000000000, Val Hits@5: 1\n",
      "Epoch: 23, Loss: 5.5091, Val ROC-AUC: 0.9583562868, Val MRR: 1.0000000000, Val Hits@5: 1\n",
      "Epoch: 24, Loss: 5.0955, Val ROC-AUC: 0.9602785512, Val MRR: 1.0000000000, Val Hits@5: 1\n",
      "Epoch: 25, Loss: 4.6387, Val ROC-AUC: 0.9575953960, Val MRR: 1.0000000000, Val Hits@5: 1\n",
      "Epoch: 26, Loss: 4.1296, Val ROC-AUC: 0.9512062263, Val MRR: 1.0000000000, Val Hits@5: 1\n",
      "Epoch: 27, Loss: 3.6440, Val ROC-AUC: 0.9427442316, Val MRR: 1.0000000000, Val Hits@5: 1\n",
      "Epoch: 28, Loss: 3.2653, Val ROC-AUC: 0.9329900290, Val MRR: 1.0000000000, Val Hits@5: 1\n",
      "Epoch: 29, Loss: 2.9832, Val ROC-AUC: 0.9229419009, Val MRR: 1.0000000000, Val Hits@5: 1\n",
      "Epoch: 30, Loss: 2.7913, Val ROC-AUC: 0.9150454295, Val MRR: 1.0000000000, Val Hits@5: 1\n",
      "Epoch: 31, Loss: 2.6254, Val ROC-AUC: 0.9084222542, Val MRR: 1.0000000000, Val Hits@5: 1\n",
      "Epoch: 32, Loss: 2.4807, Val ROC-AUC: 0.9010020367, Val MRR: 1.0000000000, Val Hits@5: 1\n",
      "Epoch: 33, Loss: 2.3383, Val ROC-AUC: 0.8963843972, Val MRR: 1.0000000000, Val Hits@5: 1\n",
      "Epoch: 34, Loss: 2.2072, Val ROC-AUC: 0.8987572323, Val MRR: 1.0000000000, Val Hits@5: 1\n",
      "Epoch: 35, Loss: 2.0828, Val ROC-AUC: 0.9105483256, Val MRR: 1.0000000000, Val Hits@5: 1\n",
      "Epoch: 36, Loss: 1.9957, Val ROC-AUC: 0.9237947309, Val MRR: 1.0000000000, Val Hits@5: 1\n",
      "Epoch: 37, Loss: 1.9021, Val ROC-AUC: 0.9334312201, Val MRR: 1.0000000000, Val Hits@5: 1\n",
      "Epoch: 38, Loss: 1.7986, Val ROC-AUC: 0.9383622243, Val MRR: 1.0000000000, Val Hits@5: 1\n",
      "Epoch: 39, Loss: 1.6828, Val ROC-AUC: 0.9388657957, Val MRR: 1.0000000000, Val Hits@5: 1\n",
      "Epoch: 40, Loss: 1.5867, Val ROC-AUC: 0.9370749338, Val MRR: 1.0000000000, Val Hits@5: 1\n",
      "Epoch: 41, Loss: 1.5096, Val ROC-AUC: 0.9334291578, Val MRR: 1.0000000000, Val Hits@5: 1\n",
      "Epoch: 42, Loss: 1.4516, Val ROC-AUC: 0.9300456522, Val MRR: 1.0000000000, Val Hits@5: 1\n",
      "Epoch: 43, Loss: 1.3880, Val ROC-AUC: 0.9284513359, Val MRR: 1.0000000000, Val Hits@5: 1\n",
      "Epoch: 44, Loss: 1.3421, Val ROC-AUC: 0.9297345488, Val MRR: 1.0000000000, Val Hits@5: 1\n",
      "Epoch: 45, Loss: 1.2934, Val ROC-AUC: 0.9328714868, Val MRR: 1.0000000000, Val Hits@5: 1\n",
      "Epoch: 46, Loss: 1.2579, Val ROC-AUC: 0.9371055618, Val MRR: 1.0000000000, Val Hits@5: 1\n",
      "Epoch: 47, Loss: 1.2313, Val ROC-AUC: 0.9393415986, Val MRR: 1.0000000000, Val Hits@5: 1\n",
      "Epoch: 48, Loss: 1.1984, Val ROC-AUC: 0.9395018693, Val MRR: 1.0000000000, Val Hits@5: 1\n",
      "Epoch: 49, Loss: 1.1752, Val ROC-AUC: 0.9384206933, Val MRR: 1.0000000000, Val Hits@5: 1\n",
      "Epoch: 50, Loss: 1.1363, Val ROC-AUC: 0.9383085392, Val MRR: 1.0000000000, Val Hits@5: 1\n",
      "Epoch: 51, Loss: 1.1077, Val ROC-AUC: 0.9402146579, Val MRR: 1.0000000000, Val Hits@5: 1\n",
      "Epoch: 52, Loss: 1.0809, Val ROC-AUC: 0.9446596489, Val MRR: 1.0000000000, Val Hits@5: 1\n",
      "Epoch: 53, Loss: 1.0639, Val ROC-AUC: 0.9499598661, Val MRR: 1.0000000000, Val Hits@5: 1\n",
      "Epoch: 54, Loss: 1.0395, Val ROC-AUC: 0.9562892039, Val MRR: 1.0000000000, Val Hits@5: 1\n",
      "Epoch: 55, Loss: 1.0215, Val ROC-AUC: 0.9621488567, Val MRR: 1.0000000000, Val Hits@5: 1\n",
      "Epoch: 56, Loss: 1.0057, Val ROC-AUC: 0.9672226310, Val MRR: 1.0000000000, Val Hits@5: 1\n",
      "Epoch: 57, Loss: 0.9835, Val ROC-AUC: 0.9702228953, Val MRR: 1.0000000000, Val Hits@5: 1\n",
      "Epoch: 58, Loss: 0.9713, Val ROC-AUC: 0.9707478911, Val MRR: 1.0000000000, Val Hits@5: 1\n",
      "Epoch: 59, Loss: 0.9566, Val ROC-AUC: 0.9691090974, Val MRR: 1.0000000000, Val Hits@5: 1\n",
      "Epoch: 60, Loss: 0.9426, Val ROC-AUC: 0.9663109413, Val MRR: 1.0000000000, Val Hits@5: 1\n",
      "Epoch: 61, Loss: 0.9281, Val ROC-AUC: 0.9635349217, Val MRR: 1.0000000000, Val Hits@5: 1\n",
      "Epoch: 62, Loss: 0.9159, Val ROC-AUC: 0.9620432714, Val MRR: 1.0000000000, Val Hits@5: 1\n",
      "Epoch: 63, Loss: 0.9067, Val ROC-AUC: 0.9620867784, Val MRR: 1.0000000000, Val Hits@5: 1\n",
      "Epoch: 64, Loss: 0.8950, Val ROC-AUC: 0.9633291578, Val MRR: 1.0000000000, Val Hits@5: 1\n",
      "Epoch: 65, Loss: 0.8798, Val ROC-AUC: 0.9655056812, Val MRR: 1.0000000000, Val Hits@5: 1\n",
      "Epoch: 66, Loss: 0.8717, Val ROC-AUC: 0.9682820610, Val MRR: 1.0000000000, Val Hits@5: 1\n",
      "Epoch: 67, Loss: 0.8574, Val ROC-AUC: 0.9701558002, Val MRR: 1.0000000000, Val Hits@5: 1\n",
      "Epoch: 68, Loss: 0.8509, Val ROC-AUC: 0.9708030561, Val MRR: 1.0000000000, Val Hits@5: 1\n",
      "Epoch: 69, Loss: 0.8389, Val ROC-AUC: 0.9702292718, Val MRR: 1.0000000000, Val Hits@5: 1\n",
      "Epoch: 70, Loss: 0.8308, Val ROC-AUC: 0.9686005059, Val MRR: 1.0000000000, Val Hits@5: 1\n",
      "Epoch: 71, Loss: 0.8214, Val ROC-AUC: 0.9668779065, Val MRR: 1.0000000000, Val Hits@5: 1\n",
      "Epoch: 72, Loss: 0.8141, Val ROC-AUC: 0.9653948240, Val MRR: 1.0000000000, Val Hits@5: 1\n",
      "Epoch: 73, Loss: 0.8075, Val ROC-AUC: 0.9654756539, Val MRR: 1.0000000000, Val Hits@5: 1\n",
      "Epoch: 74, Loss: 0.7996, Val ROC-AUC: 0.9665929522, Val MRR: 1.0000000000, Val Hits@5: 1\n",
      "Epoch: 75, Loss: 0.7884, Val ROC-AUC: 0.9687799028, Val MRR: 1.0000000000, Val Hits@5: 1\n",
      "Epoch: 76, Loss: 0.7842, Val ROC-AUC: 0.9710215109, Val MRR: 1.0000000000, Val Hits@5: 1\n",
      "Epoch: 77, Loss: 0.7750, Val ROC-AUC: 0.9734231343, Val MRR: 1.0000000000, Val Hits@5: 1\n",
      "Epoch: 78, Loss: 0.7685, Val ROC-AUC: 0.9747071400, Val MRR: 1.0000000000, Val Hits@5: 1\n",
      "Epoch: 79, Loss: 0.7642, Val ROC-AUC: 0.9753645322, Val MRR: 1.0000000000, Val Hits@5: 1\n",
      "Epoch: 80, Loss: 0.7572, Val ROC-AUC: 0.9752006493, Val MRR: 1.0000000000, Val Hits@5: 1\n",
      "Epoch: 81, Loss: 0.7513, Val ROC-AUC: 0.9748891963, Val MRR: 1.0000000000, Val Hits@5: 1\n",
      "Epoch: 82, Loss: 0.7445, Val ROC-AUC: 0.9748141757, Val MRR: 1.0000000000, Val Hits@5: 1\n",
      "Epoch: 83, Loss: 0.7378, Val ROC-AUC: 0.9753900247, Val MRR: 1.0000000000, Val Hits@5: 1\n",
      "Epoch: 84, Loss: 0.7311, Val ROC-AUC: 0.9766427876, Val MRR: 1.0000000000, Val Hits@5: 1\n",
      "Epoch: 85, Loss: 0.7278, Val ROC-AUC: 0.9778914901, Val MRR: 1.0000000000, Val Hits@5: 1\n",
      "Epoch: 86, Loss: 0.7214, Val ROC-AUC: 0.9789967798, Val MRR: 1.0000000000, Val Hits@5: 1\n",
      "Epoch: 87, Loss: 0.7140, Val ROC-AUC: 0.9799059898, Val MRR: 1.0000000000, Val Hits@5: 1\n",
      "Epoch: 88, Loss: 0.7098, Val ROC-AUC: 0.9802130602, Val MRR: 1.0000000000, Val Hits@5: 1\n",
      "Epoch: 89, Loss: 0.7061, Val ROC-AUC: 0.9802249468, Val MRR: 1.0000000000, Val Hits@5: 1\n",
      "Epoch: 90, Loss: 0.6986, Val ROC-AUC: 0.9803224541, Val MRR: 1.0000000000, Val Hits@5: 1\n",
      "Epoch: 91, Loss: 0.6962, Val ROC-AUC: 0.9801898281, Val MRR: 1.0000000000, Val Hits@5: 1\n",
      "Epoch: 92, Loss: 0.6910, Val ROC-AUC: 0.9802958886, Val MRR: 1.0000000000, Val Hits@5: 1\n",
      "Epoch: 93, Loss: 0.6881, Val ROC-AUC: 0.9807612753, Val MRR: 1.0000000000, Val Hits@5: 1\n",
      "Epoch: 94, Loss: 0.6831, Val ROC-AUC: 0.9814080322, Val MRR: 1.0000000000, Val Hits@5: 1\n",
      "Epoch: 95, Loss: 0.6763, Val ROC-AUC: 0.9818370860, Val MRR: 1.0000000000, Val Hits@5: 1\n",
      "Epoch: 96, Loss: 0.6729, Val ROC-AUC: 0.9823421783, Val MRR: 1.0000000000, Val Hits@5: 1\n",
      "Epoch: 97, Loss: 0.6681, Val ROC-AUC: 0.9826718993, Val MRR: 1.0000000000, Val Hits@5: 1\n",
      "Epoch: 98, Loss: 0.6659, Val ROC-AUC: 0.9826046131, Val MRR: 1.0000000000, Val Hits@5: 1\n",
      "Epoch: 99, Loss: 0.6603, Val ROC-AUC: 0.9823089700, Val MRR: 1.0000000000, Val Hits@5: 1\n",
      "Epoch: 100, Loss: 0.6569, Val ROC-AUC: 0.9820700053, Val MRR: 1.0000000000, Val Hits@5: 1\n",
      "Epoch: 101, Loss: 0.6541, Val ROC-AUC: 0.9821610882, Val MRR: 1.0000000000, Val Hits@5: 1\n",
      "Epoch: 102, Loss: 0.6490, Val ROC-AUC: 0.9825942277, Val MRR: 1.0000000000, Val Hits@5: 1\n",
      "Epoch: 103, Loss: 0.6467, Val ROC-AUC: 0.9831199776, Val MRR: 1.0000000000, Val Hits@5: 1\n",
      "Epoch: 104, Loss: 0.6438, Val ROC-AUC: 0.9835788315, Val MRR: 1.0000000000, Val Hits@5: 1\n",
      "Epoch: 105, Loss: 0.6389, Val ROC-AUC: 0.9839004766, Val MRR: 1.0000000000, Val Hits@5: 1\n",
      "Epoch: 106, Loss: 0.6347, Val ROC-AUC: 0.9839330134, Val MRR: 1.0000000000, Val Hits@5: 1\n",
      "Epoch: 107, Loss: 0.6298, Val ROC-AUC: 0.9838946249, Val MRR: 1.0000000000, Val Hits@5: 1\n",
      "Epoch: 108, Loss: 0.6294, Val ROC-AUC: 0.9839064354, Val MRR: 1.0000000000, Val Hits@5: 1\n",
      "Epoch: 109, Loss: 0.6242, Val ROC-AUC: 0.9838337281, Val MRR: 1.0000000000, Val Hits@5: 1\n",
      "Epoch: 110, Loss: 0.6219, Val ROC-AUC: 0.9838575880, Val MRR: 1.0000000000, Val Hits@5: 1\n",
      "Epoch: 111, Loss: 0.6202, Val ROC-AUC: 0.9840895009, Val MRR: 1.0000000000, Val Hits@5: 1\n",
      "Epoch: 112, Loss: 0.6151, Val ROC-AUC: 0.9844645796, Val MRR: 1.0000000000, Val Hits@5: 1\n",
      "Epoch: 113, Loss: 0.6122, Val ROC-AUC: 0.9849199491, Val MRR: 1.0000000000, Val Hits@5: 1\n",
      "Epoch: 114, Loss: 0.6091, Val ROC-AUC: 0.9852436186, Val MRR: 1.0000000000, Val Hits@5: 1\n",
      "Epoch: 115, Loss: 0.6057, Val ROC-AUC: 0.9853850442, Val MRR: 1.0000000000, Val Hits@5: 1\n",
      "Epoch: 116, Loss: 0.6056, Val ROC-AUC: 0.9855322817, Val MRR: 1.0000000000, Val Hits@5: 1\n",
      "Epoch: 117, Loss: 0.6017, Val ROC-AUC: 0.9854289207, Val MRR: 1.0000000000, Val Hits@5: 1\n",
      "Epoch: 118, Loss: 0.5982, Val ROC-AUC: 0.9852973045, Val MRR: 1.0000000000, Val Hits@5: 1\n",
      "Epoch: 119, Loss: 0.5950, Val ROC-AUC: 0.9852720967, Val MRR: 1.0000000000, Val Hits@5: 1\n",
      "Epoch: 120, Loss: 0.5943, Val ROC-AUC: 0.9854002495, Val MRR: 1.0000000000, Val Hits@5: 1\n",
      "Epoch: 121, Loss: 0.5878, Val ROC-AUC: 0.9856792151, Val MRR: 1.0000000000, Val Hits@5: 1\n",
      "Epoch: 122, Loss: 0.5875, Val ROC-AUC: 0.9861087927, Val MRR: 1.0000000000, Val Hits@5: 1\n",
      "Epoch: 123, Loss: 0.5844, Val ROC-AUC: 0.9863765425, Val MRR: 1.0000000000, Val Hits@5: 1\n",
      "Epoch: 124, Loss: 0.5819, Val ROC-AUC: 0.9864358555, Val MRR: 1.0000000000, Val Hits@5: 1\n",
      "Epoch: 125, Loss: 0.5797, Val ROC-AUC: 0.9863765167, Val MRR: 1.0000000000, Val Hits@5: 1\n",
      "Epoch: 126, Loss: 0.5775, Val ROC-AUC: 0.9861341648, Val MRR: 1.0000000000, Val Hits@5: 1\n",
      "Epoch: 127, Loss: 0.5739, Val ROC-AUC: 0.9860265297, Val MRR: 1.0000000000, Val Hits@5: 1\n",
      "Epoch: 128, Loss: 0.5731, Val ROC-AUC: 0.9860567683, Val MRR: 0.5000000000, Val Hits@5: 1\n",
      "Epoch: 129, Loss: 0.5706, Val ROC-AUC: 0.9864222930, Val MRR: 1.0000000000, Val Hits@5: 1\n",
      "Epoch: 130, Loss: 0.5679, Val ROC-AUC: 0.9867259244, Val MRR: 1.0000000000, Val Hits@5: 1\n",
      "Epoch: 131, Loss: 0.5658, Val ROC-AUC: 0.9868851918, Val MRR: 1.0000000000, Val Hits@5: 1\n",
      "Epoch: 132, Loss: 0.5636, Val ROC-AUC: 0.9869114028, Val MRR: 1.0000000000, Val Hits@5: 1\n",
      "Epoch: 133, Loss: 0.5612, Val ROC-AUC: 0.9868475126, Val MRR: 1.0000000000, Val Hits@5: 1\n",
      "Epoch: 134, Loss: 0.5606, Val ROC-AUC: 0.9868183244, Val MRR: 1.0000000000, Val Hits@5: 1\n",
      "Epoch: 135, Loss: 0.5588, Val ROC-AUC: 0.9868777513, Val MRR: 1.0000000000, Val Hits@5: 1\n",
      "Epoch: 136, Loss: 0.5546, Val ROC-AUC: 0.9869286679, Val MRR: 1.0000000000, Val Hits@5: 1\n",
      "Epoch: 137, Loss: 0.5535, Val ROC-AUC: 0.9869834120, Val MRR: 1.0000000000, Val Hits@5: 1\n",
      "Epoch: 138, Loss: 0.5522, Val ROC-AUC: 0.9870644491, Val MRR: 1.0000000000, Val Hits@5: 1\n",
      "Epoch: 139, Loss: 0.5499, Val ROC-AUC: 0.9872443167, Val MRR: 1.0000000000, Val Hits@5: 1\n",
      "Epoch: 140, Loss: 0.5486, Val ROC-AUC: 0.9872170816, Val MRR: 1.0000000000, Val Hits@5: 1\n",
      "Epoch: 141, Loss: 0.5480, Val ROC-AUC: 0.9873076106, Val MRR: 1.0000000000, Val Hits@5: 1\n",
      "Epoch: 142, Loss: 0.5444, Val ROC-AUC: 0.9872924021, Val MRR: 1.0000000000, Val Hits@5: 1\n",
      "Epoch: 143, Loss: 0.5438, Val ROC-AUC: 0.9874171100, Val MRR: 1.0000000000, Val Hits@5: 1\n",
      "Epoch: 144, Loss: 0.5416, Val ROC-AUC: 0.9875630702, Val MRR: 1.0000000000, Val Hits@5: 1\n",
      "Epoch: 145, Loss: 0.5400, Val ROC-AUC: 0.9876011801, Val MRR: 1.0000000000, Val Hits@5: 1\n",
      "Epoch: 146, Loss: 0.5370, Val ROC-AUC: 0.9874771058, Val MRR: 1.0000000000, Val Hits@5: 1\n",
      "Epoch: 147, Loss: 0.5367, Val ROC-AUC: 0.9873968883, Val MRR: 1.0000000000, Val Hits@5: 1\n",
      "Epoch: 148, Loss: 0.5351, Val ROC-AUC: 0.9874428015, Val MRR: 1.0000000000, Val Hits@5: 1\n",
      "Epoch: 149, Loss: 0.5328, Val ROC-AUC: 0.9875003043, Val MRR: 1.0000000000, Val Hits@5: 1\n",
      "Epoch: 150, Loss: 0.5328, Val ROC-AUC: 0.9877212862, Val MRR: 1.0000000000, Val Hits@5: 1\n"
     ]
    }
   ],
   "source": [
    "# Task: Link prediction: does an edge exist between two nodes?\n",
    "# Node Types: 0 = Gene, 1 = SNP\n",
    "# Node Feature Vector: 8-dimensional\n",
    "\n",
    "torch.cuda.empty_cache()\n",
    "\n",
    "# Define the GCN model\n",
    "class GCN(torch.nn.Module):\n",
    "    def __init__(self, hidden_channels):\n",
    "        super(GCN, self).__init__()\n",
    "        self.conv1 = GCNConv(8, hidden_channels)\n",
    "        self.conv2 = GCNConv(hidden_channels, hidden_channels)\n",
    "\n",
    "    def forward(self, x, edge_index):\n",
    "        x = self.conv1(x, edge_index)\n",
    "        x = F.relu(x)\n",
    "        x = F.dropout(x, p=0.5, training=self.training)\n",
    "        x = self.conv2(x, edge_index)\n",
    "        return x\n",
    "\n",
    "# Train and evaluate the model\n",
    "device = torch.device(\"cuda\" if torch.cuda.is_available() else \"cpu\")\n",
    "model = GCN(hidden_channels=8).to(device)\n",
    "\n",
    "graph_train = graph_train.to(device)\n",
    "graph_val = graph_val.to(device)\n",
    "graph_test = graph_test.to(device)\n",
    "optimizer = torch.optim.Adam(model.parameters(), lr=0.01, weight_decay=5e-4)\n",
    "\n",
    "# Train function\n",
    "def train():\n",
    "    model.train()\n",
    "    optimizer.zero_grad()\n",
    "    z = model(graph_train.x.float(), graph_train.edge_index)\n",
    "    pos = (z[graph_train.edge_index[0]] * z[graph_train.edge_index[1]]).sum(dim=-1)\n",
    "    neg_edge_index = negative_sampling(graph_train.edge_index, num_nodes=graph_train.num_nodes, num_neg_samples=graph_train.edge_index.size(1))\n",
    "    neg = (z[neg_edge_index[0]] * z[neg_edge_index[1]]).sum(dim=-1)\n",
    "\n",
    "    logits = torch.cat([pos, neg], dim=0)\n",
    "    targets = torch.tensor([1] * pos.size(0) + [0] * neg.size(0), dtype=torch.float32).to(device)\n",
    "\n",
    "    loss = F.binary_cross_entropy_with_logits(logits, targets)\n",
    "    loss.backward()\n",
    "    optimizer.step()\n",
    "    return loss.item()\n",
    "\n",
    "# Evaluation function\n",
    "def evaluate(edge_index, graph):\n",
    "    model.eval()\n",
    "    with torch.no_grad():\n",
    "        z = model(graph.x.float(), graph.edge_index)\n",
    "        pos = torch.sigmoid((z[edge_index[0]] * z[edge_index[1]]).sum(dim=-1)).view(-1)\n",
    "        neg_edge_index = negative_sampling(edge_index, num_nodes=graph.num_nodes, num_neg_samples=edge_index.size(1))\n",
    "        neg = torch.sigmoid((z[neg_edge_index[0]] * z[neg_edge_index[1]]).sum(dim=-1)).view(-1)\n",
    "\n",
    "        preds = np.concatenate([pos.cpu().numpy(), neg.cpu().numpy()])\n",
    "        true_labels = np.concatenate([np.ones_like(pos.cpu().numpy()), np.zeros_like(neg.cpu().numpy())])\n",
    "\n",
    "        roc_auc = roc_auc_score(true_labels, preds)\n",
    "        mrr = compute_mrr(preds, true_labels)\n",
    "        hits_at_5 = compute_hits_at_k(preds, true_labels, k=5)\n",
    "\n",
    "        return roc_auc, mrr, hits_at_5\n",
    "\n",
    "def compute_mrr(preds, true_labels):\n",
    "    # Find the predicted scores for positive examples\n",
    "    pos_preds = preds[:len(true_labels)]\n",
    "    # Rank the positive examples by predicted score in descending order\n",
    "    sorted_idx = np.argsort(pos_preds)[::-1]\n",
    "    # Find the rank of the first true positive\n",
    "    for i, idx in enumerate(sorted_idx):\n",
    "        if true_labels[idx] == 1:\n",
    "            return 1.0 / (i + 1)\n",
    "    return 0.0\n",
    "\n",
    "def compute_hits_at_k(preds, true_labels, k=5):\n",
    "    # Find the predicted scores for positive examples\n",
    "    pos_preds = preds[:len(true_labels)]\n",
    "    # Rank the positive examples by predicted score in descending order\n",
    "    sorted_idx = np.argsort(pos_preds)[::-1]\n",
    "    # Check if the first k predictions contain at least one true positive\n",
    "    hits = 0\n",
    "    for idx in sorted_idx[:k]:\n",
    "        if true_labels[idx] == 1:\n",
    "            hits = 1\n",
    "            break\n",
    "    return hits\n",
    "\n",
    "for epoch in range(150):\n",
    "    loss = train()\n",
    "    val_roc_auc, val_mrr, val_hits_at_5 = evaluate(graph_val.edge_index, graph_val)\n",
    "    print(f\"Epoch: {epoch + 1}, Loss: {loss:.4f}, Val ROC-AUC: {val_roc_auc:.10f}, Val MRR: {val_mrr:.10f}, Val Hits@5: {val_hits_at_5}\")\n"
   ]
  },
  {
   "cell_type": "code",
   "execution_count": 11,
   "id": "1804599a-9388-4d4c-9931-54b428e68edc",
   "metadata": {
    "tags": []
   },
   "outputs": [
    {
     "name": "stdout",
     "output_type": "stream",
     "text": [
      "Validation ROC-AUC: 0.9876967541\n",
      "Validation MRR: 1.0000000000\n",
      "Validation Hits@5: 1.0000000000\n",
      "Test ROC-AUC: 0.9924402645\n",
      "Test MRR: 1.0000000000\n",
      "Test Hits@5: 1.0000000000\n"
     ]
    }
   ],
   "source": [
    "val_roc_auc, val_mrr, val_hits5 = evaluate(graph_val.edge_index, graph_val)\n",
    "test_roc_auc, test_mrr, test_hits5 = evaluate(graph_test.edge_index, graph_test)\n",
    "\n",
    "print(f\"Validation ROC-AUC: {val_roc_auc:.10f}\")\n",
    "print(f\"Validation MRR: {val_mrr:.10f}\")\n",
    "print(f\"Validation Hits@5: {val_hits5:.10f}\")\n",
    "\n",
    "print(f\"Test ROC-AUC: {test_roc_auc:.10f}\")\n",
    "print(f\"Test MRR: {test_mrr:.10f}\")\n",
    "print(f\"Test Hits@5: {test_hits5:.10f}\")"
   ]
  }
 ],
 "metadata": {
  "kernelspec": {
   "display_name": "Python 3 (ipykernel)",
   "language": "python",
   "name": "python3"
  },
  "language_info": {
   "codemirror_mode": {
    "name": "ipython",
    "version": 3
   },
   "file_extension": ".py",
   "mimetype": "text/x-python",
   "name": "python",
   "nbconvert_exporter": "python",
   "pygments_lexer": "ipython3",
   "version": "3.11.3"
  },
  "toc-autonumbering": false
 },
 "nbformat": 4,
 "nbformat_minor": 5
}
