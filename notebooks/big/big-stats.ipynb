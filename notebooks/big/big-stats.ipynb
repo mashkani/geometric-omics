{
 "cells": [
  {
   "cell_type": "markdown",
   "id": "8856a85c-cc6c-4e9c-9466-fafee6338628",
   "metadata": {
    "tags": []
   },
   "source": [
    "## README \n",
    "Website: https://www.eqtlgen.org/phase1.html\n",
    "\n",
    "Paper: https://www.nature.com/articles/s41588-021-00913-zhttps://www.nature.com/articles/s41588-021-00913-z\n",
    "\n",
    "This Jupyter notebook README covers cis-eQTL and trans-eQTL results from the eQTLGen project. The dataset includes significant files for both cis-eQTL and trans-eQTL analyses. \n",
    "\n",
    "Files contain various columns:\n",
    "\n",
    "\n",
    "1. Pvalue - P-value\n",
    "2. SNP - SNP rs ID\n",
    "3. SNPChr - SNP chromosome\n",
    "4. SNPPos - SNP position\n",
    "5. AssessedAllele - Assessed allele, the Z-score refers to this allele\n",
    "6. OtherAllele - Not assessed allele\n",
    "7. Zscore - Z-score\n",
    "8. Gene - ENSG name (Ensembl v71) of the eQTL gene\n",
    "9. GeneSymbol - HGNC name of the gene\n",
    "10. GeneChr - Gene chromosome\n",
    "11. GenePos - Centre of gene position\n",
    "12. NrCohorts - Total number of cohorts where this SNP-gene combination was tested\n",
    "13. NrSamples - Total number of samples where this SNP-gene combination was tested\n",
    "14. FDR - False discovery rate estimated based on permutations\n",
    "15. BonferroniP - P-value after Bonferroni correction\n",
    "\n",
    "The cis-eQTL analysis includes 19,250 genes expressed in blood, with SNP-gene combinations within 1Mb from the gene center and tested in at least 2 cohorts. The trans-eQTL analysis tests 19,960 genes expressed in blood and 10,317 trait-associated SNPs based on GWAS Catalog, Immunobase, and Astle et al. study. Trans-eQTL combinations have a distance of >5Mb and were tested in at least 2 cohorts.\n",
    "\n",
    "The FDR calculation uses a pruned set of SNPs for trans-eQTL mapping and permutation-based FDR calculation. Crossmapping filters are applied to identify and remove potential artifacts in trans-eQTL results, recalculating the FDR afterward. Note that the full results file has not been filtered for cross-mapping effects, which may lead to artifacts in the data.\n",
    "\n",
    "The code below demonstrates the process of creating a graph-based representation of the combined cis and trans-eQTL data using PyTorch Geometric. This process can be broken down into several steps:\n",
    "\n",
    "1. Combine cis and trans dataframes: The code begins by concatenating the cis and trans dataframes into a single dataframe named 'data', which contains information on both cis-eQTL and trans-eQTL results. This combined dataset simplifies the process of working with the data and ensures that all relevant information is contained within a single data structure.\n",
    "\n",
    "2. Create mappings for genes and SNPs: To represent the genes and SNPs as nodes in the graph, integer indices are assigned to each unique gene and SNP. This is done using dictionaries called 'gene_to_idx' and 'snp_to_idx', which map the gene and SNP identifiers to their corresponding integer indices.\n",
    "\n",
    "3. Generate node type labels: Node type labels are created using PyTorch tensors, distinguishing between gene nodes (assigned a label of 0) and SNP nodes (assigned a label of 1). This differentiation is useful for various graph-based analyses and machine learning tasks that require knowledge of node types.\n",
    "\n",
    "4. Create edges based on gene and SNP indices: Edges in the graph represent the relationships between genes and SNPs. These edges are created by iterating over the 'data' dataframe and extracting the corresponding gene and SNP indices from the previously created mappings. The edges are then represented as a PyTorch tensor with a long data type.\n",
    "\n",
    "5. Convert edges to undirected: Since the relationships between genes and SNPs are undirected, the edges in the graph should also be undirected. This is achieved using the 'to_undirected()' function from PyTorch Geometric, which ensures that the graph correctly represents the underlying biology.\n",
    "\n",
    "6. Create a PyTorch Geometric graph: Finally, the graph is created using the PyTorch Geometric 'Data' class. The node types and edge indices are used as inputs to instantiate the graph object, which can then be utilized for further analysis and visualization.\n",
    "\n",
    "The resulting 'graph' object is a PyTorch Geometric representation of the combined cis and trans-eQTL data. The prediction task is to predict new association edges given the training edges, with the task type being link prediction. Below are a few important graph statistics:\n",
    "\n",
    "- Number of nodes: 3681495\n",
    "- Number of SNP nodes: 3664025\n",
    "- Number of Gene nodes: 17470\n",
    "- Number of edges: 10567450\n",
    "- Number of connected components: 424\n",
    "- Average degree: 5.74\n",
    "- Median degree: 2.0\n",
    "- Standard deviation of degree: 69.81\n",
    "- Density: 0.0000015594\n",
    "- Assortativity: -0.2267915607\n",
    "\n",
    "The prediction task is to predict new association edges given the training edges, with the task type being link prediction. The data splitting is random while maintaining an equal proportion of cis- and trans- associations."
   ]
  },
  {
   "cell_type": "markdown",
   "id": "4ae5b6c8-9ccf-4c35-b6dc-e8755e8c251e",
   "metadata": {},
   "source": [
    "## Data Setup "
   ]
  },
  {
   "cell_type": "markdown",
   "id": "6c312ac4-08e0-46ae-b18a-10f81e6b2ddb",
   "metadata": {},
   "source": [
    "### Libraries"
   ]
  },
  {
   "cell_type": "code",
   "execution_count": 1,
   "id": "08f0bf7f-91fc-4010-bb06-e5e4434c3c73",
   "metadata": {
    "tags": []
   },
   "outputs": [],
   "source": [
    "import os\n",
    "\n",
    "import numpy as np\n",
    "import pandas as pd\n",
    "import pyarrow.parquet as pq\n",
    "import matplotlib.pyplot as plt\n",
    "from sklearn.model_selection import train_test_split\n",
    "from sklearn.metrics import precision_recall_fscore_support, roc_auc_score, average_precision_score\n",
    "\n",
    "import torch\n",
    "import torch.nn.functional as F\n",
    "import torch_geometric\n",
    "from torch_geometric.data import Data\n",
    "from torch_geometric.nn import GCNConv, GATConv\n",
    "from torch_geometric.utils import to_undirected, negative_sampling\n",
    "\n",
    "import networkx as nx\n",
    "from ogb.io import DatasetSaver\n",
    "from ogb.linkproppred import LinkPropPredDataset"
   ]
  },
  {
   "cell_type": "code",
   "execution_count": 2,
   "id": "c398fa63-4d51-40a5-baab-d085d2beaf66",
   "metadata": {},
   "outputs": [
    {
     "name": "stdout",
     "output_type": "stream",
     "text": [
      "PyTorch version: 2.0.0+cu118\n",
      "PyTorch Geometric version: 2.3.1\n"
     ]
    }
   ],
   "source": [
    "print(f\"PyTorch version: {torch.__version__}\")\n",
    "print(f\"PyTorch Geometric version: {torch_geometric.__version__}\")"
   ]
  },
  {
   "cell_type": "markdown",
   "id": "c59f449a-fcde-4fb3-92cf-98d585bf4a7e",
   "metadata": {},
   "source": [
    "### Load data"
   ]
  },
  {
   "cell_type": "code",
   "execution_count": 6,
   "id": "1837b7ee-8c4a-416b-b8eb-1e0fbcdfed40",
   "metadata": {
    "tags": []
   },
   "outputs": [],
   "source": [
    "# Read files\n",
    "pf = pq.ParquetFile(\"big-cis.parquet\")\n",
    "table = pf.read(columns=['SNP', 'Gene', 'FDR', 'BonferroniP'])\n",
    "cis = table.to_pandas()\n",
    "\n",
    "pf = pq.ParquetFile(\"big-trans.parquet\")\n",
    "table = pf.read(columns=['SNP', 'Gene', 'FDR', 'BonferroniP'])\n",
    "trans = table.to_pandas()\n",
    "\n",
    "pf = pq.ParquetFile(\"sig-cis.parquet\")\n",
    "table = pf.read(columns=['SNP', 'Gene', 'FDR', 'BonferroniP'])\n",
    "sig_cis = table.to_pandas()\n",
    "\n",
    "pf = pq.ParquetFile(\"sig-trans.parquet\")\n",
    "table = pf.read(columns=['SNP', 'Gene', 'FDR', 'BonferroniP'])\n",
    "sig_trans = table.to_pandas()"
   ]
  },
  {
   "cell_type": "code",
   "execution_count": 7,
   "id": "87d6c69b-6525-4160-a365-df6070991fab",
   "metadata": {
    "tags": []
   },
   "outputs": [
    {
     "name": "stdout",
     "output_type": "stream",
     "text": [
      "Cis filtered: 10507664\n",
      "Trans filtered: 59786\n",
      "Cis unfiltered: 116834134\n",
      "Trans unfiltered: 203487960\n",
      "Cis: 127341798\n",
      "Trans: 203547746\n"
     ]
    }
   ],
   "source": [
    "def filter_fdr(df):\n",
    "    threshold = 0.05\n",
    "    return df[df['FDR'] < threshold]\n",
    "\n",
    "# Load cis and trans dataframes\n",
    "cis_unfiltered = sig_cis\n",
    "trans_unfiltered = sig_trans\n",
    "\n",
    "# Filter cis and trans dataframes based on FDR\n",
    "cis_filtered = filter_fdr(cis_unfiltered)\n",
    "trans_filtered = filter_fdr(trans_unfiltered)\n",
    "\n",
    "# Define cis and trans as the difference between unfiltered and filtered dataframes\n",
    "cis_unfiltered = cis[~cis.index.isin(cis_filtered.index)]\n",
    "trans_unfiltered = trans[~trans.index.isin(trans_filtered.index)]\n",
    "\n",
    "# Print lengths of filtered and unfiltered cis and trans dataframes\n",
    "print(f\"Cis filtered: {len(cis_filtered)}\")\n",
    "print(f\"Trans filtered: {len(trans_filtered)}\")\n",
    "print(f\"Cis unfiltered: {len(cis_unfiltered)}\")\n",
    "print(f\"Trans unfiltered: {len(trans_unfiltered)}\")\n",
    "print(f\"Cis: {len(cis)}\")\n",
    "print(f\"Trans: {len(trans)}\")"
   ]
  },
  {
   "cell_type": "markdown",
   "id": "49b5ebac-59d8-4e08-9de7-a3a51e770769",
   "metadata": {
    "tags": []
   },
   "source": [
    "### Create graph"
   ]
  },
  {
   "cell_type": "code",
   "execution_count": null,
   "id": "a2efe87e-d367-4fea-93f0-1502f08c9558",
   "metadata": {
    "tags": []
   },
   "outputs": [],
   "source": [
    "# Combine the cis and trans dataframes\n",
    "data = pd.concat([cis, trans], ignore_index=True)\n",
    "\n",
    "# Create mappings for genes and SNPs to integer indices\n",
    "genes = data['Gene'].unique()\n",
    "snps = data['SNP'].unique()\n",
    "gene_to_idx = {gene: idx for idx, gene in enumerate(genes)}\n",
    "snp_to_idx = {snp: idx + len(genes) for idx, snp in enumerate(snps)}\n",
    "\n",
    "# Create node type labels\n",
    "node_types = torch.tensor([0] * len(genes) + [1] * len(snps), dtype=torch.long)\n",
    "\n",
    "# Create edges\n",
    "edges = data.apply(lambda row: (gene_to_idx[row['Gene']], snp_to_idx[row['SNP']]), axis=1)\n",
    "edges = edges[cis_filtered.index.union(trans_filtered.index)]  # Only keep edges with FDR < 0.05\n",
    "edges = torch.tensor(list(edges), dtype=torch.long).t().contiguous()\n",
    "\n",
    "# Convert edges to undirected\n",
    "edges = to_undirected(edges)\n",
    "\n",
    "# Create the PyTorch Geometric graph\n",
    "graph = Data(x=node_types.view(-1, 1), edge_index=edges)\n",
    "\n",
    "# Print the number of nodes and edges in the graph\n",
    "print(\"Graph created with\", len(genes) + len(snps), \"nodes and\", edges.size(1), \"edges.\")\n",
    "\n",
    "def compute_descriptive_stats(cis_filtered, cis_remaining, trans_filtered, trans_remaining):\n",
    "    # Compute mean, median, and standard deviation for cis_filtered and cis_remaining\n",
    "    mean_cis_filtered = cis_filtered['FDR'].mean()\n",
    "    median_cis_filtered = cis_filtered['FDR'].median()\n",
    "    std_cis_filtered = cis_filtered['FDR'].std()\n",
    "    \n",
    "    mean_cis_remaining = cis_remaining['FDR'].mean()\n",
    "    median_cis_remaining = cis_remaining['FDR'].median()\n",
    "    std_cis_remaining = cis_remaining['FDR'].std()\n",
    "    \n",
    "    # Compute mean, median, and standard deviation for trans_filtered and trans_remaining\n",
    "    mean_trans_filtered = trans_filtered['FDR'].mean()\n",
    "    median_trans_filtered = trans_filtered['FDR'].median()\n",
    "    std_trans_filtered = trans_filtered['FDR'].std()\n",
    "    \n",
    "    mean_trans_remaining = trans_remaining['FDR'].mean()\n",
    "    median_trans_remaining = trans_remaining['FDR'].median()\n",
    "    std_trans_remaining = trans_remaining['FDR'].std()\n",
    "    \n",
    "    # Print the results\n",
    "    print(\"Cis Filtered: mean=%.2e, median=%.2e, std=%.2e\" % (mean_cis_filtered, median_cis_filtered, std_cis_filtered))\n",
    "    print(\"Cis Remaining: mean=%.2e, median=%.2e, std=%.2e\" % (mean_cis_remaining, median_cis_remaining, std_cis_remaining))\n",
    "    print(\"Trans Filtered: mean=%.2e, median=%.2e, std=%.2e\" % (mean_trans_filtered, median_trans_filtered, std_trans_filtered))\n",
    "    print(\"Trans Remaining: mean=%.2e, median=%.2e, std=%.2e\" % (mean_trans_remaining, median_trans_remaining, std_trans_remaining))\n",
    "\n",
    "\n",
    "compute_descriptive_stats(cis_filtered, cis_remaining, trans_filtered, trans_remaining)"
   ]
  },
  {
   "cell_type": "markdown",
   "id": "4d91610a-04ca-4ced-8f4f-cb7dd3721854",
   "metadata": {
    "tags": []
   },
   "source": [
    "### Graph stats"
   ]
  },
  {
   "cell_type": "code",
   "execution_count": null,
   "id": "f582f0ba-df4f-4c1f-9e85-914fac687de6",
   "metadata": {
    "tags": []
   },
   "outputs": [],
   "source": [
    "def print_graph_stats(graph, genes, snps):\n",
    "    G = nx.Graph()\n",
    "    for edge in graph.edge_index.t().numpy():\n",
    "        G.add_edge(edge[0], edge[1])\n",
    "\n",
    "    num_nodes = G.number_of_nodes()\n",
    "    num_genes = len(genes)\n",
    "    num_snps = len(snps)\n",
    "    num_edges = G.number_of_edges()\n",
    "    num_connected_components = nx.number_connected_components(G)\n",
    "    average_degree = np.mean([degree for _, degree in G.degree()])\n",
    "    median_degree = np.median([degree for _, degree in G.degree()])\n",
    "    std_degree = np.std([degree for _, degree in G.degree()])\n",
    "    density = nx.density(G)\n",
    "    assortativity = nx.degree_assortativity_coefficient(G)\n",
    "\n",
    "    print(f\"Number of nodes: {num_nodes}\")\n",
    "    print(\"Number of SNP nodes:\", num_snps)\n",
    "    print(\"Number of Gene nodes:\", num_genes)\n",
    "    print(f\"Number of edges: {num_edges}\")\n",
    "    print(f\"Number of connected components: {num_connected_components}\")\n",
    "    print(f\"Average degree: {average_degree:.2f}\")\n",
    "    print(f\"Median degree: {median_degree}\")\n",
    "    print(f\"Standard deviation of degree: {std_degree:.2f}\")\n",
    "    print(f\"Density: {density:.10f}\")\n",
    "    print(f\"Assortativity: {assortativity:.10f}\")\n",
    "\n",
    "\n",
    "# For the combined graph\n",
    "print(\"Combined graph stats:\")\n",
    "print_graph_stats(graph, genes, snps)"
   ]
  }
 ],
 "metadata": {
  "kernelspec": {
   "display_name": "Python 3 (ipykernel)",
   "language": "python",
   "name": "python3"
  },
  "language_info": {
   "codemirror_mode": {
    "name": "ipython",
    "version": 3
   },
   "file_extension": ".py",
   "mimetype": "text/x-python",
   "name": "python",
   "nbconvert_exporter": "python",
   "pygments_lexer": "ipython3",
   "version": "3.11.3"
  },
  "toc-autonumbering": false
 },
 "nbformat": 4,
 "nbformat_minor": 5
}
