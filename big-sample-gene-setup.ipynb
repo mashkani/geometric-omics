{
 "cells": [
  {
   "cell_type": "markdown",
   "id": "8856a85c-cc6c-4e9c-9466-fafee6338628",
   "metadata": {
    "tags": []
   },
   "source": [
    "## README \n",
    "Website: https://www.eqtlgen.org/phase1.html\n",
    "\n",
    "Paper: https://www.nature.com/articles/s41588-021-00913-zhttps://www.nature.com/articles/s41588-021-00913-z\n",
    "\n",
    "This Jupyter notebook README covers cis-eQTL and trans-eQTL results from the eQTLGen project. The dataset includes significant files for both cis-eQTL and trans-eQTL analyses. \n",
    "\n",
    "Files contain various columns with information on P-value, SNP rs ID, SNP chromosome, SNP position, assessed and not assessed alleles, Z-score, ENSG and HGNC names of eQTL genes, gene chromosome, gene position, number of cohorts, number of samples, false discovery rate, and Bonferroni-corrected P-value.\n",
    "\n",
    "The cis-eQTL analysis includes 19,250 genes expressed in blood, with SNP-gene combinations within 1Mb from the gene center and tested in at least 2 cohorts. The trans-eQTL analysis tests 19,960 genes expressed in blood and 10,317 trait-associated SNPs based on GWAS Catalog, Immunobase, and Astle et al. study. Trans-eQTL combinations have a distance of >5Mb and were tested in at least 2 cohorts.\n",
    "\n",
    "The FDR calculation uses a pruned set of SNPs for trans-eQTL mapping and permutation-based FDR calculation. Crossmapping filters are applied to identify and remove potential artifacts in trans-eQTL results, recalculating the FDR afterward. Note that the full results file has not been filtered for cross-mapping effects, which may lead to artifacts in the data.\n",
    "\n",
    "The code below demonstrates the process of creating a graph-based representation of the combined cis and trans-eQTL data using PyTorch Geometric. This process can be broken down into several steps:\n",
    "\n",
    "1. Combine cis and trans dataframes: The code begins by concatenating the cis and trans dataframes into a single dataframe named 'data', which contains information on both cis-eQTL and trans-eQTL results. This combined dataset simplifies the process of working with the data and ensures that all relevant information is contained within a single data structure.\n",
    "\n",
    "2. Create mappings for genes and SNPs: To represent the genes and SNPs as nodes in the graph, integer indices are assigned to each unique gene and SNP. This is done using dictionaries called 'gene_to_idx' and 'snp_to_idx', which map the gene and SNP identifiers to their corresponding integer indices.\n",
    "\n",
    "3. Generate node type labels: Node type labels are created using PyTorch tensors, distinguishing between gene nodes (assigned a label of 0) and SNP nodes (assigned a label of 1). This differentiation is useful for various graph-based analyses and machine learning tasks that require knowledge of node types.\n",
    "\n",
    "4. Create edges based on gene and SNP indices: Edges in the graph represent the relationships between genes and SNPs. These edges are created by iterating over the 'data' dataframe and extracting the corresponding gene and SNP indices from the previously created mappings. The edges are then represented as a PyTorch tensor with a long data type.\n",
    "\n",
    "5. Convert edges to undirected: Since the relationships between genes and SNPs are undirected, the edges in the graph should also be undirected. This is achieved using the 'to_undirected()' function from PyTorch Geometric, which ensures that the graph correctly represents the underlying biology.\n",
    "\n",
    "6. Create a PyTorch Geometric graph: Finally, the graph is created using the PyTorch Geometric 'Data' class. The node types and edge indices are used as inputs to instantiate the graph object, which can then be utilized for further analysis and visualization.\n",
    "\n",
    "The resulting 'graph' object is a PyTorch Geometric representation of the combined cis and trans-eQTL data. The prediction task is to predict new association edges given the training edges, with the task type being link prediction. Below are a few important graph statistics:\n",
    "\n",
    "- Number of nodes: 3681495\n",
    "- Number of SNP nodes: 3664025\n",
    "- Number of Gene nodes: 17470\n",
    "- Number of edges: 10567450\n",
    "- Number of connected components: 424\n",
    "- Average degree: 5.74\n",
    "- Median degree: 2.0\n",
    "- Standard deviation of degree: 69.81\n",
    "- Density: 0.0000015594\n",
    "- Assortativity: -0.2267915607\n",
    "\n",
    "The prediction task is to predict new association edges given the training edges, with the task type being link prediction. The data splitting is random while maintaining an equal proportion of cis- and trans- associations."
   ]
  },
  {
   "cell_type": "markdown",
   "id": "4ae5b6c8-9ccf-4c35-b6dc-e8755e8c251e",
   "metadata": {},
   "source": [
    "## Data Setup "
   ]
  },
  {
   "cell_type": "markdown",
   "id": "6c312ac4-08e0-46ae-b18a-10f81e6b2ddb",
   "metadata": {},
   "source": [
    "### Libraries"
   ]
  },
  {
   "cell_type": "code",
   "execution_count": 2,
   "id": "08f0bf7f-91fc-4010-bb06-e5e4434c3c73",
   "metadata": {
    "tags": []
   },
   "outputs": [],
   "source": [
    "import os\n",
    "\n",
    "import numpy as np\n",
    "import pandas as pd\n",
    "import matplotlib.pyplot as plt\n",
    "import pyarrow.parquet as pq\n",
    "\n",
    "\n",
    "from sklearn.model_selection import train_test_split\n",
    "from sklearn.metrics import precision_recall_fscore_support, roc_auc_score, average_precision_score\n",
    "from sklearn.preprocessing import LabelEncoder\n",
    "from sklearn.preprocessing import StandardScaler\n",
    "\n",
    "\n",
    "import torch\n",
    "import torch.nn as nn\n",
    "import torch.nn.functional as F\n",
    "import torch.nn.init as init\n",
    "\n",
    "import torch_sparse\n",
    "\n",
    "import torch_geometric\n",
    "from torch_geometric.data import Data\n",
    "from torch_geometric.nn import GCNConv, GATConv\n",
    "from torch_geometric.utils import to_undirected, negative_sampling, subgraph\n",
    "from torch_geometric.transforms import RandomLinkSplit\n",
    "\n",
    "import networkx as nx\n",
    "from ogb.io import DatasetSaver\n",
    "from ogb.linkproppred import LinkPropPredDataset"
   ]
  },
  {
   "cell_type": "code",
   "execution_count": 3,
   "id": "c398fa63-4d51-40a5-baab-d085d2beaf66",
   "metadata": {},
   "outputs": [
    {
     "name": "stdout",
     "output_type": "stream",
     "text": [
      "PyTorch version: 2.0.0+cu118\n",
      "PyTorch Geometric version: 2.3.1\n"
     ]
    }
   ],
   "source": [
    "print(f\"PyTorch version: {torch.__version__}\")\n",
    "print(f\"PyTorch Geometric version: {torch_geometric.__version__}\")"
   ]
  },
  {
   "cell_type": "code",
   "execution_count": 4,
   "id": "95bdb806-8661-4798-93a7-85e08eff2304",
   "metadata": {
    "tags": []
   },
   "outputs": [
    {
     "name": "stdout",
     "output_type": "stream",
     "text": [
      "Using NVIDIA GeForce RTX 3060 Ti (cuda)\n",
      "CUDA version: 11.8\n",
      "Number of CUDA devices: 1\n"
     ]
    }
   ],
   "source": [
    "if torch.cuda.is_available():\n",
    "    device = torch.device(\"cuda\")          # Current CUDA device\n",
    "    print(f\"Using {torch.cuda.get_device_name()} ({device})\")\n",
    "    print(f\"CUDA version: {torch.version.cuda}\")\n",
    "    print(f\"Number of CUDA devices: {torch.cuda.device_count()}\")\n",
    "else:\n",
    "    print(\"CUDA is not available on this device.\")"
   ]
  },
  {
   "cell_type": "markdown",
   "id": "bb69c8a8-38f2-40f2-885e-f5106d8b6240",
   "metadata": {},
   "source": [
    "### Define gene mapping function"
   ]
  },
  {
   "cell_type": "code",
   "execution_count": 5,
   "id": "0da49136-551a-497d-aebc-2c352d2bf5a9",
   "metadata": {},
   "outputs": [],
   "source": [
    "data_types = {'Pvalue': float, 'SNP': str, 'SNPChr': str, 'SNPPos': float,\n",
    "              'AssessedAllele': str, 'OtherAllele': str, 'Zscore': float,\n",
    "              'Gene': str, 'GeneSymbol': str, 'GeneChr': str, 'GenePos': float,\n",
    "              'NrCohorts': int, 'NrSamples': int, 'FDR': float,\n",
    "              'BonferroniP': float, 'GeneStart': float, 'GeneEnd': float}\n",
    "gene_data = pd.read_csv(\"sig-combined-with-genes.csv\", dtype=data_types)\n",
    "\n",
    "def add_gene_start_end(df, gene_data):\n",
    "    # Group gene_data by Gene\n",
    "    gene_groups = gene_data.groupby('Gene')\n",
    "\n",
    "    # Create a dictionary mapping genes to their GeneStart and GeneEnd values\n",
    "    gene_dict = {\n",
    "        gene: {'GeneStart': group['GeneStart'].iloc[0], 'GeneEnd': group['GeneEnd'].iloc[0]}\n",
    "        for gene, group in gene_groups\n",
    "        if not group['GeneStart'].isna().any() and not group['GeneEnd'].isna().any()\n",
    "    }\n",
    "\n",
    "    # Set GeneStart and GeneEnd columns of the dataframe using the gene_dict\n",
    "    df = df.assign(\n",
    "        GeneStart=df['Gene'].apply(lambda gene: gene_dict.get(gene, {}).get('GeneStart')),\n",
    "        GeneEnd=df['Gene'].apply(lambda gene: gene_dict.get(gene, {}).get('GeneEnd'))\n",
    "    )\n",
    "\n",
    "    # Drop rows with missing GeneStart or GeneEnd values\n",
    "    df.dropna(subset=['GeneStart', 'GeneEnd'], inplace=True)\n",
    "\n",
    "    return df"
   ]
  },
  {
   "cell_type": "markdown",
   "id": "583de81d-d721-4177-bb5c-f056a1ed773c",
   "metadata": {
    "tags": []
   },
   "source": [
    "### Load files"
   ]
  },
  {
   "cell_type": "code",
   "execution_count": 6,
   "id": "714f8035-3326-47e5-a2a2-08a756cb242b",
   "metadata": {
    "tags": []
   },
   "outputs": [
    {
     "name": "stdout",
     "output_type": "stream",
     "text": [
      "CPU times: total: 6min 8s\n",
      "Wall time: 7min 15s\n"
     ]
    }
   ],
   "source": [
    "%%time\n",
    "# Read the Parquet files into Pandas DataFrames\n",
    "trans = pd.read_parquet('big-trans.parquet')\n",
    "cis = pd.read_parquet('big-cis.parquet')\n",
    "\n",
    "sig_trans = pd.read_parquet('sig-trans.parquet')\n",
    "sig_cis = pd.read_parquet('sig-cis.parquet')"
   ]
  },
  {
   "cell_type": "code",
   "execution_count": 7,
   "id": "20f9cce3-433c-458f-a383-7b530c1e00db",
   "metadata": {
    "tags": []
   },
   "outputs": [
    {
     "name": "stdout",
     "output_type": "stream",
     "text": [
      "trans length: 203547746\n",
      "cis length: 127341798\n",
      "sig_trans length: 59786\n",
      "sig_cis length: 10507664\n"
     ]
    }
   ],
   "source": [
    "# Print DataFrame lengths\n",
    "print(\"trans length:\", len(trans))\n",
    "print(\"cis length:\", len(cis))\n",
    "print(\"sig_trans length:\", len(sig_trans))\n",
    "print(\"sig_cis length:\", len(sig_cis))"
   ]
  },
  {
   "cell_type": "code",
   "execution_count": 8,
   "id": "7e70c5fe-c6a3-4046-8481-1bc30946a62c",
   "metadata": {},
   "outputs": [
    {
     "name": "stdout",
     "output_type": "stream",
     "text": [
      "CPU times: total: 44.7 s\n",
      "Wall time: 6min 3s\n"
     ]
    }
   ],
   "source": [
    "%%time\n",
    "trans_sample = trans.sample(frac=0.25, random_state=42)\n",
    "cis_sample = cis.sample(frac=0.25, random_state=42)"
   ]
  },
  {
   "cell_type": "markdown",
   "id": "54e0e41b-0dc6-4468-86aa-ed0027650bec",
   "metadata": {},
   "source": [
    "### Filter by Sig"
   ]
  },
  {
   "cell_type": "code",
   "execution_count": 9,
   "id": "09f919b2-b112-4e01-8a5d-9fae26e44e57",
   "metadata": {
    "tags": []
   },
   "outputs": [
    {
     "name": "stdout",
     "output_type": "stream",
     "text": [
      "CPU times: total: 3min 29s\n",
      "Wall time: 7min 38s\n"
     ]
    }
   ],
   "source": [
    "%%time\n",
    "# For trans_sample DataFrame\n",
    "trans_sample['Sig'] = trans_sample.apply(lambda row: 1 if row.name in sig_trans.index and row.equals(sig_trans.loc[row.name]) else 0, axis=1)\n",
    "\n",
    "# For cis_sample DataFrame\n",
    "cis_sample['Sig'] = cis_sample.apply(lambda row: 1 if row.name in sig_cis.index and row.equals(sig_cis.loc[row.name]) else 0, axis=1)\n"
   ]
  },
  {
   "cell_type": "markdown",
   "id": "1f58a942-25d4-4997-9d26-a4fbbc65b62f",
   "metadata": {},
   "source": [
    "### Map gene start/end info to dfs"
   ]
  },
  {
   "cell_type": "code",
   "execution_count": 10,
   "id": "29b3b7a9-8dcd-4e6b-9ac6-84b92c254167",
   "metadata": {
    "tags": []
   },
   "outputs": [
    {
     "name": "stdout",
     "output_type": "stream",
     "text": [
      "CPU times: total: 28.3 s\n",
      "Wall time: 1min 28s\n"
     ]
    }
   ],
   "source": [
    "%%time\n",
    "trans_sample = add_gene_start_end(trans_sample, gene_data)\n",
    "cis_sample = add_gene_start_end(cis_sample, gene_data)"
   ]
  },
  {
   "cell_type": "code",
   "execution_count": 16,
   "id": "5e78b3f8-0479-495f-a5e3-7292e602fb3c",
   "metadata": {
    "tags": []
   },
   "outputs": [
    {
     "name": "stdout",
     "output_type": "stream",
     "text": [
      "Index(['Pvalue', 'SNP', 'SNPChr', 'SNPPos', 'AssessedAllele', 'OtherAllele',\n",
      "       'Zscore', 'Gene', 'GeneSymbol', 'GeneChr', 'GenePos', 'NrCohorts',\n",
      "       'NrSamples', 'FDR', 'BonferroniP', 'Sig', 'GeneStart', 'GeneEnd'],\n",
      "      dtype='object')\n",
      "Index(['Pvalue', 'SNP', 'SNPChr', 'SNPPos', 'AssessedAllele', 'OtherAllele',\n",
      "       'Zscore', 'Gene', 'GeneSymbol', 'GeneChr', 'GenePos', 'NrCohorts',\n",
      "       'NrSamples', 'FDR', 'BonferroniP', 'Sig', 'GeneStart', 'GeneEnd'],\n",
      "      dtype='object')\n"
     ]
    }
   ],
   "source": [
    "print(cis_sample.columns)\n",
    "print(trans_sample.columns)"
   ]
  },
  {
   "cell_type": "code",
   "execution_count": 15,
   "id": "cc4f07c5-3b7a-4f62-8ecc-59d4bab1d55a",
   "metadata": {
    "tags": []
   },
   "outputs": [
    {
     "name": "stdout",
     "output_type": "stream",
     "text": [
      "22914564\n",
      "34537653\n",
      "127341798\n",
      "203547746\n"
     ]
    }
   ],
   "source": [
    "print(len(cis_sample))\n",
    "print(len(trans_sample))\n",
    "print(len(cis))\n",
    "print(len(trans))"
   ]
  },
  {
   "cell_type": "markdown",
   "id": "040b2d2d-6906-4138-ba7f-6142ed754df2",
   "metadata": {
    "tags": []
   },
   "source": [
    "### To CSV"
   ]
  },
  {
   "cell_type": "code",
   "execution_count": 17,
   "id": "66d69c4a-6268-4c5b-9995-f0be3824c854",
   "metadata": {
    "tags": []
   },
   "outputs": [
    {
     "name": "stdout",
     "output_type": "stream",
     "text": [
      "CPU times: total: 4min 3s\n",
      "Wall time: 5min 33s\n"
     ]
    }
   ],
   "source": [
    "%%time\n",
    "trans_sample.to_csv('trans-sample-genes.csv')\n",
    "cis_sample.to_csv('cis-sample-genes.csv')"
   ]
  },
  {
   "cell_type": "code",
   "execution_count": null,
   "id": "ed21125d-3ea7-40b9-8876-4e5e234b7ba4",
   "metadata": {},
   "outputs": [],
   "source": []
  }
 ],
 "metadata": {
  "kernelspec": {
   "display_name": "Python 3 (ipykernel)",
   "language": "python",
   "name": "python3"
  },
  "language_info": {
   "codemirror_mode": {
    "name": "ipython",
    "version": 3
   },
   "file_extension": ".py",
   "mimetype": "text/x-python",
   "name": "python",
   "nbconvert_exporter": "python",
   "pygments_lexer": "ipython3",
   "version": "3.11.3"
  },
  "toc-autonumbering": false
 },
 "nbformat": 4,
 "nbformat_minor": 5
}
