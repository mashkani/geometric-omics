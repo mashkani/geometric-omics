{
 "cells": [
  {
   "cell_type": "markdown",
   "id": "00910a35-ffbc-4497-bcc8-21f008c326fb",
   "metadata": {},
   "source": [
    "# FinnGen - Data Engineering Notebook"
   ]
  },
  {
   "cell_type": "markdown",
   "id": "a6fd8be8-14cc-4d80-a944-76c5235c078b",
   "metadata": {
    "jp-MarkdownHeadingCollapsed": true,
    "tags": []
   },
   "source": [
    "## Data Descriptions"
   ]
  },
  {
   "cell_type": "markdown",
   "id": "c1846d70-3c09-4b34-a05b-b72706e828fa",
   "metadata": {
    "jp-MarkdownHeadingCollapsed": true,
    "tags": []
   },
   "source": [
    "### gwas"
   ]
  },
  {
   "cell_type": "markdown",
   "id": "8535f83a-6468-41bb-b3dc-6e678783c019",
   "metadata": {
    "jp-MarkdownHeadingCollapsed": true,
    "tags": []
   },
   "source": [
    "\n",
    "The `{endpoint}.gz` file has the following structure:\n",
    "\n",
    "| Column name   | Description                                                 |\n",
    "| ------------- | ----------------------------------------------------------- |\n",
    "| #chrom        | chromosome on build GRCh38 (1-23)                           |\n",
    "| pos           | position in base pairs on build GRCh38                       |\n",
    "| ref           | reference allele                                            |\n",
    "| alt           | alternative allele (effect allele)                           |\n",
    "| rsids         | variant identifier                                          |\n",
    "| nearest_genes | nearest gene(s) (comma separated) from variant               |\n",
    "| pval          | p-value from [source]                                        |\n",
    "| mlogp         | -log10(p-value)                                             |\n",
    "| beta          | effect size (log(OR) scale) estimated with [source]          |\n",
    "| sebeta        | standard error of effect size estimated with [source]        |\n",
    "| af_alt        | alternative (effect) allele frequency                        |\n",
    "| af_alt_cases  | alternative (effect) allele frequency among cases            |\n",
    "| af_alt_controls | alternative (effect) allele frequency among controls         |\n"
   ]
  },
  {
   "cell_type": "markdown",
   "id": "4fe3adfe-4cf2-4364-8436-13fbd76cb5b8",
   "metadata": {
    "tags": []
   },
   "source": [
    "### causal"
   ]
  },
  {
   "cell_type": "markdown",
   "id": "ef7c3221-9d4e-480c-91fc-aff10d684f3b",
   "metadata": {},
   "source": [
    "Data taken from:\n",
    "\n",
    "[Functional characterization of T2D-associated SNP effects on baseline and ER stress-responsive β cell transcriptional activation](https://www.nature.com/articles/s41467-021-25514-6#MOESM8)"
   ]
  },
  {
   "cell_type": "markdown",
   "id": "7a7cea15-a49b-4ee2-87a5-bf625453328e",
   "metadata": {
    "tags": []
   },
   "source": [
    "### finemap"
   ]
  },
  {
   "cell_type": "markdown",
   "id": "10f3aafa-e866-463a-8cd1-a7416b1ff129",
   "metadata": {},
   "source": [
    "{endpoint}.SUSIE.snp.bgz` contains variant summaries with credible set information and has the following structure:\n",
    "\n",
    "| Column name    | Description                                                        |\n",
    "| -------------- | ------------------------------------------------------------------ |\n",
    "| trait          | endpoint name                                                      |\n",
    "| region         | chr:start-end                                                      |\n",
    "| v              | variant identifier                                                 |\n",
    "| rsid           | rs variant identifier                                              |\n",
    "| chromosome     | chromosome on build GRCh38 (1-22, X)                                |\n",
    "| position       | position in base pairs on build GRCh38                              |\n",
    "| allele1        | reference allele                                                   |\n",
    "| allele2        | alternative allele (effect allele)                                  |\n",
    "| maf            | minor allele frequency                                             |\n",
    "| beta           | effect size GWAS                                                   |\n",
    "| se             | standard error GWAS                                                |\n",
    "| p              | p-value GWAS                                                       |\n",
    "| mean           | posterior expectation of true effect size                           |\n",
    "| sd             | posterior standard deviation of true effect size                   |\n",
    "| prob           | posterior probability of association                                |\n",
    "| cs             | identifier of 95% credible set (-1 = variant is not part of credible set) |\n",
    "| lead_r2        | r2 value to a lead variant (the one with maximum PIP) in a credible set |\n",
    "| alphax         | posterior inclusion probability for the x-th single effect (x := 1..L where L is the number of single effects (causal variants) specified; default: L = 10) |"
   ]
  },
  {
   "cell_type": "markdown",
   "id": "018acd43-12a7-41be-bf26-fc1d03dd7ef7",
   "metadata": {
    "tags": []
   },
   "source": [
    "## Libraries"
   ]
  },
  {
   "cell_type": "code",
   "execution_count": 1,
   "id": "483d7bbb-33ef-4893-b03c-6173b7253544",
   "metadata": {
    "tags": []
   },
   "outputs": [
    {
     "name": "stdout",
     "output_type": "stream",
     "text": [
      "Python version: 3.11.3 (tags/v3.11.3:f3909b8, Apr  4 2023, 23:49:59) [MSC v.1934 64 bit (AMD64)]\n",
      "Pandas version: 2.0.1\n",
      "NumPy version: 1.24.3\n"
     ]
    }
   ],
   "source": [
    "import sys\n",
    "import pandas as pd\n",
    "import numpy as np\n",
    "\n",
    "\n",
    "print(\"Python version:\", sys.version)\n",
    "print(\"Pandas version:\", pd.__version__)\n",
    "print(\"NumPy version:\", np.__version__)"
   ]
  },
  {
   "cell_type": "markdown",
   "id": "445033a6-7000-4fb6-9c4d-cfe03f570b1c",
   "metadata": {
    "tags": []
   },
   "source": [
    "## Import data"
   ]
  },
  {
   "cell_type": "code",
   "execution_count": 2,
   "id": "d4345459-b1ef-477c-8f06-c8f54c194af0",
   "metadata": {
    "tags": []
   },
   "outputs": [],
   "source": [
    "# Read the 'finemap' file into a pandas DataFrame\n",
    "finemap = pd.read_csv('C:/Users/falty/Desktop/gwas-graph/FinnGen/data/finemapping_full_finngen_R9_T2D.SUSIE.snp.tsv', low_memory=False, sep='\\t')\n",
    "\n",
    "# Read the 'causal' file into a pandas DataFrame\n",
    "causal = pd.read_csv('C:/Users/falty/Desktop/gwas-graph/FinnGen/data/41467_2021_25514_MOESM8_ESM.csv', low_memory=False)\n",
    "\n",
    "# Read the 'gwas' file into a pandas DataFrame\n",
    "gwas = pd.read_csv('C:/Users/falty/Desktop/gwas-graph/FinnGen/data/summary_stats_finngen_R9_T2D.tsv', low_memory=False, sep='\\t')"
   ]
  },
  {
   "cell_type": "markdown",
   "id": "3610b12e-d085-49a4-91e8-273fcb9dad32",
   "metadata": {
    "tags": []
   },
   "source": [
    "## Explore data"
   ]
  },
  {
   "cell_type": "code",
   "execution_count": 3,
   "id": "e3742572-cf8b-48a5-a540-4b99d41324b1",
   "metadata": {
    "tags": []
   },
   "outputs": [
    {
     "data": {
      "text/html": [
       "<div>\n",
       "<style scoped>\n",
       "    .dataframe tbody tr th:only-of-type {\n",
       "        vertical-align: middle;\n",
       "    }\n",
       "\n",
       "    .dataframe tbody tr th {\n",
       "        vertical-align: top;\n",
       "    }\n",
       "\n",
       "    .dataframe thead th {\n",
       "        text-align: right;\n",
       "    }\n",
       "</style>\n",
       "<table border=\"1\" class=\"dataframe\">\n",
       "  <thead>\n",
       "    <tr style=\"text-align: right;\">\n",
       "      <th></th>\n",
       "      <th>#chrom</th>\n",
       "      <th>pos</th>\n",
       "      <th>ref</th>\n",
       "      <th>alt</th>\n",
       "      <th>rsids</th>\n",
       "      <th>nearest_genes</th>\n",
       "      <th>pval</th>\n",
       "      <th>mlogp</th>\n",
       "      <th>beta</th>\n",
       "      <th>sebeta</th>\n",
       "      <th>af_alt</th>\n",
       "      <th>af_alt_cases</th>\n",
       "      <th>af_alt_controls</th>\n",
       "    </tr>\n",
       "  </thead>\n",
       "  <tbody>\n",
       "    <tr>\n",
       "      <th>0</th>\n",
       "      <td>1</td>\n",
       "      <td>13668</td>\n",
       "      <td>G</td>\n",
       "      <td>A</td>\n",
       "      <td>rs2691328</td>\n",
       "      <td>OR4F5</td>\n",
       "      <td>0.944365</td>\n",
       "      <td>0.024860</td>\n",
       "      <td>-0.005926</td>\n",
       "      <td>0.084918</td>\n",
       "      <td>0.005842</td>\n",
       "      <td>0.005729</td>\n",
       "      <td>0.005863</td>\n",
       "    </tr>\n",
       "    <tr>\n",
       "      <th>1</th>\n",
       "      <td>1</td>\n",
       "      <td>14773</td>\n",
       "      <td>C</td>\n",
       "      <td>T</td>\n",
       "      <td>rs878915777</td>\n",
       "      <td>OR4F5</td>\n",
       "      <td>0.844305</td>\n",
       "      <td>0.073501</td>\n",
       "      <td>0.010088</td>\n",
       "      <td>0.051369</td>\n",
       "      <td>0.013495</td>\n",
       "      <td>0.013547</td>\n",
       "      <td>0.013485</td>\n",
       "    </tr>\n",
       "    <tr>\n",
       "      <th>2</th>\n",
       "      <td>1</td>\n",
       "      <td>15585</td>\n",
       "      <td>G</td>\n",
       "      <td>A</td>\n",
       "      <td>rs533630043</td>\n",
       "      <td>OR4F5</td>\n",
       "      <td>0.841908</td>\n",
       "      <td>0.074735</td>\n",
       "      <td>0.031464</td>\n",
       "      <td>0.157751</td>\n",
       "      <td>0.001113</td>\n",
       "      <td>0.001125</td>\n",
       "      <td>0.001110</td>\n",
       "    </tr>\n",
       "    <tr>\n",
       "      <th>3</th>\n",
       "      <td>1</td>\n",
       "      <td>16549</td>\n",
       "      <td>T</td>\n",
       "      <td>C</td>\n",
       "      <td>rs1262014613</td>\n",
       "      <td>OR4F5</td>\n",
       "      <td>0.343308</td>\n",
       "      <td>0.464316</td>\n",
       "      <td>0.241377</td>\n",
       "      <td>0.254711</td>\n",
       "      <td>0.000561</td>\n",
       "      <td>0.000620</td>\n",
       "      <td>0.000550</td>\n",
       "    </tr>\n",
       "    <tr>\n",
       "      <th>4</th>\n",
       "      <td>1</td>\n",
       "      <td>16567</td>\n",
       "      <td>G</td>\n",
       "      <td>C</td>\n",
       "      <td>rs1194064194</td>\n",
       "      <td>OR4F5</td>\n",
       "      <td>0.129883</td>\n",
       "      <td>0.886447</td>\n",
       "      <td>0.130736</td>\n",
       "      <td>0.086319</td>\n",
       "      <td>0.004170</td>\n",
       "      <td>0.004250</td>\n",
       "      <td>0.004154</td>\n",
       "    </tr>\n",
       "  </tbody>\n",
       "</table>\n",
       "</div>"
      ],
      "text/plain": [
       "   #chrom    pos ref alt         rsids nearest_genes      pval     mlogp   \n",
       "0       1  13668   G   A     rs2691328         OR4F5  0.944365  0.024860  \\\n",
       "1       1  14773   C   T   rs878915777         OR4F5  0.844305  0.073501   \n",
       "2       1  15585   G   A   rs533630043         OR4F5  0.841908  0.074735   \n",
       "3       1  16549   T   C  rs1262014613         OR4F5  0.343308  0.464316   \n",
       "4       1  16567   G   C  rs1194064194         OR4F5  0.129883  0.886447   \n",
       "\n",
       "       beta    sebeta    af_alt  af_alt_cases  af_alt_controls  \n",
       "0 -0.005926  0.084918  0.005842      0.005729         0.005863  \n",
       "1  0.010088  0.051369  0.013495      0.013547         0.013485  \n",
       "2  0.031464  0.157751  0.001113      0.001125         0.001110  \n",
       "3  0.241377  0.254711  0.000561      0.000620         0.000550  \n",
       "4  0.130736  0.086319  0.004170      0.004250         0.004154  "
      ]
     },
     "execution_count": 3,
     "metadata": {},
     "output_type": "execute_result"
    }
   ],
   "source": [
    "gwas.head()"
   ]
  },
  {
   "cell_type": "code",
   "execution_count": 4,
   "id": "8c5681a2-85f4-4fd3-a3b9-de8824651d5c",
   "metadata": {
    "tags": []
   },
   "outputs": [
    {
     "data": {
      "text/html": [
       "<div>\n",
       "<style scoped>\n",
       "    .dataframe tbody tr th:only-of-type {\n",
       "        vertical-align: middle;\n",
       "    }\n",
       "\n",
       "    .dataframe tbody tr th {\n",
       "        vertical-align: top;\n",
       "    }\n",
       "\n",
       "    .dataframe thead th {\n",
       "        text-align: right;\n",
       "    }\n",
       "</style>\n",
       "<table border=\"1\" class=\"dataframe\">\n",
       "  <thead>\n",
       "    <tr style=\"text-align: right;\">\n",
       "      <th></th>\n",
       "      <th>Trait</th>\n",
       "      <th>IndexSNP</th>\n",
       "      <th>SNP</th>\n",
       "      <th>CHR</th>\n",
       "      <th>POSITION</th>\n",
       "      <th>LOCUS</th>\n",
       "      <th>REF_ALLELE</th>\n",
       "      <th>ALT_ALLELE</th>\n",
       "      <th>MAF_AFR</th>\n",
       "      <th>MAF_AMR</th>\n",
       "      <th>...</th>\n",
       "      <th>REF_HIGHER_Under_Erstress</th>\n",
       "      <th>ALT_HIGHER_Under_Erstress</th>\n",
       "      <th>ATAC_Peak</th>\n",
       "      <th>PDX1</th>\n",
       "      <th>FOXA2</th>\n",
       "      <th>H2A.Z</th>\n",
       "      <th>H3K27ac</th>\n",
       "      <th>MAFB</th>\n",
       "      <th>NKX6.1</th>\n",
       "      <th>CTCF</th>\n",
       "    </tr>\n",
       "  </thead>\n",
       "  <tbody>\n",
       "    <tr>\n",
       "      <th>0</th>\n",
       "      <td>T2D</td>\n",
       "      <td>rs2820446</td>\n",
       "      <td>rs4846567</td>\n",
       "      <td>1</td>\n",
       "      <td>219750717</td>\n",
       "      <td>LYPAL1</td>\n",
       "      <td>G</td>\n",
       "      <td>T</td>\n",
       "      <td>0.05</td>\n",
       "      <td>0.41</td>\n",
       "      <td>...</td>\n",
       "      <td>0.0</td>\n",
       "      <td>-1</td>\n",
       "      <td>1</td>\n",
       "      <td>0</td>\n",
       "      <td>0</td>\n",
       "      <td>0</td>\n",
       "      <td>0</td>\n",
       "      <td>0</td>\n",
       "      <td>0</td>\n",
       "      <td>0</td>\n",
       "    </tr>\n",
       "    <tr>\n",
       "      <th>1</th>\n",
       "      <td>T2D</td>\n",
       "      <td>rs35072907</td>\n",
       "      <td>rs72904726</td>\n",
       "      <td>1</td>\n",
       "      <td>51339332</td>\n",
       "      <td>FAF1</td>\n",
       "      <td>T</td>\n",
       "      <td>C</td>\n",
       "      <td>0.02</td>\n",
       "      <td>0.08</td>\n",
       "      <td>...</td>\n",
       "      <td>0.0</td>\n",
       "      <td>0</td>\n",
       "      <td>1</td>\n",
       "      <td>0</td>\n",
       "      <td>0</td>\n",
       "      <td>0</td>\n",
       "      <td>0</td>\n",
       "      <td>0</td>\n",
       "      <td>0</td>\n",
       "      <td>1</td>\n",
       "    </tr>\n",
       "    <tr>\n",
       "      <th>2</th>\n",
       "      <td>T2D</td>\n",
       "      <td>rs1861612</td>\n",
       "      <td>rs10197480</td>\n",
       "      <td>2</td>\n",
       "      <td>230521253</td>\n",
       "      <td>DNER</td>\n",
       "      <td>C</td>\n",
       "      <td>T</td>\n",
       "      <td>0.53</td>\n",
       "      <td>0.54</td>\n",
       "      <td>...</td>\n",
       "      <td>0.0</td>\n",
       "      <td>0</td>\n",
       "      <td>0</td>\n",
       "      <td>0</td>\n",
       "      <td>0</td>\n",
       "      <td>0</td>\n",
       "      <td>0</td>\n",
       "      <td>0</td>\n",
       "      <td>0</td>\n",
       "      <td>0</td>\n",
       "    </tr>\n",
       "    <tr>\n",
       "      <th>3</th>\n",
       "      <td>T2D</td>\n",
       "      <td>rs34669198</td>\n",
       "      <td>rs13026123</td>\n",
       "      <td>2</td>\n",
       "      <td>45654050</td>\n",
       "      <td>SRBD1</td>\n",
       "      <td>T</td>\n",
       "      <td>A</td>\n",
       "      <td>0.09</td>\n",
       "      <td>0.09</td>\n",
       "      <td>...</td>\n",
       "      <td>1.0</td>\n",
       "      <td>0</td>\n",
       "      <td>0</td>\n",
       "      <td>0</td>\n",
       "      <td>0</td>\n",
       "      <td>0</td>\n",
       "      <td>0</td>\n",
       "      <td>0</td>\n",
       "      <td>0</td>\n",
       "      <td>0</td>\n",
       "    </tr>\n",
       "    <tr>\n",
       "      <th>4</th>\n",
       "      <td>T2D</td>\n",
       "      <td>rs3923113</td>\n",
       "      <td>rs6713419</td>\n",
       "      <td>2</td>\n",
       "      <td>165508300</td>\n",
       "      <td>GRB14,COBLL1</td>\n",
       "      <td>T</td>\n",
       "      <td>C</td>\n",
       "      <td>0.76</td>\n",
       "      <td>0.29</td>\n",
       "      <td>...</td>\n",
       "      <td>0.0</td>\n",
       "      <td>0</td>\n",
       "      <td>0</td>\n",
       "      <td>0</td>\n",
       "      <td>0</td>\n",
       "      <td>0</td>\n",
       "      <td>0</td>\n",
       "      <td>0</td>\n",
       "      <td>0</td>\n",
       "      <td>0</td>\n",
       "    </tr>\n",
       "  </tbody>\n",
       "</table>\n",
       "<p>5 rows × 43 columns</p>\n",
       "</div>"
      ],
      "text/plain": [
       "  Trait    IndexSNP         SNP CHR   POSITION         LOCUS REF_ALLELE   \n",
       "0   T2D   rs2820446   rs4846567   1  219750717        LYPAL1          G  \\\n",
       "1   T2D  rs35072907  rs72904726   1   51339332          FAF1          T   \n",
       "2   T2D   rs1861612  rs10197480   2  230521253          DNER          C   \n",
       "3   T2D  rs34669198  rs13026123   2   45654050         SRBD1          T   \n",
       "4   T2D   rs3923113   rs6713419   2  165508300  GRB14,COBLL1          T   \n",
       "\n",
       "  ALT_ALLELE  MAF_AFR  MAF_AMR  ...  REF_HIGHER_Under_Erstress   \n",
       "0          T     0.05     0.41  ...                        0.0  \\\n",
       "1          C     0.02     0.08  ...                        0.0   \n",
       "2          T     0.53     0.54  ...                        0.0   \n",
       "3          A     0.09     0.09  ...                        1.0   \n",
       "4          C     0.76     0.29  ...                        0.0   \n",
       "\n",
       "   ALT_HIGHER_Under_Erstress ATAC_Peak PDX1 FOXA2  H2A.Z  H3K27ac  MAFB   \n",
       "0                         -1         1    0     0      0        0     0  \\\n",
       "1                          0         1    0     0      0        0     0   \n",
       "2                          0         0    0     0      0        0     0   \n",
       "3                          0         0    0     0      0        0     0   \n",
       "4                          0         0    0     0      0        0     0   \n",
       "\n",
       "   NKX6.1  CTCF  \n",
       "0       0     0  \n",
       "1       0     1  \n",
       "2       0     0  \n",
       "3       0     0  \n",
       "4       0     0  \n",
       "\n",
       "[5 rows x 43 columns]"
      ]
     },
     "execution_count": 4,
     "metadata": {},
     "output_type": "execute_result"
    }
   ],
   "source": [
    "causal.head()"
   ]
  },
  {
   "cell_type": "code",
   "execution_count": 5,
   "id": "dc659323-8943-4e41-9f41-5cd0c8e2c17e",
   "metadata": {
    "tags": []
   },
   "outputs": [
    {
     "data": {
      "text/html": [
       "<div>\n",
       "<style scoped>\n",
       "    .dataframe tbody tr th:only-of-type {\n",
       "        vertical-align: middle;\n",
       "    }\n",
       "\n",
       "    .dataframe tbody tr th {\n",
       "        vertical-align: top;\n",
       "    }\n",
       "\n",
       "    .dataframe thead th {\n",
       "        text-align: right;\n",
       "    }\n",
       "</style>\n",
       "<table border=\"1\" class=\"dataframe\">\n",
       "  <thead>\n",
       "    <tr style=\"text-align: right;\">\n",
       "      <th></th>\n",
       "      <th>trait</th>\n",
       "      <th>region</th>\n",
       "      <th>v</th>\n",
       "      <th>rsid</th>\n",
       "      <th>chromosome</th>\n",
       "      <th>position</th>\n",
       "      <th>allele1</th>\n",
       "      <th>allele2</th>\n",
       "      <th>maf</th>\n",
       "      <th>beta</th>\n",
       "      <th>...</th>\n",
       "      <th>lbf_variable1</th>\n",
       "      <th>lbf_variable2</th>\n",
       "      <th>lbf_variable3</th>\n",
       "      <th>lbf_variable4</th>\n",
       "      <th>lbf_variable5</th>\n",
       "      <th>lbf_variable6</th>\n",
       "      <th>lbf_variable7</th>\n",
       "      <th>lbf_variable8</th>\n",
       "      <th>lbf_variable9</th>\n",
       "      <th>lbf_variable10</th>\n",
       "    </tr>\n",
       "  </thead>\n",
       "  <tbody>\n",
       "    <tr>\n",
       "      <th>0</th>\n",
       "      <td>T2D</td>\n",
       "      <td>chr1:18908743-21908743</td>\n",
       "      <td>1:18908743:G:A</td>\n",
       "      <td>chr1_18908743_G_A</td>\n",
       "      <td>chr1</td>\n",
       "      <td>18908743</td>\n",
       "      <td>G</td>\n",
       "      <td>A</td>\n",
       "      <td>0.000438</td>\n",
       "      <td>-0.143377</td>\n",
       "      <td>...</td>\n",
       "      <td>-1.448766</td>\n",
       "      <td>-0.536436</td>\n",
       "      <td>-0.533681</td>\n",
       "      <td>-0.531823</td>\n",
       "      <td>-0.531294</td>\n",
       "      <td>-0.532036</td>\n",
       "      <td>-0.533612</td>\n",
       "      <td>-0.535413</td>\n",
       "      <td>-0.536846</td>\n",
       "      <td>-0.537469</td>\n",
       "    </tr>\n",
       "    <tr>\n",
       "      <th>1</th>\n",
       "      <td>T2D</td>\n",
       "      <td>chr1:18908743-21908743</td>\n",
       "      <td>1:18909023:T:C</td>\n",
       "      <td>chr1_18909023_T_C</td>\n",
       "      <td>chr1</td>\n",
       "      <td>18909023</td>\n",
       "      <td>T</td>\n",
       "      <td>C</td>\n",
       "      <td>0.198418</td>\n",
       "      <td>-0.008341</td>\n",
       "      <td>...</td>\n",
       "      <td>-1.325844</td>\n",
       "      <td>-0.352317</td>\n",
       "      <td>-0.350020</td>\n",
       "      <td>-0.348464</td>\n",
       "      <td>-0.348012</td>\n",
       "      <td>-0.348617</td>\n",
       "      <td>-0.349921</td>\n",
       "      <td>-0.351417</td>\n",
       "      <td>-0.352614</td>\n",
       "      <td>-0.353139</td>\n",
       "    </tr>\n",
       "    <tr>\n",
       "      <th>2</th>\n",
       "      <td>T2D</td>\n",
       "      <td>chr1:18908743-21908743</td>\n",
       "      <td>1:18909112:G:A</td>\n",
       "      <td>chr1_18909112_G_A</td>\n",
       "      <td>chr1</td>\n",
       "      <td>18909112</td>\n",
       "      <td>G</td>\n",
       "      <td>A</td>\n",
       "      <td>0.159798</td>\n",
       "      <td>-0.006078</td>\n",
       "      <td>...</td>\n",
       "      <td>-1.561368</td>\n",
       "      <td>-0.529649</td>\n",
       "      <td>-0.526932</td>\n",
       "      <td>-0.525097</td>\n",
       "      <td>-0.524573</td>\n",
       "      <td>-0.525301</td>\n",
       "      <td>-0.526853</td>\n",
       "      <td>-0.528628</td>\n",
       "      <td>-0.530041</td>\n",
       "      <td>-0.530656</td>\n",
       "    </tr>\n",
       "    <tr>\n",
       "      <th>3</th>\n",
       "      <td>T2D</td>\n",
       "      <td>chr1:18908743-21908743</td>\n",
       "      <td>1:18909164:T:C</td>\n",
       "      <td>chr1_18909164_T_C</td>\n",
       "      <td>chr1</td>\n",
       "      <td>18909164</td>\n",
       "      <td>T</td>\n",
       "      <td>C</td>\n",
       "      <td>0.168400</td>\n",
       "      <td>-0.004160</td>\n",
       "      <td>...</td>\n",
       "      <td>-1.657574</td>\n",
       "      <td>-0.652146</td>\n",
       "      <td>-0.649198</td>\n",
       "      <td>-0.647204</td>\n",
       "      <td>-0.646632</td>\n",
       "      <td>-0.647420</td>\n",
       "      <td>-0.649103</td>\n",
       "      <td>-0.651028</td>\n",
       "      <td>-0.652563</td>\n",
       "      <td>-0.653231</td>\n",
       "    </tr>\n",
       "    <tr>\n",
       "      <th>4</th>\n",
       "      <td>T2D</td>\n",
       "      <td>chr1:18908743-21908743</td>\n",
       "      <td>1:18909192:C:CTACG</td>\n",
       "      <td>chr1_18909192_C_CTACG</td>\n",
       "      <td>chr1</td>\n",
       "      <td>18909192</td>\n",
       "      <td>C</td>\n",
       "      <td>CTACG</td>\n",
       "      <td>0.000248</td>\n",
       "      <td>0.149161</td>\n",
       "      <td>...</td>\n",
       "      <td>-1.565444</td>\n",
       "      <td>-0.628124</td>\n",
       "      <td>-0.625089</td>\n",
       "      <td>-0.623034</td>\n",
       "      <td>-0.622444</td>\n",
       "      <td>-0.623254</td>\n",
       "      <td>-0.624986</td>\n",
       "      <td>-0.626968</td>\n",
       "      <td>-0.628549</td>\n",
       "      <td>-0.629239</td>\n",
       "    </tr>\n",
       "  </tbody>\n",
       "</table>\n",
       "<p>5 rows × 66 columns</p>\n",
       "</div>"
      ],
      "text/plain": [
       "  trait                  region                   v                   rsid   \n",
       "0   T2D  chr1:18908743-21908743      1:18908743:G:A      chr1_18908743_G_A  \\\n",
       "1   T2D  chr1:18908743-21908743      1:18909023:T:C      chr1_18909023_T_C   \n",
       "2   T2D  chr1:18908743-21908743      1:18909112:G:A      chr1_18909112_G_A   \n",
       "3   T2D  chr1:18908743-21908743      1:18909164:T:C      chr1_18909164_T_C   \n",
       "4   T2D  chr1:18908743-21908743  1:18909192:C:CTACG  chr1_18909192_C_CTACG   \n",
       "\n",
       "  chromosome  position allele1 allele2       maf      beta  ...   \n",
       "0       chr1  18908743       G       A  0.000438 -0.143377  ...  \\\n",
       "1       chr1  18909023       T       C  0.198418 -0.008341  ...   \n",
       "2       chr1  18909112       G       A  0.159798 -0.006078  ...   \n",
       "3       chr1  18909164       T       C  0.168400 -0.004160  ...   \n",
       "4       chr1  18909192       C   CTACG  0.000248  0.149161  ...   \n",
       "\n",
       "   lbf_variable1  lbf_variable2  lbf_variable3  lbf_variable4  lbf_variable5   \n",
       "0      -1.448766      -0.536436      -0.533681      -0.531823      -0.531294  \\\n",
       "1      -1.325844      -0.352317      -0.350020      -0.348464      -0.348012   \n",
       "2      -1.561368      -0.529649      -0.526932      -0.525097      -0.524573   \n",
       "3      -1.657574      -0.652146      -0.649198      -0.647204      -0.646632   \n",
       "4      -1.565444      -0.628124      -0.625089      -0.623034      -0.622444   \n",
       "\n",
       "   lbf_variable6  lbf_variable7  lbf_variable8  lbf_variable9  lbf_variable10  \n",
       "0      -0.532036      -0.533612      -0.535413      -0.536846       -0.537469  \n",
       "1      -0.348617      -0.349921      -0.351417      -0.352614       -0.353139  \n",
       "2      -0.525301      -0.526853      -0.528628      -0.530041       -0.530656  \n",
       "3      -0.647420      -0.649103      -0.651028      -0.652563       -0.653231  \n",
       "4      -0.623254      -0.624986      -0.626968      -0.628549       -0.629239  \n",
       "\n",
       "[5 rows x 66 columns]"
      ]
     },
     "execution_count": 5,
     "metadata": {},
     "output_type": "execute_result"
    }
   ],
   "source": [
    "finemap.head()"
   ]
  },
  {
   "cell_type": "code",
   "execution_count": 6,
   "id": "95020fad-f610-4ae3-876a-ebcaef2b2985",
   "metadata": {
    "tags": []
   },
   "outputs": [],
   "source": [
    "def explore_dataframe(dataframe, dataframe_name):\n",
    "    print(\"=== DataFrame Exploration: {} ===\".format(dataframe_name))\n",
    "    print(\"Number of Rows: {}\".format(dataframe.shape[0]))\n",
    "    print(\"Number of Columns: {}\".format(dataframe.shape[1]))\n",
    "    print(\"Column Names: {}\".format(\", \".join(dataframe.columns)))\n",
    "    print(\"\\nData Types of Columns:\")\n",
    "    print(dataframe.dtypes)\n",
    "    print(\"\\nNull Value Counts:\")\n",
    "    print(dataframe.isnull().sum())\n",
    "    print(\"\\nSummary Statistics:\")\n",
    "    print(dataframe.describe())\n",
    "    print(\"=== End of DataFrame Exploration: {} ===\\n\".format(dataframe_name))\n",
    "    \n",
    "#explore_dataframe(gwas, \"gwas\")\n",
    "#explore_dataframe(causal, \"causal\")\n",
    "#explore_dataframe(finemap, \"finemap\")"
   ]
  },
  {
   "cell_type": "markdown",
   "id": "c46b7243-adf9-42ac-9026-c5ac411159b6",
   "metadata": {
    "tags": []
   },
   "source": [
    "## Data manipulation"
   ]
  },
  {
   "cell_type": "markdown",
   "id": "e8573bef-1cda-4e57-b3fa-f2b40333620a",
   "metadata": {
    "tags": []
   },
   "source": [
    "### Adjust `chromosome` in `finemap`"
   ]
  },
  {
   "cell_type": "code",
   "execution_count": 7,
   "id": "825d60e9-ce09-43d2-8b4d-e5f47a942e90",
   "metadata": {
    "tags": []
   },
   "outputs": [],
   "source": [
    "# Extract number from 'chromosome' and replace 'X' with '23'\n",
    "finemap['chromosome'] = finemap['chromosome'].str.extract('(\\d+|X)', expand=False).replace('X', '23')\n",
    "\n",
    "# Convert 'chromosome' column to 'int64'\n",
    "finemap['chromosome'] = finemap['chromosome'].astype('int64')\n",
    "\n",
    "# Assertions to verify the data manipulations\n",
    "assert finemap['chromosome'].dtype == 'int64'  \n",
    "assert finemap['chromosome'].isin(range(1, 24)).all()  "
   ]
  },
  {
   "cell_type": "markdown",
   "id": "c30d6716-fce0-4ca7-9f2b-0070bda37dce",
   "metadata": {
    "tags": []
   },
   "source": [
    "### Create `causal` in `gwas`"
   ]
  },
  {
   "cell_type": "code",
   "execution_count": 8,
   "id": "1d5eab4c-69e0-4d1e-bbc0-9873645c5141",
   "metadata": {
    "tags": []
   },
   "outputs": [],
   "source": [
    "gwas['causal'] = gwas['rsids'].isin(causal['SNP']).astype(int)\n",
    "\n",
    "# Assertions to verify the data manipulation\n",
    "assert 'causal' in gwas.columns  \n",
    "assert gwas['causal'].isin([0, 1]).all()"
   ]
  },
  {
   "cell_type": "markdown",
   "id": "cf557dd6-8479-4055-a68d-ab8d60e9ecfa",
   "metadata": {
    "tags": []
   },
   "source": [
    "### Create `LD` in `gwas`"
   ]
  },
  {
   "cell_type": "markdown",
   "id": "e75a305c-95d1-4cf2-951b-48a1d3d5ba4d",
   "metadata": {},
   "source": [
    "1. Filter the `finemap` DataFrame by keeping rows where the 'lead_r2' value is between 0.8 (inclusive) and 1 (exclusive). Assign the filtered DataFrame to `filtered_finemap`.\n",
    "2. Extract the position from the 'v' column in `filtered_finemap` and create a new column named 'position' to store the extracted values.\n",
    "3. Set the index of `filtered_finemap` to a MultiIndex consisting of the columns 'chromosome' and 'position'.\n",
    "4. Sort the index of `filtered_finemap`.\n",
    "5. Create a set of tuples from the index of `filtered_finemap`.\n",
    "6. Map the existence of tuples ('#chrom', 'pos') from the `gwas` DataFrame to their presence in the `filtered_finemap_tuples` set. Assign the resulting boolean values to the 'LD' column in the `gwas` DataFrame after converting them to integers.\n",
    "7. Calculate the sum of the 'LD' column in the `gwas` DataFrame and assign the result to the variable `ld_sum`."
   ]
  },
  {
   "cell_type": "code",
   "execution_count": 9,
   "id": "38e0d43d-6db4-43a0-be64-ea9463464af8",
   "metadata": {
    "tags": []
   },
   "outputs": [
    {
     "name": "stdout",
     "output_type": "stream",
     "text": [
      "58674\n"
     ]
    }
   ],
   "source": [
    "# Filter finemap by 'lead_r2' between 0.8 (inclusive) and 1 (exclusive)\n",
    "filtered_finemap = finemap[(finemap['lead_r2'] > 0.001) & (finemap['lead_r2'] < 1)].copy()\n",
    "\n",
    "# Extract the position from 'v' column in filtered_finemap\n",
    "filtered_finemap['position'] = filtered_finemap['v'].str.split(':').str.get(1).astype(int)\n",
    "\n",
    "# Create multi-index for fast selection and sort the index\n",
    "filtered_finemap.set_index(['chromosome', 'position'], inplace=True)\n",
    "filtered_finemap.sort_index(inplace=True)\n",
    "\n",
    "# Check existence in filtered_finemap using index\n",
    "gwas['LD'] = np.asarray(gwas.set_index(['#chrom', 'pos']).index.isin(filtered_finemap.index), dtype=int)\n",
    "\n",
    "ld_sum = gwas['LD'].sum()\n",
    "print(ld_sum)\n",
    "\n",
    "# Assertions to verify the data manipulations\n",
    "assert len(filtered_finemap) <= ld_sum\n",
    "assert '#chrom' in gwas.columns\n",
    "assert 'pos' in gwas.columns\n",
    "assert 'LD' in gwas.columns\n",
    "assert gwas['LD'].isin([0, 1]).all()\n",
    "assert gwas['LD'].sum() >= 1"
   ]
  },
  {
   "cell_type": "markdown",
   "id": "ac2fc83d-0075-431d-8e8d-b888c718d056",
   "metadata": {
    "tags": []
   },
   "source": [
    "### Create `lead` in `gwas`"
   ]
  },
  {
   "cell_type": "markdown",
   "id": "52a7a129-a86a-4de5-a169-4e0cc2d4ac3a",
   "metadata": {},
   "source": [
    "1. Ensure the necessary columns ('lead_r2' in `finemap`, '#chrom', 'LD', 'rsids' in `gwas`) exist in the respective DataFrames.\n",
    "2. Filter the lead variants from the `finemap` DataFrame based on the value of 'lead_r2' equal to 1 and assign the result to `lead_variants`.\n",
    "3. Extract the position from the 'v' column in `lead_variants`, convert it to integer and assign the result to a new column named 'position_lead'. \n",
    "4. Initialize the 'lead' column in the `gwas` DataFrame with an empty string.\n",
    "5. Filter the `gwas` DataFrame where the value of 'LD' is equal to 1, and assign it to `gwas_filtered`.\n",
    "6. Merge `gwas_filtered` and `lead_variants` on chromosomes.\n",
    "7. Calculate the absolute difference in position between the merged DataFrames and assign the result to a new column named 'position_difference'.\n",
    "8. Group the merged DataFrame by the '#chrom' and 'pos' columns from the `gwas` DataFrame, and find the index of the row with the minimum 'position_difference' for each group.\n",
    "9. Using the indexes obtained in the previous step, locate the corresponding rows in the merged DataFrame. These are the closest variants.\n",
    "10. Update the 'lead' column in the `gwas` DataFrame with the 'rsids' from the closest variants.\n",
    "11. Replace any empty strings in the 'lead' column of the `gwas` DataFrame with 'NA'.\n",
    "12. Calculate the count of non-NA values in the 'lead' column of the `gwas` DataFrame and assign the result to `lead_counts`.\n",
    "13. Ensure the following conditions:\n",
    "    - 'lead' column exists in `gwas` DataFrame\n",
    "    - 'lead' column type is Object\n",
    "    - `lead_counts` is greater than 0\n",
    "    - `gwas['lead']` contains values from `gwas['rsids']`."
   ]
  },
  {
   "cell_type": "code",
   "execution_count": 10,
   "id": "422b7041-24af-48f4-8405-30167d0c4a52",
   "metadata": {
    "tags": []
   },
   "outputs": [
    {
     "name": "stdout",
     "output_type": "stream",
     "text": [
      "29\n"
     ]
    }
   ],
   "source": [
    "assert 'lead_r2' in finemap.columns\n",
    "assert '#chrom' in gwas.columns\n",
    "assert 'LD' in gwas.columns\n",
    "assert 'rsids' in gwas.columns\n",
    "\n",
    "# Step 1: Filter the lead variants from the finemap dataset\n",
    "lead_variants = finemap[finemap['lead_r2'] == 1].copy()\n",
    "\n",
    "# Extract the position from 'v' column in lead_variants\n",
    "lead_variants['position_lead'] = lead_variants['v'].str.split(':').str.get(1).astype(int) # name changed here\n",
    "\n",
    "# Step 2: Initialize the 'lead' column in the gwas dataset\n",
    "gwas['lead'] = ''\n",
    "\n",
    "# Filter the gwas dataset\n",
    "gwas_filtered = gwas[gwas['LD'] == 1]\n",
    "\n",
    "# Merge gwas and lead_variants on chromosome\n",
    "merged = gwas_filtered.merge(lead_variants, left_on='#chrom', right_on='chromosome')\n",
    "\n",
    "# Calculate the absolute difference in position and get the index of the variant with the closest position\n",
    "merged['position_difference'] = (merged['position_lead'] - merged['pos']).abs()\n",
    "idxmin = merged.groupby(['#chrom', 'pos'])['position_difference'].idxmin()\n",
    "closest_variants = merged.loc[idxmin]\n",
    "\n",
    "# Copy rsids to the 'lead' column\n",
    "gwas.loc[closest_variants.index, 'lead'] = closest_variants['rsids']\n",
    "\n",
    "# Replace empty strings in 'lead' column with 'NA'\n",
    "gwas['lead'] = gwas['lead'].replace('', 'NA')\n",
    "\n",
    "# Check the counts\n",
    "lead_counts = gwas['lead'].value_counts().loc[lambda x: x.index != 'NA'].sum()\n",
    "\n",
    "assert any(gwas['LD'] == 1)\n",
    "assert 'lead' in gwas.columns  \n",
    "assert gwas['lead'].dtype == 'O'  \n",
    "assert lead_counts > 0 \n",
    "\n",
    "# Create a set for efficient lookup\n",
    "rsids_set = set(gwas['rsids'].values)\n",
    "\n",
    "# Add column indicating if 'lead' exists in 'rsids' set\n",
    "gwas['lead_in_rsids'] = gwas['lead'].apply(lambda x: x in rsids_set)\n",
    "assert any(gwas['lead'].apply(lambda x: x in rsids_set))\n",
    "\n",
    "# Check that for every row where 'LD' equals 1, 'lead' exists in 'rsids'\n",
    "assert any(gwas[(gwas['LD'] == 1)]['lead_in_rsids'])\n",
    "\n",
    "count = sum(gwas[(gwas['LD'] == 1)]['lead_in_rsids'])\n",
    "print(count)"
   ]
  },
  {
   "cell_type": "markdown",
   "id": "d5e503e8-1146-47d2-a25c-0f57905d4994",
   "metadata": {
    "tags": []
   },
   "source": [
    "### Extract `trait` from `finemap` to `gwas`"
   ]
  },
  {
   "cell_type": "code",
   "execution_count": 11,
   "id": "159fbc16-3d9c-4e80-b8dd-271a2088b20d",
   "metadata": {
    "tags": []
   },
   "outputs": [],
   "source": [
    "unique_trait = finemap['trait'].unique()\n",
    "trait_string = unique_trait[0]\n",
    "gwas['trait'] = trait_string"
   ]
  },
  {
   "cell_type": "markdown",
   "id": "8a4694be-acb8-4d22-9053-d985fe51fef6",
   "metadata": {
    "tags": []
   },
   "source": [
    "## Export csv"
   ]
  },
  {
   "cell_type": "code",
   "execution_count": 12,
   "id": "ca8ebd33-8d99-4a37-85f0-c707d04333b7",
   "metadata": {
    "tags": []
   },
   "outputs": [],
   "source": [
    "#gwas.to_csv('gwas-causal.csv', index=False)"
   ]
  }
 ],
 "metadata": {
  "kernelspec": {
   "display_name": "Python 3 (ipykernel)",
   "language": "python",
   "name": "python3"
  },
  "language_info": {
   "codemirror_mode": {
    "name": "ipython",
    "version": 3
   },
   "file_extension": ".py",
   "mimetype": "text/x-python",
   "name": "python",
   "nbconvert_exporter": "python",
   "pygments_lexer": "ipython3",
   "version": "3.11.3"
  }
 },
 "nbformat": 4,
 "nbformat_minor": 5
}
