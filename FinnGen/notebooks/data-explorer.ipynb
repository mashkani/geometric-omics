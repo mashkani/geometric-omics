{
 "cells": [
  {
   "cell_type": "markdown",
   "id": "00910a35-ffbc-4497-bcc8-21f008c326fb",
   "metadata": {},
   "source": [
    "# Data Explorer Notebook"
   ]
  },
  {
   "cell_type": "markdown",
   "id": "a6fd8be8-14cc-4d80-a944-76c5235c078b",
   "metadata": {},
   "source": [
    "## Data Description"
   ]
  },
  {
   "cell_type": "markdown",
   "id": "a99bc773-edf8-4567-8767-a742662cb8ef",
   "metadata": {
    "tags": []
   },
   "source": [
    "### [FinnGen](https://finngen.gitbook.io/documentation/)"
   ]
  },
  {
   "cell_type": "markdown",
   "id": "a0ef1038-e49a-4607-9c7d-5ce6daf1d94b",
   "metadata": {},
   "source": [
    "- The FinnGen research project is an expedition to the frontier of genomics and medicine, with significant discoveries potentially arising from any one of Finland’s 500,000 biomedical pioneers.\n",
    "- The project brings together a nation-wide network of Finnish biobanks, with every Finn able to participate in the study by giving biobank consent.\n",
    "- As of the last update, there were 589,000 samples available, with a goal to reach 520,000 by 2023. The latest data freeze included combined genotype and health registry data from 473,681 individuals.\n",
    "- The study utilizes samples collected by a nationwide network of Finnish biobanks and combines genome information with digital health care data from national health registries.\n",
    "- There's a need for samples from all over Finland as solutions in the field of personalized healthcare can be found only by looking at large populations. Every Finn can be a part of the FinnGen study by giving a biobank consent.\n",
    "- The genome data produced during the project is owned by the Finnish biobanks and remains available for research purposes. The medical breakthroughs that arise from the project are expected to benefit health care systems and patients globally.\n",
    "- The FinnGen research project is collaborative, involving all the same actors as drug development, with the aim to speed up the emergence of new innovations.\n",
    "- The project's data freeze 9 results and summary statistics are now available, consisting of over 377,200 individuals, almost 20.2 M variants, and 2,272 disease endpoints. Results can be browsed online using the FinnGen web browser, and the summary statistics downloaded.\n",
    "- The University of Helsinki is the organization responsible for the study, and the nationwide network of Finnish biobanks is participating in the study, thus covering the whole of Finland. The Helsinki Biobank coordinates the sample collection.\n",
    "- For more information, the project can be contacted at finngen-info@helsinki.fi."
   ]
  },
  {
   "cell_type": "markdown",
   "id": "2b126e4c-9322-4a56-b5e5-9d9ca148f5aa",
   "metadata": {
    "tags": []
   },
   "source": [
    "## Purpose of Notebook"
   ]
  },
  {
   "cell_type": "markdown",
   "id": "8535f83a-6468-41bb-b3dc-6e678783c019",
   "metadata": {},
   "source": [
    "### Final Ouput\n",
    "\n",
    "The DataFrame has the following structure and columns:\n",
    "\n",
    "- Total Rows: 20,170,006\n",
    "- Columns: 16\n",
    "\n",
    "Column Names and Descriptions:\n",
    "\n",
    "1. #chrom: Chromosome number based on the GRCh38 build (1-23).\n",
    "2. pos: Position of the variant in base pairs on the GRCh38 build.\n",
    "3. ref: Reference allele for the variant.\n",
    "4. alt: Alternative allele (effect allele) for the variant.\n",
    "5. rsids: Identifier for the variant.\n",
    "6. nearest_genes: Nearest gene(s) to the variant, separated by commas.\n",
    "7. pval: p-value associated with the variant. \n",
    "8. mlogp: Negative logarithm (base 10) of the p-value (log10(p-value)).\n",
    "9. beta: Effect size of the variant on a log odds ratio (OR) scale, estimated for the alternative allele.\n",
    "10. sebeta: Standard error of the effect size estimated for the variant.\n",
    "11. af_alt: Alternative (effect) allele frequency.\n",
    "12. af_alt_cases: Alternative (effect) allele frequency among cases.\n",
    "13. af_alt_controls: Alternative (effect) allele frequency among controls.\n",
    "14. causal: Defines whether the SNP is causal or not with the trait (1 = causal, 0 = not).\n",
    "15. LD: Defines whether the SNP is in linkage disequilibrium (LD) with the lead variant (r^2 > 0.8).\n",
    "16. lead: rsid of the lead variant SNP.\n",
    "17. trait: phenotype\n",
    "\n",
    "\n",
    "The memory usage of the DataFrame is approximately 2.3 GB."
   ]
  },
  {
   "cell_type": "markdown",
   "id": "018acd43-12a7-41be-bf26-fc1d03dd7ef7",
   "metadata": {
    "tags": []
   },
   "source": [
    "## Import data"
   ]
  },
  {
   "cell_type": "code",
   "execution_count": 1,
   "id": "483d7bbb-33ef-4893-b03c-6173b7253544",
   "metadata": {
    "tags": []
   },
   "outputs": [],
   "source": [
    "import pandas as pd"
   ]
  },
  {
   "cell_type": "code",
   "execution_count": 2,
   "id": "d4345459-b1ef-477c-8f06-c8f54c194af0",
   "metadata": {
    "tags": []
   },
   "outputs": [],
   "source": [
    "finemap = pd.read_csv('C:/Users/falty/Desktop/geometric-omics/FinnGenn/data/finemapping_full_finngen_R9_T2D.SUSIE.snp.tsv', low_memory=False, sep='\\t')\n",
    "causal = pd.read_csv('C:/Users/falty/Desktop/geometric-omics/FinnGenn/data/41467_2021_25514_MOESM8_ESM.csv', low_memory=False)\n",
    "gwas = pd.read_csv('C:/Users/falty/Desktop/geometric-omics/FinnGenn/data/summary_stats_finngen_R9_T2D.tsv', low_memory=False, sep='\\t')"
   ]
  },
  {
   "cell_type": "code",
   "execution_count": 3,
   "id": "95020fad-f610-4ae3-876a-ebcaef2b2985",
   "metadata": {
    "tags": []
   },
   "outputs": [
    {
     "name": "stdout",
     "output_type": "stream",
     "text": [
      "3057847\n",
      "43\n",
      "20170006\n"
     ]
    }
   ],
   "source": [
    "print(len(finemap))\n",
    "print(len(causal))\n",
    "print(len(gwas))"
   ]
  },
  {
   "cell_type": "code",
   "execution_count": 4,
   "id": "41974360-8480-4848-acaa-b41ece6ce69b",
   "metadata": {},
   "outputs": [
    {
     "name": "stdout",
     "output_type": "stream",
     "text": [
      "#chrom                   0\n",
      "pos                      0\n",
      "ref                      0\n",
      "alt                      0\n",
      "rsids              1366396\n",
      "nearest_genes       727855\n",
      "pval                     0\n",
      "mlogp                    0\n",
      "beta                     0\n",
      "sebeta                   0\n",
      "af_alt                   0\n",
      "af_alt_cases             0\n",
      "af_alt_controls          0\n",
      "dtype: int64\n"
     ]
    }
   ],
   "source": [
    "# Assuming gwas is your DataFrame\n",
    "null_values = gwas.isnull().sum()\n",
    "\n",
    "# Printing the null values count for each column\n",
    "print(null_values)"
   ]
  },
  {
   "cell_type": "code",
   "execution_count": 5,
   "id": "825d60e9-ce09-43d2-8b4d-e5f47a942e90",
   "metadata": {
    "tags": []
   },
   "outputs": [],
   "source": [
    "# Extract number from 'chromosome' and replace 'X' with '23'\n",
    "finemap['chromosome'] = finemap['chromosome'].str.extract('(\\d+|X)', expand=False).replace('X', '23')\n",
    "\n",
    "# Convert 'chromosome' column to 'int64'\n",
    "finemap['chromosome'] = finemap['chromosome'].astype('int64')"
   ]
  },
  {
   "cell_type": "markdown",
   "id": "c30d6716-fce0-4ca7-9f2b-0070bda37dce",
   "metadata": {
    "tags": []
   },
   "source": [
    "## Create `causal` col in `gwas`"
   ]
  },
  {
   "cell_type": "code",
   "execution_count": 6,
   "id": "1d5eab4c-69e0-4d1e-bbc0-9873645c5141",
   "metadata": {
    "tags": []
   },
   "outputs": [],
   "source": [
    "gwas['causal'] = gwas['rsids'].isin(causal['SNP']).astype(int)"
   ]
  },
  {
   "cell_type": "markdown",
   "id": "c46b7243-adf9-42ac-9026-c5ac411159b6",
   "metadata": {
    "tags": []
   },
   "source": [
    "## Create `LD` col in `gwas`"
   ]
  },
  {
   "cell_type": "code",
   "execution_count": null,
   "id": "f466790f-b6c8-4ce2-9d9d-2c67f8871045",
   "metadata": {},
   "outputs": [],
   "source": []
  },
  {
   "cell_type": "raw",
   "id": "d0049344-66c9-4d72-8304-9da8c6b2de72",
   "metadata": {
    "tags": []
   },
   "source": [
    "finemap['chromosome']"
   ]
  },
  {
   "cell_type": "code",
   "execution_count": 8,
   "id": "93893a28-efd0-4c59-bacd-7cee0cd07d51",
   "metadata": {
    "tags": []
   },
   "outputs": [
    {
     "data": {
      "text/plain": [
       "0            1\n",
       "1            1\n",
       "2            1\n",
       "3            1\n",
       "4            1\n",
       "            ..\n",
       "20170001    23\n",
       "20170002    23\n",
       "20170003    23\n",
       "20170004    23\n",
       "20170005    23\n",
       "Name: #chrom, Length: 20170006, dtype: int64"
      ]
     },
     "execution_count": 8,
     "metadata": {},
     "output_type": "execute_result"
    }
   ],
   "source": [
    "gwas['#chrom']"
   ]
  },
  {
   "cell_type": "code",
   "execution_count": 9,
   "id": "38e0d43d-6db4-43a0-be64-ea9463464af8",
   "metadata": {
    "tags": []
   },
   "outputs": [
    {
     "name": "stdout",
     "output_type": "stream",
     "text": [
      "4085\n",
      "4143\n"
     ]
    }
   ],
   "source": [
    "# Filter finemap by 'lead_r2' between 0.8 (inclusive) and 1 (exclusive)\n",
    "filtered_finemap = finemap[(finemap['lead_r2'] >= 0.8) & (finemap['lead_r2'] < 1)].copy()\n",
    "\n",
    "# Extract the position from 'v' column in filtered_finemap\n",
    "filtered_finemap.loc[:, 'position'] = filtered_finemap['v'].str.split(':').str.get(1).astype(int)\n",
    "\n",
    "# Create multi-index for fast selection and sort the index\n",
    "filtered_finemap.set_index(['chromosome', 'position'], inplace=True)\n",
    "filtered_finemap.sort_index(inplace=True)\n",
    "\n",
    "# Create a set of tuples from the index of filtered_finemap\n",
    "filtered_finemap_tuples = set(filtered_finemap.index)\n",
    "\n",
    "# Map '#chrom' and 'pos' tuples from gwas to their existence in filtered_finemap_tuples\n",
    "gwas['LD'] = list(map(int, gwas[['#chrom', 'pos']].apply(tuple, axis=1).isin(filtered_finemap_tuples)))\n",
    "\n",
    "ld_sum = gwas['LD'].sum()\n",
    "\n",
    "print(len(filtered_finemap))\n",
    "print(ld_sum)"
   ]
  },
  {
   "cell_type": "markdown",
   "id": "ac2fc83d-0075-431d-8e8d-b888c718d056",
   "metadata": {
    "tags": []
   },
   "source": [
    "## Create `lead` col in `gwas`"
   ]
  },
  {
   "cell_type": "code",
   "execution_count": 10,
   "id": "422b7041-24af-48f4-8405-30167d0c4a52",
   "metadata": {
    "tags": []
   },
   "outputs": [
    {
     "name": "stdout",
     "output_type": "stream",
     "text": [
      "265\n",
      "Index(['trait', 'region', 'v', 'rsid', 'allele1', 'allele2', 'maf', 'beta',\n",
      "       'se', 'p', 'mean', 'sd', 'prob', 'cs', 'cs_specific_prob', 'low_purity',\n",
      "       'lead_r2', 'mean_99', 'sd_99', 'prob_99', 'cs_99',\n",
      "       'cs_specific_prob_99', 'low_purity_99', 'lead_r2_99', 'alpha1',\n",
      "       'alpha2', 'alpha3', 'alpha4', 'alpha5', 'alpha6', 'alpha7', 'alpha8',\n",
      "       'alpha9', 'alpha10', 'mean1', 'mean2', 'mean3', 'mean4', 'mean5',\n",
      "       'mean6', 'mean7', 'mean8', 'mean9', 'mean10', 'sd1', 'sd2', 'sd3',\n",
      "       'sd4', 'sd5', 'sd6', 'sd7', 'sd8', 'sd9', 'sd10', 'lbf_variable1',\n",
      "       'lbf_variable2', 'lbf_variable3', 'lbf_variable4', 'lbf_variable5',\n",
      "       'lbf_variable6', 'lbf_variable7', 'lbf_variable8', 'lbf_variable9',\n",
      "       'lbf_variable10'],\n",
      "      dtype='object')\n",
      "4143\n"
     ]
    }
   ],
   "source": [
    "import numpy as np\n",
    "\n",
    "# Step 1: Filter the lead variants from the finemap dataset\n",
    "lead_variants = finemap[finemap['lead_r2'] == 1].copy()\n",
    "\n",
    "# Extract the position from 'v' column in lead_variants\n",
    "lead_variants['position'] = lead_variants['v'].str.split(':').str.get(1).astype(int)\n",
    "\n",
    "# Create multi-index for fast selection and sort the index\n",
    "lead_variants.set_index(['chromosome', 'position'], inplace=True)\n",
    "lead_variants.sort_index(inplace=True)\n",
    "\n",
    "# Step 2: Initialize the 'lead' column in the gwas dataset\n",
    "gwas['lead'] = ''\n",
    "\n",
    "# Step 3: Loop over the gwas dataset\n",
    "for idx, row in gwas[gwas['LD'] == 1].iterrows():\n",
    "    # Get the same chromosome variants from the lead_variants\n",
    "    same_chr_variants = lead_variants.loc[row['#chrom']]\n",
    "    \n",
    "    # If there are no lead variants on the same chromosome, skip this iteration\n",
    "    if same_chr_variants.empty:\n",
    "        continue\n",
    "\n",
    "    # Calculate the absolute difference in position and get the rsid of the variant with the closest position\n",
    "    position_difference = np.abs(pd.Series(same_chr_variants.index) - row['pos'])\n",
    "    closest_position = position_difference.idxmin()\n",
    "    lead_rsid = same_chr_variants.iloc[closest_position]['rsid']\n",
    "    \n",
    "    # Add the rsid to the 'lead' column in the gwas dataset\n",
    "    gwas.at[idx, 'lead'] = lead_rsid\n",
    "\n",
    "gwas['lead'] = gwas['lead'].replace('', 'NA')\n",
    "lead_counts = gwas['lead'].value_counts().loc[lambda x: x.index != 'NA'].sum()\n",
    "print(lead_counts)"
   ]
  },
  {
   "cell_type": "code",
   "execution_count": 13,
   "id": "159fbc16-3d9c-4e80-b8dd-271a2088b20d",
   "metadata": {
    "tags": []
   },
   "outputs": [],
   "source": [
    "unique_trait = finemap['trait'].unique()\n",
    "trait_string = unique_trait[0]\n",
    "gwas['trait'] = trait_string"
   ]
  },
  {
   "cell_type": "code",
   "execution_count": 14,
   "id": "4465adb0-f40d-4bd1-8a6a-4e134023a3f1",
   "metadata": {
    "tags": []
   },
   "outputs": [
    {
     "data": {
      "text/plain": [
       "Index(['#chrom', 'pos', 'ref', 'alt', 'rsids', 'nearest_genes', 'pval',\n",
       "       'mlogp', 'beta', 'sebeta', 'af_alt', 'af_alt_cases', 'af_alt_controls',\n",
       "       'causal', 'LD', 'lead', 'trait'],\n",
       "      dtype='object')"
      ]
     },
     "execution_count": 14,
     "metadata": {},
     "output_type": "execute_result"
    }
   ],
   "source": [
    "gwas.columns"
   ]
  },
  {
   "cell_type": "code",
   "execution_count": 15,
   "id": "ca8ebd33-8d99-4a37-85f0-c707d04333b7",
   "metadata": {
    "tags": []
   },
   "outputs": [],
   "source": [
    "gwas.to_csv('gwas-causal.csv', index=False)"
   ]
  }
 ],
 "metadata": {
  "kernelspec": {
   "display_name": "Python 3 (ipykernel)",
   "language": "python",
   "name": "python3"
  },
  "language_info": {
   "codemirror_mode": {
    "name": "ipython",
    "version": 3
   },
   "file_extension": ".py",
   "mimetype": "text/x-python",
   "name": "python",
   "nbconvert_exporter": "python",
   "pygments_lexer": "ipython3",
   "version": "3.11.3"
  }
 },
 "nbformat": 4,
 "nbformat_minor": 5
}
