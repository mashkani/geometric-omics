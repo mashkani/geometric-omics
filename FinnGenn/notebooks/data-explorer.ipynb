{
 "cells": [
  {
   "cell_type": "markdown",
   "id": "00910a35-ffbc-4497-bcc8-21f008c326fb",
   "metadata": {},
   "source": [
    "# Data Explorer Notebook"
   ]
  },
  {
   "cell_type": "markdown",
   "id": "a6fd8be8-14cc-4d80-a944-76c5235c078b",
   "metadata": {},
   "source": [
    "## Data Description"
   ]
  },
  {
   "cell_type": "markdown",
   "id": "a99bc773-edf8-4567-8767-a742662cb8ef",
   "metadata": {
    "tags": []
   },
   "source": [
    "### [FinnGen](https://finngen.gitbook.io/documentation/)"
   ]
  },
  {
   "cell_type": "markdown",
   "id": "a0ef1038-e49a-4607-9c7d-5ce6daf1d94b",
   "metadata": {},
   "source": [
    "- The FinnGen research project is an expedition to the frontier of genomics and medicine, with significant discoveries potentially arising from any one of Finland’s 500,000 biomedical pioneers.\n",
    "- The project brings together a nation-wide network of Finnish biobanks, with every Finn able to participate in the study by giving biobank consent.\n",
    "- As of the last update, there were 589,000 samples available, with a goal to reach 520,000 by 2023. The latest data freeze included combined genotype and health registry data from 473,681 individuals.\n",
    "- The study utilizes samples collected by a nationwide network of Finnish biobanks and combines genome information with digital health care data from national health registries【8†source】.\n",
    "- There's a need for samples from all over Finland as solutions in the field of personalized healthcare can be found only by looking at large populations. Every Finn can be a part of the FinnGen study by giving a biobank consent.\n",
    "- The genome data produced during the project is owned by the Finnish biobanks and remains available for research purposes. The medical breakthroughs that arise from the project are expected to benefit health care systems and patients globally.\n",
    "- The FinnGen research project is collaborative, involving all the same actors as drug development, with the aim to speed up the emergence of new innovations.\n",
    "- The project's data freeze 9 results and summary statistics are now available, consisting of over 377,200 individuals, almost 20.2 M variants, and 2,272 disease endpoints. Results can be browsed online using the FinnGen web browser, and the summary statistics downloaded.\n",
    "- The University of Helsinki is the organization responsible for the study, and the nationwide network of Finnish biobanks is participating in the study, thus covering the whole of Finland. The Helsinki Biobank coordinates the sample collection.\n",
    "- For more information, the project can be contacted at finngen-info@helsinki.fi."
   ]
  },
  {
   "cell_type": "markdown",
   "id": "c30d6716-fce0-4ca7-9f2b-0070bda37dce",
   "metadata": {
    "tags": []
   },
   "source": [
    "## Import data"
   ]
  },
  {
   "cell_type": "code",
   "execution_count": 1,
   "id": "483d7bbb-33ef-4893-b03c-6173b7253544",
   "metadata": {
    "tags": []
   },
   "outputs": [],
   "source": [
    "import pandas as pd"
   ]
  },
  {
   "cell_type": "code",
   "execution_count": 2,
   "id": "d4345459-b1ef-477c-8f06-c8f54c194af0",
   "metadata": {
    "tags": []
   },
   "outputs": [],
   "source": [
    "finemap = pd.read_csv('~/Desktop/geometric-omics/FinnGenn/data/finemapping_summary_finngen_R9_RX_PARACETAMOL_NSAID.SUSIE.cred.summary.tsv', low_memory=False, sep='\\t')\n",
    "gwas = pd.read_csv('~/Desktop/geometric-omics/FinnGenn/data/summary_stats_finngen_R9_RX_PARACETAMOL_NSAID.tsv', low_memory=False, sep='\\t')"
   ]
  },
  {
   "cell_type": "code",
   "execution_count": 3,
   "id": "818c08f2-6ac3-4bec-bd70-223544408a55",
   "metadata": {
    "tags": []
   },
   "outputs": [
    {
     "name": "stdout",
     "output_type": "stream",
     "text": [
      "18\n"
     ]
    }
   ],
   "source": [
    "# ref match\n",
    "finemap['ref'] = finemap['rsid'].str.split('_').str[-1]\n",
    "finemap['ref'] = finemap['ref'].astype(str)\n",
    "gwas['ref'] = gwas['ref'].astype(str)\n",
    "\n",
    "# alt match\n",
    "finemap['alt'] = finemap['rsid'].str.split('_').str[-1].str[-1]\n",
    "finemap['alt'] = finemap['alt'].astype(str)\n",
    "gwas['alt'] = gwas['alt'].astype(str)\n",
    "\n",
    "# pos match\n",
    "finemap['v'] = finemap['v'].astype(str)\n",
    "finemap['v'] = finemap['v'].str.split(':').str[1]\n",
    "finemap['v'] = finemap['v'].astype('int64')\n",
    "\n",
    "# chrom match\n",
    "finemap['#chrom'] = finemap['rsid'].str.extract(r'chr(\\d+)_')\n",
    "finemap['#chrom'] = finemap['#chrom'].astype('int64')\n",
    "gwas['#chrom'] = gwas['#chrom'].astype('int64')\n",
    "\n",
    "# Create the new 'causal' column\n",
    "gwas['causal'] = gwas.apply(lambda row: 1 if ((row['pos'] in finemap['v'].values) and (row['ref'] in finemap['ref'].values) and (row['#chrom'] in finemap['#chrom'].values) and (row['alt'] in finemap['alt'].values)) else 0, axis=1)\n",
    "\n",
    "total = gwas['causal'].sum()\n",
    "print(total)"
   ]
  },
  {
   "cell_type": "code",
   "execution_count": 4,
   "id": "45cf88cf-2464-40a0-ba9d-e35da99ad6d6",
   "metadata": {
    "tags": []
   },
   "outputs": [
    {
     "name": "stdout",
     "output_type": "stream",
     "text": [
      "RX_PARACETAMOL_NSAID\n"
     ]
    }
   ],
   "source": [
    "unique_trait = finemap['trait'].unique()\n",
    "trait_string = unique_trait[0]\n",
    "print(trait_string)"
   ]
  },
  {
   "cell_type": "code",
   "execution_count": 5,
   "id": "8d0e3ac4-40fb-4bf4-bdfa-999eec12ec7c",
   "metadata": {
    "tags": []
   },
   "outputs": [],
   "source": [
    "gwas['trait'] = trait_string"
   ]
  },
  {
   "cell_type": "code",
   "execution_count": 6,
   "id": "0b7c0ed4-860d-4c18-a73c-591277547f2d",
   "metadata": {
    "tags": []
   },
   "outputs": [
    {
     "data": {
      "text/html": [
       "<div>\n",
       "<style scoped>\n",
       "    .dataframe tbody tr th:only-of-type {\n",
       "        vertical-align: middle;\n",
       "    }\n",
       "\n",
       "    .dataframe tbody tr th {\n",
       "        vertical-align: top;\n",
       "    }\n",
       "\n",
       "    .dataframe thead th {\n",
       "        text-align: right;\n",
       "    }\n",
       "</style>\n",
       "<table border=\"1\" class=\"dataframe\">\n",
       "  <thead>\n",
       "    <tr style=\"text-align: right;\">\n",
       "      <th></th>\n",
       "      <th>#chrom</th>\n",
       "      <th>pos</th>\n",
       "      <th>ref</th>\n",
       "      <th>alt</th>\n",
       "      <th>rsids</th>\n",
       "      <th>nearest_genes</th>\n",
       "      <th>pval</th>\n",
       "      <th>mlogp</th>\n",
       "      <th>beta</th>\n",
       "      <th>sebeta</th>\n",
       "      <th>af_alt</th>\n",
       "      <th>af_alt_cases</th>\n",
       "      <th>af_alt_controls</th>\n",
       "      <th>causal</th>\n",
       "      <th>trait</th>\n",
       "    </tr>\n",
       "  </thead>\n",
       "  <tbody>\n",
       "    <tr>\n",
       "      <th>0</th>\n",
       "      <td>1</td>\n",
       "      <td>13668</td>\n",
       "      <td>G</td>\n",
       "      <td>A</td>\n",
       "      <td>rs2691328</td>\n",
       "      <td>OR4F5</td>\n",
       "      <td>0.618421</td>\n",
       "      <td>0.208716</td>\n",
       "      <td>-0.039244</td>\n",
       "      <td>0.078788</td>\n",
       "      <td>0.005845</td>\n",
       "      <td>0.005842</td>\n",
       "      <td>0.005858</td>\n",
       "      <td>0</td>\n",
       "      <td>RX_PARACETAMOL_NSAID</td>\n",
       "    </tr>\n",
       "    <tr>\n",
       "      <th>1</th>\n",
       "      <td>1</td>\n",
       "      <td>14773</td>\n",
       "      <td>C</td>\n",
       "      <td>T</td>\n",
       "      <td>rs878915777</td>\n",
       "      <td>OR4F5</td>\n",
       "      <td>0.852267</td>\n",
       "      <td>0.069424</td>\n",
       "      <td>-0.009138</td>\n",
       "      <td>0.049071</td>\n",
       "      <td>0.013500</td>\n",
       "      <td>0.013499</td>\n",
       "      <td>0.013502</td>\n",
       "      <td>0</td>\n",
       "      <td>RX_PARACETAMOL_NSAID</td>\n",
       "    </tr>\n",
       "    <tr>\n",
       "      <th>2</th>\n",
       "      <td>1</td>\n",
       "      <td>15585</td>\n",
       "      <td>G</td>\n",
       "      <td>A</td>\n",
       "      <td>rs533630043</td>\n",
       "      <td>OR4F5</td>\n",
       "      <td>0.687459</td>\n",
       "      <td>0.162753</td>\n",
       "      <td>0.060661</td>\n",
       "      <td>0.150784</td>\n",
       "      <td>0.001112</td>\n",
       "      <td>0.001115</td>\n",
       "      <td>0.001095</td>\n",
       "      <td>0</td>\n",
       "      <td>RX_PARACETAMOL_NSAID</td>\n",
       "    </tr>\n",
       "    <tr>\n",
       "      <th>3</th>\n",
       "      <td>1</td>\n",
       "      <td>16549</td>\n",
       "      <td>T</td>\n",
       "      <td>C</td>\n",
       "      <td>rs1262014613</td>\n",
       "      <td>OR4F5</td>\n",
       "      <td>0.798057</td>\n",
       "      <td>0.097966</td>\n",
       "      <td>0.062197</td>\n",
       "      <td>0.243085</td>\n",
       "      <td>0.000563</td>\n",
       "      <td>0.000561</td>\n",
       "      <td>0.000572</td>\n",
       "      <td>0</td>\n",
       "      <td>RX_PARACETAMOL_NSAID</td>\n",
       "    </tr>\n",
       "    <tr>\n",
       "      <th>4</th>\n",
       "      <td>1</td>\n",
       "      <td>16567</td>\n",
       "      <td>G</td>\n",
       "      <td>C</td>\n",
       "      <td>rs1194064194</td>\n",
       "      <td>OR4F5</td>\n",
       "      <td>0.363171</td>\n",
       "      <td>0.439889</td>\n",
       "      <td>-0.073028</td>\n",
       "      <td>0.080309</td>\n",
       "      <td>0.004192</td>\n",
       "      <td>0.004172</td>\n",
       "      <td>0.004295</td>\n",
       "      <td>0</td>\n",
       "      <td>RX_PARACETAMOL_NSAID</td>\n",
       "    </tr>\n",
       "  </tbody>\n",
       "</table>\n",
       "</div>"
      ],
      "text/plain": [
       "   #chrom    pos ref alt         rsids nearest_genes      pval     mlogp   \n",
       "0       1  13668   G   A     rs2691328         OR4F5  0.618421  0.208716  \\\n",
       "1       1  14773   C   T   rs878915777         OR4F5  0.852267  0.069424   \n",
       "2       1  15585   G   A   rs533630043         OR4F5  0.687459  0.162753   \n",
       "3       1  16549   T   C  rs1262014613         OR4F5  0.798057  0.097966   \n",
       "4       1  16567   G   C  rs1194064194         OR4F5  0.363171  0.439889   \n",
       "\n",
       "       beta    sebeta    af_alt  af_alt_cases  af_alt_controls  causal   \n",
       "0 -0.039244  0.078788  0.005845      0.005842         0.005858       0  \\\n",
       "1 -0.009138  0.049071  0.013500      0.013499         0.013502       0   \n",
       "2  0.060661  0.150784  0.001112      0.001115         0.001095       0   \n",
       "3  0.062197  0.243085  0.000563      0.000561         0.000572       0   \n",
       "4 -0.073028  0.080309  0.004192      0.004172         0.004295       0   \n",
       "\n",
       "                  trait  \n",
       "0  RX_PARACETAMOL_NSAID  \n",
       "1  RX_PARACETAMOL_NSAID  \n",
       "2  RX_PARACETAMOL_NSAID  \n",
       "3  RX_PARACETAMOL_NSAID  \n",
       "4  RX_PARACETAMOL_NSAID  "
      ]
     },
     "execution_count": 6,
     "metadata": {},
     "output_type": "execute_result"
    }
   ],
   "source": [
    "gwas.head()"
   ]
  },
  {
   "cell_type": "code",
   "execution_count": 8,
   "id": "8ab07ef9-8864-4302-9850-611f6b36b365",
   "metadata": {
    "tags": []
   },
   "outputs": [],
   "source": [
    "gwas.to_csv('gwas-causal.csv', index=False)"
   ]
  }
 ],
 "metadata": {
  "kernelspec": {
   "display_name": "Python 3 (ipykernel)",
   "language": "python",
   "name": "python3"
  },
  "language_info": {
   "codemirror_mode": {
    "name": "ipython",
    "version": 3
   },
   "file_extension": ".py",
   "mimetype": "text/x-python",
   "name": "python",
   "nbconvert_exporter": "python",
   "pygments_lexer": "ipython3",
   "version": "3.11.3"
  }
 },
 "nbformat": 4,
 "nbformat_minor": 5
}
