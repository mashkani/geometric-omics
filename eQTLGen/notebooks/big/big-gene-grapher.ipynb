{
 "cells": [
  {
   "attachments": {},
   "cell_type": "markdown",
   "id": "8856a85c-cc6c-4e9c-9466-fafee6338628",
   "metadata": {
    "tags": []
   },
   "source": [
    "## README \n",
    "Website: https://www.eqtlgen.org/phase1.html\n",
    "\n",
    "Paper: https://www.nature.com/articles/s41588-021-00913-zhttps://www.nature.com/articles/s41588-021-00913-z\n",
    "\n",
    "This Jupyter notebook README covers cis-eQTL and trans-eQTL results from the eQTLGen project. The dataset includes significant files for both cis-eQTL and trans-eQTL analyses. \n",
    "\n",
    "Files contain various columns with information on P-value, SNP rs ID, SNP chromosome, SNP position, assessed and not assessed alleles, Z-score, ENSG and HGNC names of eQTL genes, gene chromosome, gene position, number of cohorts, number of samples, false discovery rate, and Bonferroni-corrected P-value.\n",
    "\n",
    "The cis-eQTL analysis includes 19,250 genes expressed in blood, with SNP-gene combinations within 1Mb from the gene center and tested in at least 2 cohorts. The trans-eQTL analysis tests 19,960 genes expressed in blood and 10,317 trait-associated SNPs based on GWAS Catalog, Immunobase, and Astle et al. study. Trans-eQTL combinations have a distance of >5Mb and were tested in at least 2 cohorts.\n",
    "\n",
    "The FDR calculation uses a pruned set of SNPs for trans-eQTL mapping and permutation-based FDR calculation. Crossmapping filters are applied to identify and remove potential artifacts in trans-eQTL results, recalculating the FDR afterward. Note that the full results file has not been filtered for cross-mapping effects, which may lead to artifacts in the data.\n",
    "\n",
    "The code below demonstrates the process of creating a graph-based representation of the combined cis and trans-eQTL data using PyTorch Geometric. This process can be broken down into several steps:\n",
    "\n",
    "1. Combine cis and trans dataframes: The code begins by concatenating the cis and trans dataframes into a single dataframe named 'data', which contains information on both cis-eQTL and trans-eQTL results. This combined dataset simplifies the process of working with the data and ensures that all relevant information is contained within a single data structure.\n",
    "\n",
    "2. Create mappings for genes and SNPs: To represent the genes and SNPs as nodes in the graph, integer indices are assigned to each unique gene and SNP. This is done using dictionaries called 'gene_to_idx' and 'snp_to_idx', which map the gene and SNP identifiers to their corresponding integer indices.\n",
    "\n",
    "3. Generate node type labels: Node type labels are created using PyTorch tensors, distinguishing between gene nodes (assigned a label of 0) and SNP nodes (assigned a label of 1). This differentiation is useful for various graph-based analyses and machine learning tasks that require knowledge of node types.\n",
    "\n",
    "4. Create edges based on gene and SNP indices: Edges in the graph represent the relationships between genes and SNPs. These edges are created by iterating over the 'data' dataframe and extracting the corresponding gene and SNP indices from the previously created mappings. The edges are then represented as a PyTorch tensor with a long data type.\n",
    "\n",
    "5. Convert edges to undirected: Since the relationships between genes and SNPs are undirected, the edges in the graph should also be undirected. This is achieved using the 'to_undirected()' function from PyTorch Geometric, which ensures that the graph correctly represents the underlying biology.\n",
    "\n",
    "6. Create a PyTorch Geometric graph: Finally, the graph is created using the PyTorch Geometric 'Data' class. The node types and edge indices are used as inputs to instantiate the graph object, which can then be utilized for further analysis and visualization.\n",
    "\n",
    "The resulting 'graph' object is a PyTorch Geometric representation of the combined cis and trans-eQTL data. The prediction task is to predict new association edges given the training edges, with the task type being link prediction. Below are a few important graph statistics:\n",
    "\n",
    "- Number of nodes: 3681495\n",
    "- Number of SNP nodes: 3664025\n",
    "- Number of Gene nodes: 17470\n",
    "- Number of edges: 10567450\n",
    "- Number of connected components: 424\n",
    "- Average degree: 5.74\n",
    "- Median degree: 2.0\n",
    "- Standard deviation of degree: 69.81\n",
    "- Density: 0.0000015594\n",
    "- Assortativity: -0.2267915607\n",
    "\n",
    "The prediction task is to predict new association edges given the training edges, with the task type being link prediction. The data splitting is random while maintaining an equal proportion of cis- and trans- associations."
   ]
  },
  {
   "attachments": {},
   "cell_type": "markdown",
   "id": "f814724f-367b-414b-87e2-a2ca0f4d3dab",
   "metadata": {},
   "source": [
    "- The model is predicting whether an edge exists between nodes: -1 for no edge and +1 for an edge. It knows whether nodes are genes (0) or snps (1). It has no notion of cis or trans apart from differences in node features vectors:\n",
    "\n",
    "- Gene Node Features: 'GenePos': float, 'GeneChr': str, GeneStart': float, 'GeneEnd': float\n",
    "\n",
    "- SNP Node Features: 'SNPChr': str, 'SNPPos': float, 'AssessedAllele': str, 'OtherAllele': str\n",
    "\n",
    "- Input: feature vectors for and edges between all training nodes\n",
    "\n",
    "- Output: edges between all nodes in test/validation set"
   ]
  },
  {
   "attachments": {},
   "cell_type": "markdown",
   "id": "4ae5b6c8-9ccf-4c35-b6dc-e8755e8c251e",
   "metadata": {},
   "source": [
    "## Data Setup "
   ]
  },
  {
   "attachments": {},
   "cell_type": "markdown",
   "id": "6c312ac4-08e0-46ae-b18a-10f81e6b2ddb",
   "metadata": {},
   "source": [
    "### Libraries"
   ]
  },
  {
   "cell_type": "code",
   "execution_count": 1,
   "id": "08f0bf7f-91fc-4010-bb06-e5e4434c3c73",
   "metadata": {
    "tags": []
   },
   "outputs": [],
   "source": [
    "import os\n",
    "\n",
    "import numpy as np\n",
    "import pandas as pd\n",
    "import matplotlib.pyplot as plt\n",
    "\n",
    "from sklearn.model_selection import train_test_split\n",
    "from sklearn.metrics import precision_recall_fscore_support, roc_auc_score, average_precision_score\n",
    "from sklearn.preprocessing import LabelEncoder\n",
    "from sklearn.preprocessing import StandardScaler\n",
    "\n",
    "\n",
    "import torch\n",
    "import torch.nn as nn\n",
    "import torch.nn.functional as F\n",
    "import torch.nn.init as init\n",
    "\n",
    "import torch_sparse\n",
    "\n",
    "import torch_geometric\n",
    "from torch_geometric.data import Data\n",
    "from torch_geometric.nn import GCNConv, GATConv\n",
    "from torch_geometric.utils import to_undirected, negative_sampling, subgraph\n",
    "from torch_geometric.transforms import RandomLinkSplit\n",
    "\n",
    "import networkx as nx\n",
    "from ogb.io import DatasetSaver\n",
    "from ogb.linkproppred import LinkPropPredDataset"
   ]
  },
  {
   "cell_type": "code",
   "execution_count": 2,
   "id": "c398fa63-4d51-40a5-baab-d085d2beaf66",
   "metadata": {},
   "outputs": [
    {
     "name": "stdout",
     "output_type": "stream",
     "text": [
      "PyTorch version: 2.0.0+cu118\n",
      "PyTorch Geometric version: 2.3.1\n"
     ]
    }
   ],
   "source": [
    "print(f\"PyTorch version: {torch.__version__}\")\n",
    "print(f\"PyTorch Geometric version: {torch_geometric.__version__}\")"
   ]
  },
  {
   "cell_type": "code",
   "execution_count": 3,
   "id": "95bdb806-8661-4798-93a7-85e08eff2304",
   "metadata": {
    "tags": []
   },
   "outputs": [
    {
     "name": "stdout",
     "output_type": "stream",
     "text": [
      "Using NVIDIA GeForce RTX 3060 Ti (cuda)\n",
      "CUDA version: 11.8\n",
      "Number of CUDA devices: 1\n"
     ]
    }
   ],
   "source": [
    "if torch.cuda.is_available():\n",
    "    device = torch.device(\"cuda\")          # Current CUDA device\n",
    "    print(f\"Using {torch.cuda.get_device_name()} ({device})\")\n",
    "    print(f\"CUDA version: {torch.version.cuda}\")\n",
    "    print(f\"Number of CUDA devices: {torch.cuda.device_count()}\")\n",
    "else:\n",
    "    print(\"CUDA is not available on this device.\")"
   ]
  },
  {
   "cell_type": "code",
   "execution_count": 4,
   "id": "757b0ab8-7b52-4cd9-b0e0-77d0c2dc3b0e",
   "metadata": {
    "tags": []
   },
   "outputs": [],
   "source": [
    "# Load data\n",
    "data_types = {'Pvalue': float, 'SNP': str, 'SNPChr': str, 'SNPPos': float,\n",
    "              'AssessedAllele': str, 'OtherAllele': str, 'Zscore': float,\n",
    "              'Gene': str, 'GeneSymbol': str, 'GeneChr': str, 'GenePos': float,\n",
    "              'NrCohorts': int, 'NrSamples': int, 'FDR': float,\n",
    "              'BonferroniP': float, 'GeneStart': float, 'GeneEnd': float, 'Sig':int}\n",
    "\n",
    "cis = pd.read_csv(\"big-cis-genes.csv\", dtype=data_types)\n",
    "trans = pd.read_csv(\"big-trans-genes.csv\", dtype=data_types)"
   ]
  },
  {
   "attachments": {},
   "cell_type": "markdown",
   "id": "bb69c8a8-38f2-40f2-885e-f5106d8b6240",
   "metadata": {},
   "source": [
    "### Graph"
   ]
  },
  {
   "cell_type": "code",
   "execution_count": 5,
   "id": "2e9d95dd-71d8-4a32-9606-94e15c6bb51d",
   "metadata": {
    "tags": []
   },
   "outputs": [],
   "source": [
    "data = pd.concat([cis, trans], ignore_index=True)"
   ]
  },
  {
   "cell_type": "code",
   "execution_count": 6,
   "id": "fdee40ba-792a-452f-b267-ffbe6920f4fc",
   "metadata": {
    "tags": []
   },
   "outputs": [
    {
     "name": "stdout",
     "output_type": "stream",
     "text": [
      "Number of nodes: 6754540\n",
      "Number of edges: 45829128\n",
      "Node feature dimension: 8\n",
      "Node types: tensor([0, 0, 0,  ..., 1, 1, 1])\n",
      "Sum of edge_attr: 4309414\n"
     ]
    }
   ],
   "source": [
    "# Create mappings for genes and SNPs to integer indices\n",
    "genes = data['Gene'].unique()\n",
    "snps = data['SNP'].unique()\n",
    "gene_to_idx = {gene: idx for idx, gene in enumerate(genes)}\n",
    "snp_to_idx = {snp: idx + len(genes) for idx, snp in enumerate(snps)}\n",
    "\n",
    "# Create node feature vectors\n",
    "gene_features = data.loc[data['Gene'].isin(genes)][['Gene', 'GeneChr', 'GenePos', 'GeneStart', 'GeneEnd']].drop_duplicates().sort_values(by='Gene').reset_index(drop=True)\n",
    "snp_features = data.loc[data['SNP'].isin(snps)][['SNP', 'SNPChr', 'SNPPos', 'AssessedAllele', 'OtherAllele']].drop_duplicates().sort_values(by='SNP').reset_index(drop=True)\n",
    "\n",
    "\n",
    "# Create node type labels\n",
    "node_types = torch.tensor([0] * len(genes) + [1] * len(snps), dtype=torch.long)\n",
    "\n",
    "# Filter the data to create positive and negative edges\n",
    "sig = data[data['Sig'] == 1]\n",
    "unsig = data[data['Sig'] != 1]\n",
    "\n",
    "# Create positive and negative edges\n",
    "positive_edges = sig.apply(lambda row: (gene_to_idx[row['Gene']], snp_to_idx[row['SNP']]), axis=1)\n",
    "negative_edges = unsig.apply(lambda row: (gene_to_idx[row['Gene']], snp_to_idx[row['SNP']]), axis=1)\n",
    "\n",
    "positive_edges = torch.tensor(list(positive_edges), dtype=torch.long).t().contiguous()\n",
    "negative_edges = torch.tensor(list(negative_edges), dtype=torch.long).t().contiguous()\n",
    "\n",
    "# Combine positive and negative edges\n",
    "edges = torch.cat([positive_edges, negative_edges], dim=1)\n",
    "\n",
    "# Create edge labels\n",
    "edge_labels = torch.tensor([1] * positive_edges.size(1) + [0] * negative_edges.size(1), dtype=torch.long)\n",
    "\n",
    "# Convert edges to undirected\n",
    "edges = to_undirected(edges)\n",
    "\n",
    "# Combine the feature vectors\n",
    "combined_features = pd.concat([gene_features, snp_features], ignore_index=True).drop(['Gene', 'SNP'], axis=1)\n",
    "\n",
    "# Replace NaN and empty strings with \"N/A\"\n",
    "combined_features.fillna({'GeneChr': 'N/A', 'GenePos': 0, 'GeneStart': 0, 'GeneEnd': 0,\n",
    "                          'SNPChr': 'N/A', 'SNPPos': 0, 'AssessedAllele': 'N/A', 'OtherAllele': 'N/A'}, inplace=True)\n",
    "combined_features.replace({'GeneChr': {'': 'N/A'}, 'SNPChr': {'': 'N/A'},\n",
    "                           'AssessedAllele': {'': 'N/A'}, 'OtherAllele': {'': 'N/A'}}, inplace=True)\n",
    "\n",
    "\n",
    "# Label encoding for categorical columns\n",
    "categorical_columns = ['GeneChr', 'SNPChr', 'AssessedAllele', 'OtherAllele']\n",
    "for column in categorical_columns:\n",
    "    le = LabelEncoder()\n",
    "    combined_features[column] = le.fit_transform(combined_features[column])\n",
    "\n",
    "# Standardize numerical features\n",
    "numerical_columns = ['GenePos', 'GeneStart', 'GeneEnd', 'SNPPos']\n",
    "scaler = StandardScaler()\n",
    "combined_features[numerical_columns] = scaler.fit_transform(combined_features[numerical_columns])\n",
    "\n",
    "# Create the PyTorch tensor\n",
    "features = torch.tensor(combined_features.values, dtype=torch.float)\n",
    "\n",
    "# Create the PyTorch Geometric graph\n",
    "graph = Data(x=features, edge_index=edges, edge_attr=edge_labels)\n",
    "graph.node_types = node_types\n",
    "#graph.x = F.normalize(graph.x, p=2, dim=-1)\n",
    "print(f\"Number of nodes: {graph.num_nodes}\")\n",
    "print(f\"Number of edges: {graph.num_edges}\")\n",
    "print(f\"Node feature dimension: {graph.num_node_features}\")\n",
    "print(f\"Node types: {graph.node_types}\")\n",
    "\n",
    "edge_attr_sum = torch.sum(graph.edge_attr)\n",
    "print(f\"Sum of edge_attr: {edge_attr_sum}\")"
   ]
  },
  {
   "attachments": {},
   "cell_type": "markdown",
   "id": "e9aadf68-9a33-4a1e-a3fc-d544c7bc3811",
   "metadata": {},
   "source": [
    "### Check"
   ]
  },
  {
   "cell_type": "code",
   "execution_count": 7,
   "id": "d906e58b-723f-47d7-8160-9e9135e21e32",
   "metadata": {
    "tags": []
   },
   "outputs": [
    {
     "name": "stdout",
     "output_type": "stream",
     "text": [
      "Sum of 'Sig' values: 4309414\n",
      "Count of 'Sig' values not equal to 1: 41519714\n"
     ]
    }
   ],
   "source": [
    "print(\"Sum of 'Sig' values:\", len(data[data['Sig'] == 1]))\n",
    "print(\"Count of 'Sig' values not equal to 1:\", len(data[data['Sig'] != 1]))"
   ]
  },
  {
   "cell_type": "code",
   "execution_count": 8,
   "id": "82b9481a-59ce-4609-8570-e567be6e0b72",
   "metadata": {
    "tags": []
   },
   "outputs": [
    {
     "name": "stdout",
     "output_type": "stream",
     "text": [
      "Are there any NaN values in features? False\n"
     ]
    }
   ],
   "source": [
    "# Check for NaN values in features\n",
    "nan_in_features = torch.isnan(graph.x).any().item()\n",
    "print(f\"Are there any NaN values in features? {nan_in_features}\")"
   ]
  },
  {
   "attachments": {},
   "cell_type": "markdown",
   "id": "355916c8-695e-40ed-b943-d547ffc0fa75",
   "metadata": {},
   "source": [
    "### Stats"
   ]
  },
  {
   "cell_type": "code",
   "execution_count": 9,
   "id": "187e286f-691a-4c43-8d50-54960becda8d",
   "metadata": {
    "tags": []
   },
   "outputs": [
    {
     "name": "stdout",
     "output_type": "stream",
     "text": [
      "Graph stats:\n",
      "Number of nodes: 6754540\n",
      "Number of SNP nodes: 6741198\n",
      "Number of Gene nodes: 13342\n",
      "Number of edges: 22914564\n",
      "Average degree: 13.57\n",
      "Median degree: 4.0\n",
      "Standard deviation of degree: 160.47\n",
      "Density: 0.0000010045\n"
     ]
    }
   ],
   "source": [
    "def print_graph_stats(graph, genes, snps):\n",
    "    edge_index = graph.edge_index.numpy()\n",
    "    num_nodes = graph.num_nodes\n",
    "    num_genes = len(genes)\n",
    "    num_snps = len(snps)\n",
    "    num_edges = edge_index.shape[1] // 2\n",
    "    degrees = np.bincount(edge_index[0]) + np.bincount(edge_index[1])\n",
    "    average_degree = np.mean(degrees)\n",
    "    median_degree = np.median(degrees)\n",
    "    std_degree = np.std(degrees)\n",
    "    density = num_edges / (num_nodes * (num_nodes - 1) / 2)\n",
    "    \n",
    "    print(f\"Number of nodes: {num_nodes}\")\n",
    "    print(\"Number of SNP nodes:\", num_snps)\n",
    "    print(\"Number of Gene nodes:\", num_genes)\n",
    "    print(f\"Number of edges: {num_edges}\")\n",
    "    print(f\"Average degree: {average_degree:.2f}\")\n",
    "    print(f\"Median degree: {median_degree}\")\n",
    "    print(f\"Standard deviation of degree: {std_degree:.2f}\")\n",
    "    print(f\"Density: {density:.10f}\")\n",
    "\n",
    "print(\"Graph stats:\")\n",
    "print_graph_stats(graph, genes, snps)"
   ]
  },
  {
   "attachments": {},
   "cell_type": "markdown",
   "id": "159e2e18-acf9-4b79-a611-ce5e0d178a21",
   "metadata": {},
   "source": [
    "### Export graph"
   ]
  },
  {
   "cell_type": "code",
   "execution_count": 10,
   "id": "28ad5dd5-48ed-45d8-a62a-da1a275d45fa",
   "metadata": {},
   "outputs": [],
   "source": [
    "# Save your graph\n",
    "torch.save(graph, 'graph.pth')"
   ]
  },
  {
   "attachments": {},
   "cell_type": "markdown",
   "id": "687cb2e0-5ef2-4aa6-bd93-4df36efcf8dd",
   "metadata": {},
   "source": [
    "### Load graph"
   ]
  },
  {
   "cell_type": "code",
   "execution_count": 13,
   "id": "c629af42-b7fb-4b1d-a71e-2341e23c8fe8",
   "metadata": {
    "tags": []
   },
   "outputs": [],
   "source": [
    "from torch_geometric.loader import DataLoader\n",
    "\n",
    "# Load the graph\n",
    "graph = torch.load('graph.pth')\n",
    "\n",
    "if isinstance(graph, Data):\n",
    "    # Create a DataLoader with your graph\n",
    "    loader = DataLoader([graph], batch_size=1)\n",
    "else:\n",
    "    print(\"The loaded object is not a PyTorch Geometric Data instance.\")"
   ]
  },
  {
   "attachments": {},
   "cell_type": "markdown",
   "id": "4371cb05-f62b-4054-88aa-bc883f7e2bde",
   "metadata": {},
   "source": [
    "### Stats"
   ]
  },
  {
   "cell_type": "code",
   "execution_count": 14,
   "id": "b645e496-f2f7-4a42-ae0b-d7cb10e07417",
   "metadata": {
    "tags": []
   },
   "outputs": [
    {
     "name": "stdout",
     "output_type": "stream",
     "text": [
      "Graph stats:\n",
      "Number of nodes: 6754540\n",
      "Number of SNP nodes: 6741198\n",
      "Number of Gene nodes: 13342\n",
      "Number of edges: 22914564\n",
      "Average degree: 13.57\n",
      "Median degree: 4.0\n",
      "Standard deviation of degree: 160.47\n",
      "Density: 0.0000010045\n"
     ]
    }
   ],
   "source": [
    "def print_graph_stats(graph, genes, snps):\n",
    "    edge_index = graph.edge_index.numpy()\n",
    "    num_nodes = graph.num_nodes\n",
    "    num_genes = len(genes)\n",
    "    num_snps = len(snps)\n",
    "    num_edges = edge_index.shape[1] // 2\n",
    "    degrees = np.bincount(edge_index[0]) + np.bincount(edge_index[1])\n",
    "    average_degree = np.mean(degrees)\n",
    "    median_degree = np.median(degrees)\n",
    "    std_degree = np.std(degrees)\n",
    "    density = num_edges / (num_nodes * (num_nodes - 1) / 2)\n",
    "    \n",
    "    print(f\"Number of nodes: {num_nodes}\")\n",
    "    print(\"Number of SNP nodes:\", num_snps)\n",
    "    print(\"Number of Gene nodes:\", num_genes)\n",
    "    print(f\"Number of edges: {num_edges}\")\n",
    "    print(f\"Average degree: {average_degree:.2f}\")\n",
    "    print(f\"Median degree: {median_degree}\")\n",
    "    print(f\"Standard deviation of degree: {std_degree:.2f}\")\n",
    "    print(f\"Density: {density:.10f}\")\n",
    "\n",
    "print(\"Graph stats:\")\n",
    "print_graph_stats(graph, genes, snps)"
   ]
  }
 ],
 "metadata": {
  "kernelspec": {
   "display_name": "Python 3 (ipykernel)",
   "language": "python",
   "name": "python3"
  },
  "language_info": {
   "codemirror_mode": {
    "name": "ipython",
    "version": 3
   },
   "file_extension": ".py",
   "mimetype": "text/x-python",
   "name": "python",
   "nbconvert_exporter": "python",
   "pygments_lexer": "ipython3",
   "version": "3.11.3"
  },
  "toc-autonumbering": false
 },
 "nbformat": 4,
 "nbformat_minor": 5
}
