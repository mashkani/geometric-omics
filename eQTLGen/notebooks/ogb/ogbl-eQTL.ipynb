{
 "cells": [
  {
   "cell_type": "code",
   "execution_count": 1,
   "id": "08f0bf7f-91fc-4010-bb06-e5e4434c3c73",
   "metadata": {
    "tags": []
   },
   "outputs": [],
   "source": [
    "import os\n",
    "\n",
    "import pandas as pd\n",
    "import numpy as np\n",
    "import matplotlib.pyplot as plt\n",
    "\n",
    "import torch\n",
    "\n",
    "import networkx as nx\n",
    "import torch_geometric\n",
    "from torch_geometric.data import Data\n",
    "from torch_geometric.utils import to_undirected\n",
    "\n",
    "from ogb.io import DatasetSaver\n",
    "from ogb.linkproppred import LinkPropPredDataset"
   ]
  },
  {
   "cell_type": "markdown",
   "id": "8856a85c-cc6c-4e9c-9466-fafee6338628",
   "metadata": {
    "tags": []
   },
   "source": [
    "## README \n",
    "https://www.eqtlgen.org/phase1.html\n",
    "\n",
    "### cis-eQTL\n",
    "This README accompanies the files with cis-eQTL results from eQTLGez\n",
    "\n",
    "\n",
    "#### File\n",
    "- File with full cis-eQTL results: 2019-12-11-cis-eQTLsFDR-ProbeLevel-CohortInfoRemoved-BonferroniAdded.txt.gz\n",
    "- File with significant (FDR<0.05) cis-eQTL results: 2019-12-11-cis-eQTLsFDR0.05-ProbeLevel-CohortInfoRemoved-BonferroniAdded.txt.gz \n",
    "\n",
    "#### Column Names\n",
    "- Pvalue - P-value\n",
    "- SNP - SNP rs ID\n",
    "- SNPChr - SNP chromosome\n",
    "- SNPPos - SNP position\n",
    "- AssessedAllele - Assessed allele, the Z-score refers to this allele\n",
    "- OtherAllele - Not assessed allele\n",
    "- Zscore - Z-score\n",
    "- Gene - ENSG name (Ensembl v71) of the eQTL gene\n",
    "- GeneSymbol - HGNC name of the gene\n",
    "- GeneChr - Gene chromosome\n",
    "- GenePos - Centre of gene position\n",
    "- NrCohorts - Total number of cohorts where this SNP-gene combination was tested\n",
    "- NrSamples - Total number of samples where this SNP-gene combination was tested\n",
    "- FDR - False discovery rate estimated based on permutations\n",
    "- BonferroniP - P-value after Bonferroni correction\n",
    "\n",
    "#### Additional information\n",
    "- These files contain all cis-eQTL results from eQTLGen, accompanying the article.\n",
    "- 19,250 genes that showed expression in blood were tested.\n",
    "- Every SNP-gene combination with a distance <1Mb from the center of the gene and  tested in at least 2 cohorts was included.\n",
    "- Associations where SNP/proxy positioned in Illumina probe were not removed from combined analysis.\n",
    "\n",
    "\n",
    "### trans-eQTL\n",
    "\n",
    "This README accompanies the file with trans-eQTL results from eQTLGen \n",
    "\n",
    "- File with full trans-eQTL results: 2018-09-04-trans-eQTLsFDR-CohortInfoRemoved-BonferroniAdded.txt.gz\n",
    "- File with significant (FDR<0.05) trans-eQTL results: 2018-09-04-trans-eQTLsFDR0.05-CohortInfoRemoved-BonferroniAdded.txt.gz\n",
    "\n",
    "#### Column Names\n",
    "- Pvalue - P-value\n",
    "- SNP - SNP rs ID\n",
    "- SNPChr - SNP chromosome\n",
    "- SNPPos - SNP position\n",
    "- AssessedAllele - Assessed allele, the Z-score refers to this allele\n",
    "- OtherAllele - Not assessed allele\n",
    "- Zscore - Z-score\n",
    "- Gene - ENSG name (Ensembl v71) of the eQTL gene\n",
    "- GeneSymbol - HGNC name of the gene\n",
    "- GeneChr - Gene chromosome\n",
    "- GenePos - Centre of gene position\n",
    "- NrCohorts - Total number of cohorts where this SNP-gene combination was tested\n",
    "- NrSamples - Total number of samples where this SNP-gene combination was tested\n",
    "- FDR - False discovery rate estimated based on permutations\n",
    "- BonferroniP - P-value after Bonferroni correction\n",
    "\n",
    "#### Additional information\n",
    "- These files contain all trans-eQTL results from eQTLGen, accompanying the article.\n",
    "- 19,960 genes that showed expression in blood were tested.\n",
    "- 10,317 trait-associated SNPs (based on GWAS Catalog, Immunobase and Astle et al. study, see Online Methods) were tested.\n",
    "- Every SNP-gene combination with a distance >5Mb and tested in at least 2 cohorts was included.\n",
    "\n",
    "#### FDR calculation\n",
    "---------------\n",
    "To determine nominal P-value threshold corresponding to FDR=0.05, we used a pruned set of SNPs for trans-eQTL mapping and permutation-based FDR calculation (See Methods).\n",
    "\n",
    "#### Crossmapping filter\n",
    "-------------------\n",
    "Some trans-eQTL are artefacts resulting from genes that map (partially) to a location nearby the eQTL SNP, effectively represting a cis-eQTL effect.\n",
    "These potential artefacts were identified by mapping trans-eQTL gene sequences to the immediate surroundings of the SNP (Supplementary Note).\n",
    "If there was strong evidence that the trans-eQTL was a cross-mapping artefact, it was removed from the list of significant trans-eQTLs.\n",
    "After filtering, the FDR was re-calculated on the remaining effects.\n",
    "\n",
    "PLEASE NOTE: the full results file have not been filtered for cross-mapping effects.\n",
    "The file may include artefacts resulting from genes that map (partially) to a location nearby the eQTL SNP, effectively representing a cis-eQTL effect."
   ]
  },
  {
   "cell_type": "code",
   "execution_count": 2,
   "id": "1837b7ee-8c4a-416b-b8eb-1e0fbcdfed40",
   "metadata": {
    "tags": []
   },
   "outputs": [],
   "source": [
    "# Read files\n",
    "cis = pd.read_csv(\"sig-cis.txt\", sep='\\t')\n",
    "trans = pd.read_csv(\"sig-trans.txt\", sep='\\t')"
   ]
  },
  {
   "cell_type": "code",
   "execution_count": 3,
   "id": "87d6c69b-6525-4160-a365-df6070991fab",
   "metadata": {
    "tags": []
   },
   "outputs": [
    {
     "data": {
      "text/html": [
       "<div>\n",
       "<style scoped>\n",
       "    .dataframe tbody tr th:only-of-type {\n",
       "        vertical-align: middle;\n",
       "    }\n",
       "\n",
       "    .dataframe tbody tr th {\n",
       "        vertical-align: top;\n",
       "    }\n",
       "\n",
       "    .dataframe thead th {\n",
       "        text-align: right;\n",
       "    }\n",
       "</style>\n",
       "<table border=\"1\" class=\"dataframe\">\n",
       "  <thead>\n",
       "    <tr style=\"text-align: right;\">\n",
       "      <th></th>\n",
       "      <th>Pvalue</th>\n",
       "      <th>SNP</th>\n",
       "      <th>SNPChr</th>\n",
       "      <th>SNPPos</th>\n",
       "      <th>AssessedAllele</th>\n",
       "      <th>OtherAllele</th>\n",
       "      <th>Zscore</th>\n",
       "      <th>Gene</th>\n",
       "      <th>GeneSymbol</th>\n",
       "      <th>GeneChr</th>\n",
       "      <th>GenePos</th>\n",
       "      <th>NrCohorts</th>\n",
       "      <th>NrSamples</th>\n",
       "      <th>FDR</th>\n",
       "      <th>BonferroniP</th>\n",
       "    </tr>\n",
       "  </thead>\n",
       "  <tbody>\n",
       "    <tr>\n",
       "      <th>0</th>\n",
       "      <td>3.271700e-310</td>\n",
       "      <td>rs12230244</td>\n",
       "      <td>12</td>\n",
       "      <td>10117369</td>\n",
       "      <td>T</td>\n",
       "      <td>A</td>\n",
       "      <td>200.7534</td>\n",
       "      <td>ENSG00000172322</td>\n",
       "      <td>CLEC12A</td>\n",
       "      <td>12</td>\n",
       "      <td>10126104</td>\n",
       "      <td>34</td>\n",
       "      <td>30596</td>\n",
       "      <td>0.0</td>\n",
       "      <td>4.166200e-302</td>\n",
       "    </tr>\n",
       "    <tr>\n",
       "      <th>1</th>\n",
       "      <td>3.271700e-310</td>\n",
       "      <td>rs12229020</td>\n",
       "      <td>12</td>\n",
       "      <td>10117683</td>\n",
       "      <td>G</td>\n",
       "      <td>C</td>\n",
       "      <td>200.6568</td>\n",
       "      <td>ENSG00000172322</td>\n",
       "      <td>CLEC12A</td>\n",
       "      <td>12</td>\n",
       "      <td>10126104</td>\n",
       "      <td>34</td>\n",
       "      <td>30596</td>\n",
       "      <td>0.0</td>\n",
       "      <td>4.166200e-302</td>\n",
       "    </tr>\n",
       "    <tr>\n",
       "      <th>2</th>\n",
       "      <td>3.271700e-310</td>\n",
       "      <td>rs61913527</td>\n",
       "      <td>12</td>\n",
       "      <td>10116198</td>\n",
       "      <td>T</td>\n",
       "      <td>C</td>\n",
       "      <td>200.2654</td>\n",
       "      <td>ENSG00000172322</td>\n",
       "      <td>CLEC12A</td>\n",
       "      <td>12</td>\n",
       "      <td>10126104</td>\n",
       "      <td>34</td>\n",
       "      <td>30598</td>\n",
       "      <td>0.0</td>\n",
       "      <td>4.166200e-302</td>\n",
       "    </tr>\n",
       "    <tr>\n",
       "      <th>3</th>\n",
       "      <td>3.271700e-310</td>\n",
       "      <td>rs2594103</td>\n",
       "      <td>12</td>\n",
       "      <td>10115428</td>\n",
       "      <td>T</td>\n",
       "      <td>C</td>\n",
       "      <td>200.0420</td>\n",
       "      <td>ENSG00000172322</td>\n",
       "      <td>CLEC12A</td>\n",
       "      <td>12</td>\n",
       "      <td>10126104</td>\n",
       "      <td>34</td>\n",
       "      <td>30598</td>\n",
       "      <td>0.0</td>\n",
       "      <td>4.166200e-302</td>\n",
       "    </tr>\n",
       "    <tr>\n",
       "      <th>4</th>\n",
       "      <td>3.271700e-310</td>\n",
       "      <td>rs12231833</td>\n",
       "      <td>12</td>\n",
       "      <td>10118428</td>\n",
       "      <td>A</td>\n",
       "      <td>G</td>\n",
       "      <td>199.9508</td>\n",
       "      <td>ENSG00000172322</td>\n",
       "      <td>CLEC12A</td>\n",
       "      <td>12</td>\n",
       "      <td>10126104</td>\n",
       "      <td>34</td>\n",
       "      <td>30592</td>\n",
       "      <td>0.0</td>\n",
       "      <td>4.166200e-302</td>\n",
       "    </tr>\n",
       "  </tbody>\n",
       "</table>\n",
       "</div>"
      ],
      "text/plain": [
       "          Pvalue         SNP  SNPChr    SNPPos AssessedAllele OtherAllele   \n",
       "0  3.271700e-310  rs12230244      12  10117369              T           A  \\\n",
       "1  3.271700e-310  rs12229020      12  10117683              G           C   \n",
       "2  3.271700e-310  rs61913527      12  10116198              T           C   \n",
       "3  3.271700e-310   rs2594103      12  10115428              T           C   \n",
       "4  3.271700e-310  rs12231833      12  10118428              A           G   \n",
       "\n",
       "     Zscore             Gene GeneSymbol  GeneChr   GenePos  NrCohorts   \n",
       "0  200.7534  ENSG00000172322    CLEC12A       12  10126104         34  \\\n",
       "1  200.6568  ENSG00000172322    CLEC12A       12  10126104         34   \n",
       "2  200.2654  ENSG00000172322    CLEC12A       12  10126104         34   \n",
       "3  200.0420  ENSG00000172322    CLEC12A       12  10126104         34   \n",
       "4  199.9508  ENSG00000172322    CLEC12A       12  10126104         34   \n",
       "\n",
       "   NrSamples  FDR    BonferroniP  \n",
       "0      30596  0.0  4.166200e-302  \n",
       "1      30596  0.0  4.166200e-302  \n",
       "2      30598  0.0  4.166200e-302  \n",
       "3      30598  0.0  4.166200e-302  \n",
       "4      30592  0.0  4.166200e-302  "
      ]
     },
     "execution_count": 3,
     "metadata": {},
     "output_type": "execute_result"
    }
   ],
   "source": [
    "# Print cis\n",
    "cis.head()"
   ]
  },
  {
   "cell_type": "code",
   "execution_count": 4,
   "id": "af620ca9-076b-4b34-a09a-fa3aec04cdc5",
   "metadata": {
    "tags": []
   },
   "outputs": [
    {
     "data": {
      "text/html": [
       "<div>\n",
       "<style scoped>\n",
       "    .dataframe tbody tr th:only-of-type {\n",
       "        vertical-align: middle;\n",
       "    }\n",
       "\n",
       "    .dataframe tbody tr th {\n",
       "        vertical-align: top;\n",
       "    }\n",
       "\n",
       "    .dataframe thead th {\n",
       "        text-align: right;\n",
       "    }\n",
       "</style>\n",
       "<table border=\"1\" class=\"dataframe\">\n",
       "  <thead>\n",
       "    <tr style=\"text-align: right;\">\n",
       "      <th></th>\n",
       "      <th>Pvalue</th>\n",
       "      <th>SNP</th>\n",
       "      <th>SNPChr</th>\n",
       "      <th>SNPPos</th>\n",
       "      <th>AssessedAllele</th>\n",
       "      <th>OtherAllele</th>\n",
       "      <th>Zscore</th>\n",
       "      <th>Gene</th>\n",
       "      <th>GeneSymbol</th>\n",
       "      <th>GeneChr</th>\n",
       "      <th>GenePos</th>\n",
       "      <th>NrCohorts</th>\n",
       "      <th>NrSamples</th>\n",
       "      <th>FDR</th>\n",
       "      <th>BonferroniP</th>\n",
       "    </tr>\n",
       "  </thead>\n",
       "  <tbody>\n",
       "    <tr>\n",
       "      <th>0</th>\n",
       "      <td>1.128895e-308</td>\n",
       "      <td>rs3811444</td>\n",
       "      <td>1</td>\n",
       "      <td>248039451</td>\n",
       "      <td>T</td>\n",
       "      <td>C</td>\n",
       "      <td>-72.1091</td>\n",
       "      <td>ENSG00000166086</td>\n",
       "      <td>JAM3</td>\n",
       "      <td>11</td>\n",
       "      <td>133980358</td>\n",
       "      <td>37</td>\n",
       "      <td>31684</td>\n",
       "      <td>0.0</td>\n",
       "      <td>6.659500e-302</td>\n",
       "    </tr>\n",
       "    <tr>\n",
       "      <th>1</th>\n",
       "      <td>1.128895e-308</td>\n",
       "      <td>rs35340377</td>\n",
       "      <td>1</td>\n",
       "      <td>248038210</td>\n",
       "      <td>A</td>\n",
       "      <td>G</td>\n",
       "      <td>-65.4239</td>\n",
       "      <td>ENSG00000166086</td>\n",
       "      <td>JAM3</td>\n",
       "      <td>11</td>\n",
       "      <td>133980358</td>\n",
       "      <td>37</td>\n",
       "      <td>31684</td>\n",
       "      <td>0.0</td>\n",
       "      <td>6.659500e-302</td>\n",
       "    </tr>\n",
       "    <tr>\n",
       "      <th>2</th>\n",
       "      <td>1.128895e-308</td>\n",
       "      <td>rs705705</td>\n",
       "      <td>12</td>\n",
       "      <td>56435504</td>\n",
       "      <td>C</td>\n",
       "      <td>G</td>\n",
       "      <td>60.9665</td>\n",
       "      <td>ENSG00000265688</td>\n",
       "      <td>MAFG-AS1</td>\n",
       "      <td>17</td>\n",
       "      <td>79887167</td>\n",
       "      <td>9</td>\n",
       "      <td>10740</td>\n",
       "      <td>0.0</td>\n",
       "      <td>6.659500e-302</td>\n",
       "    </tr>\n",
       "    <tr>\n",
       "      <th>3</th>\n",
       "      <td>1.128895e-308</td>\n",
       "      <td>rs1131017</td>\n",
       "      <td>12</td>\n",
       "      <td>56435929</td>\n",
       "      <td>C</td>\n",
       "      <td>G</td>\n",
       "      <td>59.0847</td>\n",
       "      <td>ENSG00000265688</td>\n",
       "      <td>MAFG-AS1</td>\n",
       "      <td>17</td>\n",
       "      <td>79887167</td>\n",
       "      <td>20</td>\n",
       "      <td>15015</td>\n",
       "      <td>0.0</td>\n",
       "      <td>6.659500e-302</td>\n",
       "    </tr>\n",
       "    <tr>\n",
       "      <th>4</th>\n",
       "      <td>1.128895e-308</td>\n",
       "      <td>rs10876864</td>\n",
       "      <td>12</td>\n",
       "      <td>56401085</td>\n",
       "      <td>G</td>\n",
       "      <td>A</td>\n",
       "      <td>58.8148</td>\n",
       "      <td>ENSG00000265688</td>\n",
       "      <td>MAFG-AS1</td>\n",
       "      <td>17</td>\n",
       "      <td>79887167</td>\n",
       "      <td>19</td>\n",
       "      <td>14930</td>\n",
       "      <td>0.0</td>\n",
       "      <td>6.659500e-302</td>\n",
       "    </tr>\n",
       "  </tbody>\n",
       "</table>\n",
       "</div>"
      ],
      "text/plain": [
       "          Pvalue         SNP  SNPChr     SNPPos AssessedAllele OtherAllele   \n",
       "0  1.128895e-308   rs3811444       1  248039451              T           C  \\\n",
       "1  1.128895e-308  rs35340377       1  248038210              A           G   \n",
       "2  1.128895e-308    rs705705      12   56435504              C           G   \n",
       "3  1.128895e-308   rs1131017      12   56435929              C           G   \n",
       "4  1.128895e-308  rs10876864      12   56401085              G           A   \n",
       "\n",
       "    Zscore             Gene GeneSymbol GeneChr    GenePos  NrCohorts   \n",
       "0 -72.1091  ENSG00000166086       JAM3      11  133980358         37  \\\n",
       "1 -65.4239  ENSG00000166086       JAM3      11  133980358         37   \n",
       "2  60.9665  ENSG00000265688   MAFG-AS1      17   79887167          9   \n",
       "3  59.0847  ENSG00000265688   MAFG-AS1      17   79887167         20   \n",
       "4  58.8148  ENSG00000265688   MAFG-AS1      17   79887167         19   \n",
       "\n",
       "   NrSamples  FDR    BonferroniP  \n",
       "0      31684  0.0  6.659500e-302  \n",
       "1      31684  0.0  6.659500e-302  \n",
       "2      10740  0.0  6.659500e-302  \n",
       "3      15015  0.0  6.659500e-302  \n",
       "4      14930  0.0  6.659500e-302  "
      ]
     },
     "execution_count": 4,
     "metadata": {},
     "output_type": "execute_result"
    }
   ],
   "source": [
    "# Print trans\n",
    "trans.head()"
   ]
  },
  {
   "cell_type": "code",
   "execution_count": 5,
   "id": "c398fa63-4d51-40a5-baab-d085d2beaf66",
   "metadata": {},
   "outputs": [
    {
     "name": "stdout",
     "output_type": "stream",
     "text": [
      "PyTorch version: 2.0.0+cu118\n",
      "PyTorch Geometric version: 2.3.1\n"
     ]
    }
   ],
   "source": [
    "print(f\"PyTorch version: {torch.__version__}\")\n",
    "print(f\"PyTorch Geometric version: {torch_geometric.__version__}\")"
   ]
  },
  {
   "cell_type": "code",
   "execution_count": 6,
   "id": "a2efe87e-d367-4fea-93f0-1502f08c9558",
   "metadata": {
    "tags": []
   },
   "outputs": [
    {
     "name": "stdout",
     "output_type": "stream",
     "text": [
      "Data(x=[3681495, 1], edge_index=[2, 21134900])\n"
     ]
    }
   ],
   "source": [
    "# Combine the cis and trans dataframes\n",
    "data = pd.concat([cis, trans], ignore_index=True)\n",
    "\n",
    "# Create mappings for genes and SNPs to integer indices\n",
    "genes = data['Gene'].unique()\n",
    "snps = data['SNP'].unique()\n",
    "gene_to_idx = {gene: idx for idx, gene in enumerate(genes)}\n",
    "snp_to_idx = {snp: idx + len(genes) for idx, snp in enumerate(snps)}\n",
    "\n",
    "# Create node type labels\n",
    "node_types = torch.tensor([0] * len(genes) + [1] * len(snps), dtype=torch.long)\n",
    "\n",
    "# Create edges\n",
    "edges = data.apply(lambda row: (gene_to_idx[row['Gene']], snp_to_idx[row['SNP']]), axis=1)\n",
    "edges = torch.tensor(list(edges), dtype=torch.long).t().contiguous()\n",
    "\n",
    "# Convert edges to undirected\n",
    "edges = to_undirected(edges)\n",
    "\n",
    "# Create the PyTorch Geometric graph\n",
    "graph = Data(x=node_types.view(-1, 1), edge_index=edges)\n",
    "\n",
    "print(graph)"
   ]
  },
  {
   "cell_type": "code",
   "execution_count": 7,
   "id": "fe9a2dbb-d7fe-42e5-bf73-93ae7c604381",
   "metadata": {
    "tags": []
   },
   "outputs": [
    {
     "name": "stdout",
     "output_type": "stream",
     "text": [
      "Number of nodes: 3681495\n",
      "Number of edges: 10567450\n",
      "Number of connected components: 424\n",
      "Average degree: 5.74\n",
      "Density: 0.0000015594\n",
      "Assortativity: -0.2267915607\n"
     ]
    }
   ],
   "source": [
    "G = nx.Graph()\n",
    "for edge in graph.edge_index.t().numpy():\n",
    "    G.add_edge(edge[0], edge[1])\n",
    "\n",
    "# Number of nodes\n",
    "num_nodes = G.number_of_nodes()\n",
    "\n",
    "# Number of edges\n",
    "num_edges = G.number_of_edges()\n",
    "\n",
    "# Number of connected components\n",
    "num_connected_components = nx.number_connected_components(G)\n",
    "\n",
    "# Average degree\n",
    "average_degree = np.mean([degree for _, degree in G.degree()])\n",
    "\n",
    "# Density\n",
    "density = nx.density(G)\n",
    "\n",
    "# Assortativity\n",
    "assortativity = nx.degree_assortativity_coefficient(G)\n",
    "\n",
    "print(f\"Number of nodes: {num_nodes}\")\n",
    "print(f\"Number of edges: {num_edges}\")\n",
    "print(f\"Number of connected components: {num_connected_components}\")\n",
    "print(f\"Average degree: {average_degree:.2f}\")\n",
    "print(f\"Density: {density:.10f}\")\n",
    "print(f\"Assortativity: {assortativity:.10f}\")"
   ]
  },
  {
   "cell_type": "markdown",
   "id": "64c04a0f-6b11-4759-b562-edb64e7a3841",
   "metadata": {},
   "source": [
    "## OGB Dataset"
   ]
  },
  {
   "cell_type": "code",
   "execution_count": 8,
   "id": "177dffe4-daf3-47c5-9b50-9d06996bb621",
   "metadata": {
    "tags": []
   },
   "outputs": [],
   "source": [
    "# Create a constructor for the DatasetSaver:\n",
    "dataset_name = 'ogbl-eQTL'\n",
    "saver = DatasetSaver(dataset_name=dataset_name, is_hetero=False, version=1)"
   ]
  },
  {
   "cell_type": "code",
   "execution_count": 9,
   "id": "fe2b223f-702e-4df3-b7c1-8614d8106585",
   "metadata": {},
   "outputs": [],
   "source": [
    "# Create mappings for genes and SNPs to integer indices:\n",
    "genes = data['Gene'].unique()\n",
    "snps = data['SNP'].unique()\n",
    "gene_to_idx = {gene: idx for idx, gene in enumerate(genes)}\n",
    "snp_to_idx = {snp: idx + len(genes) for idx, snp in enumerate(snps)}"
   ]
  },
  {
   "cell_type": "code",
   "execution_count": 10,
   "id": "7ad82fc4-8201-4a4a-8f2b-1564373fbc79",
   "metadata": {},
   "outputs": [],
   "source": [
    "# Create node type labels:\n",
    "node_types = torch.tensor([0] * len(genes) + [1] * len(snps), dtype=torch.long)"
   ]
  },
  {
   "cell_type": "code",
   "execution_count": 11,
   "id": "ef27fe03-4480-4f0c-866f-699cd248c204",
   "metadata": {},
   "outputs": [],
   "source": [
    "# Create edges and convert them to undirected:\n",
    "edges = data.apply(lambda row: (gene_to_idx[row['Gene']], snp_to_idx[row['SNP']]), axis=1)\n",
    "edges = torch.tensor(list(edges), dtype=torch.long).t().contiguous()\n",
    "edges = to_undirected(edges)"
   ]
  },
  {
   "cell_type": "code",
   "execution_count": 12,
   "id": "4d6186a0-060a-4608-a77d-779801dbb320",
   "metadata": {},
   "outputs": [
    {
     "name": "stdout",
     "output_type": "stream",
     "text": [
      "dict_keys(['edge_index', 'num_nodes', 'node_feat'])\n",
      "Saving edge_index\n",
      "Saving all the files!\n",
      "Validating...\n",
      "Reading saved files\n",
      "Loading necessary files...\n",
      "This might take a while.\n",
      "Processing graphs...\n"
     ]
    },
    {
     "name": "stderr",
     "output_type": "stream",
     "text": [
      "100%|████████████████████████████████████████████████████████████████████████████████████████████| 1/1 [00:00<?, ?it/s]\n"
     ]
    },
    {
     "name": "stdout",
     "output_type": "stream",
     "text": [
      "Checking read graphs and given graphs are the same\n"
     ]
    },
    {
     "name": "stderr",
     "output_type": "stream",
     "text": [
      "100%|████████████████████████████████████████████████████████████████████████████████████| 1/1 [00:00<00:00,  1.62it/s]\n"
     ]
    }
   ],
   "source": [
    "# Create the PyTorch Geometric graph and save it\n",
    "graph = Data(x=node_types.view(-1, 1), edge_index=edges)\n",
    "\n",
    "# Convert the PyTorch Geometric graph to a dictionary format for OGB\n",
    "graph_dict = {\n",
    "    'edge_index': graph.edge_index.numpy(),\n",
    "    'num_nodes': graph.num_nodes,\n",
    "    'node_feat': graph.x.numpy()\n",
    "}\n",
    "\n",
    "# Save the graph list with a single graph\n",
    "saver.save_graph_list([graph_dict])"
   ]
  },
  {
   "cell_type": "code",
   "execution_count": 13,
   "id": "2219d30c-7e6d-488b-a12d-801f2ed230be",
   "metadata": {},
   "outputs": [],
   "source": [
    "# Calculate the number of data points and create a permutation of indices:\n",
    "num_data = graph.edge_index.shape[1] // 2  # Since it's an undirected graph\n",
    "perm = np.random.permutation(num_data)"
   ]
  },
  {
   "cell_type": "code",
   "execution_count": 14,
   "id": "db6ef2d5-753c-446d-b388-0e84ce2730ef",
   "metadata": {},
   "outputs": [],
   "source": [
    "# Create the train, valid, and test splits using the 80:10:10 ratio:\n",
    "train_size = int(0.8 * num_data)\n",
    "valid_size = int(0.1 * num_data)\n",
    "\n",
    "split_idx = dict()\n",
    "split_idx['train'] = perm[:train_size]\n",
    "split_idx['valid'] = perm[train_size: train_size + valid_size]\n",
    "split_idx['test'] = perm[train_size + valid_size:]"
   ]
  },
  {
   "cell_type": "code",
   "execution_count": 15,
   "id": "432f8270-6647-4a8e-a7c7-1a88ee753564",
   "metadata": {},
   "outputs": [],
   "source": [
    "# Save the dataset split using the save_split method of the saver object:\n",
    "saver.save_split(split_idx, split_name='random')"
   ]
  },
  {
   "cell_type": "code",
   "execution_count": 16,
   "id": "eacdf1a0-d0cc-4f27-9cbc-2eaf88b7590e",
   "metadata": {
    "tags": []
   },
   "outputs": [],
   "source": [
    "# Store all the mapping information and README.md in mapping_path and \n",
    "# call saver.copy_mapping_dir(mapping_path):\n",
    "\n",
    "mapping_path = 'mapping/'\n",
    "\n",
    "# prepare mapping information first and store it under this directory (empty below).\n",
    "os.makedirs(mapping_path, exist_ok=True)  # Add exist_ok=True to avoid issues if the directory already exists\n",
    "\n",
    "# Replace os.mknod() with open() to create an empty README.md file\n",
    "with open(os.path.join(mapping_path, 'README.md'), 'w') as f:\n",
    "    pass\n",
    "\n",
    "saver.copy_mapping_dir(mapping_path)"
   ]
  },
  {
   "cell_type": "code",
   "execution_count": 17,
   "id": "5e49397d-b2da-4237-8759-6692d6bbd99f",
   "metadata": {
    "tags": []
   },
   "outputs": [
    {
     "name": "stdout",
     "output_type": "stream",
     "text": [
      "link_prediction\n",
      "None\n"
     ]
    }
   ],
   "source": [
    "# Saving task information\n",
    "saver.save_task_info(task_type='link_prediction', eval_metric='rocauc')"
   ]
  },
  {
   "cell_type": "code",
   "execution_count": 18,
   "id": "c4741f8a-31fb-412b-b541-20e7ea748e43",
   "metadata": {},
   "outputs": [],
   "source": [
    "# Get the meta information dictionary:\n",
    "meta_dict = saver.get_meta_dict()"
   ]
  },
  {
   "cell_type": "code",
   "execution_count": 19,
   "id": "b03d4fb3-651d-4a1f-91cc-c0f2c1c6bf23",
   "metadata": {},
   "outputs": [
    {
     "name": "stdout",
     "output_type": "stream",
     "text": [
      "Loading necessary files...\n",
      "This might take a while.\n",
      "Processing graphs...\n"
     ]
    },
    {
     "name": "stderr",
     "output_type": "stream",
     "text": [
      "100%|████████████████████████████████████████████████████████████████████████████████████████████| 1/1 [00:00<?, ?it/s]"
     ]
    },
    {
     "name": "stdout",
     "output_type": "stream",
     "text": [
      "Saving...\n"
     ]
    },
    {
     "name": "stderr",
     "output_type": "stream",
     "text": [
      "\n"
     ]
    },
    {
     "name": "stdout",
     "output_type": "stream",
     "text": [
      "{'edge_index': array([[      0,       0,       0, ..., 3681492, 3681493, 3681494],\n",
      "       [  17470,   17471,   17472, ...,   11916,    6531,    6488]],\n",
      "      dtype=int64), 'edge_feat': None, 'node_feat': array([[0],\n",
      "       [0],\n",
      "       [0],\n",
      "       ...,\n",
      "       [1],\n",
      "       [1],\n",
      "       [1]], dtype=int64), 'num_nodes': 3681495}\n"
     ]
    }
   ],
   "source": [
    "# Test the OGB dataset object:\n",
    "dataset = LinkPropPredDataset(dataset_name, meta_dict=meta_dict)\n",
    "print(dataset[0])"
   ]
  },
  {
   "cell_type": "code",
   "execution_count": 20,
   "id": "624ab191-a112-4abc-8224-3ce610925308",
   "metadata": {
    "tags": []
   },
   "outputs": [],
   "source": [
    "# Zip and clean up:\n",
    "saver.zip()\n",
    "saver.cleanup()"
   ]
  }
 ],
 "metadata": {
  "kernelspec": {
   "display_name": "Python 3 (ipykernel)",
   "language": "python",
   "name": "python3"
  },
  "language_info": {
   "codemirror_mode": {
    "name": "ipython",
    "version": 3
   },
   "file_extension": ".py",
   "mimetype": "text/x-python",
   "name": "python",
   "nbconvert_exporter": "python",
   "pygments_lexer": "ipython3",
   "version": "3.11.3"
  },
  "toc-autonumbering": false
 },
 "nbformat": 4,
 "nbformat_minor": 5
}
