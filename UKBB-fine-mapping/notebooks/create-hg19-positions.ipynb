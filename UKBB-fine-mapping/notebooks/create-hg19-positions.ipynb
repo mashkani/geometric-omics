{
 "cells": [
  {
   "cell_type": "markdown",
   "id": "00910a35-ffbc-4497-bcc8-21f008c326fb",
   "metadata": {},
   "source": [
    "# Gene Positions Notebook"
   ]
  },
  {
   "cell_type": "markdown",
   "id": "a6fd8be8-14cc-4d80-a944-76c5235c078b",
   "metadata": {},
   "source": [
    "## Data Description"
   ]
  },
  {
   "cell_type": "markdown",
   "id": "c30d6716-fce0-4ca7-9f2b-0070bda37dce",
   "metadata": {
    "tags": []
   },
   "source": [
    "## .bed -> .csv"
   ]
  },
  {
   "cell_type": "code",
   "execution_count": 1,
   "id": "d4345459-b1ef-477c-8f06-c8f54c194af0",
   "metadata": {
    "tags": []
   },
   "outputs": [],
   "source": [
    "import pandas as pd"
   ]
  },
  {
   "cell_type": "code",
   "execution_count": 2,
   "id": "51b27983-bfa4-4d39-8b64-5af5eec086a5",
   "metadata": {
    "tags": []
   },
   "outputs": [],
   "source": [
    "file_path = '~/Desktop/geometric-omics/UKBB-fine-mapping/data/hg19-genes.txt'\n",
    "df = pd.read_csv(file_path, sep='\\t')"
   ]
  },
  {
   "cell_type": "code",
   "execution_count": 3,
   "id": "2a92ebd3-74f5-4119-af13-42366afa6e52",
   "metadata": {
    "tags": []
   },
   "outputs": [
    {
     "data": {
      "text/html": [
       "<div>\n",
       "<style scoped>\n",
       "    .dataframe tbody tr th:only-of-type {\n",
       "        vertical-align: middle;\n",
       "    }\n",
       "\n",
       "    .dataframe tbody tr th {\n",
       "        vertical-align: top;\n",
       "    }\n",
       "\n",
       "    .dataframe thead th {\n",
       "        text-align: right;\n",
       "    }\n",
       "</style>\n",
       "<table border=\"1\" class=\"dataframe\">\n",
       "  <thead>\n",
       "    <tr style=\"text-align: right;\">\n",
       "      <th></th>\n",
       "      <th>#hg19.knownGene.name</th>\n",
       "      <th>hg19.knownGene.chrom</th>\n",
       "      <th>hg19.knownGene.strand</th>\n",
       "      <th>hg19.knownGene.txStart</th>\n",
       "      <th>hg19.knownGene.txEnd</th>\n",
       "      <th>hg19.knownGene.cdsStart</th>\n",
       "      <th>hg19.knownGene.cdsEnd</th>\n",
       "      <th>hg19.knownGene.proteinID</th>\n",
       "      <th>hg19.kgXref.geneSymbol</th>\n",
       "    </tr>\n",
       "  </thead>\n",
       "  <tbody>\n",
       "    <tr>\n",
       "      <th>0</th>\n",
       "      <td>uc001aaa.3</td>\n",
       "      <td>chr1</td>\n",
       "      <td>+</td>\n",
       "      <td>11873</td>\n",
       "      <td>14409</td>\n",
       "      <td>11873</td>\n",
       "      <td>11873</td>\n",
       "      <td>NaN</td>\n",
       "      <td>DDX11L1</td>\n",
       "    </tr>\n",
       "    <tr>\n",
       "      <th>1</th>\n",
       "      <td>uc010nxr.1</td>\n",
       "      <td>chr1</td>\n",
       "      <td>+</td>\n",
       "      <td>11873</td>\n",
       "      <td>14409</td>\n",
       "      <td>11873</td>\n",
       "      <td>11873</td>\n",
       "      <td>NaN</td>\n",
       "      <td>DDX11L1</td>\n",
       "    </tr>\n",
       "    <tr>\n",
       "      <th>2</th>\n",
       "      <td>uc010nxq.1</td>\n",
       "      <td>chr1</td>\n",
       "      <td>+</td>\n",
       "      <td>11873</td>\n",
       "      <td>14409</td>\n",
       "      <td>12189</td>\n",
       "      <td>13639</td>\n",
       "      <td>B7ZGX9</td>\n",
       "      <td>DDX11L1</td>\n",
       "    </tr>\n",
       "    <tr>\n",
       "      <th>3</th>\n",
       "      <td>uc009vis.3</td>\n",
       "      <td>chr1</td>\n",
       "      <td>-</td>\n",
       "      <td>14361</td>\n",
       "      <td>16765</td>\n",
       "      <td>14361</td>\n",
       "      <td>14361</td>\n",
       "      <td>NaN</td>\n",
       "      <td>WASH7P</td>\n",
       "    </tr>\n",
       "    <tr>\n",
       "      <th>4</th>\n",
       "      <td>uc009vjc.1</td>\n",
       "      <td>chr1</td>\n",
       "      <td>-</td>\n",
       "      <td>16857</td>\n",
       "      <td>17751</td>\n",
       "      <td>16857</td>\n",
       "      <td>16857</td>\n",
       "      <td>NaN</td>\n",
       "      <td>WASH7P</td>\n",
       "    </tr>\n",
       "  </tbody>\n",
       "</table>\n",
       "</div>"
      ],
      "text/plain": [
       "  #hg19.knownGene.name hg19.knownGene.chrom hg19.knownGene.strand   \n",
       "0           uc001aaa.3                 chr1                     +  \\\n",
       "1           uc010nxr.1                 chr1                     +   \n",
       "2           uc010nxq.1                 chr1                     +   \n",
       "3           uc009vis.3                 chr1                     -   \n",
       "4           uc009vjc.1                 chr1                     -   \n",
       "\n",
       "   hg19.knownGene.txStart  hg19.knownGene.txEnd  hg19.knownGene.cdsStart   \n",
       "0                   11873                 14409                    11873  \\\n",
       "1                   11873                 14409                    11873   \n",
       "2                   11873                 14409                    12189   \n",
       "3                   14361                 16765                    14361   \n",
       "4                   16857                 17751                    16857   \n",
       "\n",
       "   hg19.knownGene.cdsEnd hg19.knownGene.proteinID hg19.kgXref.geneSymbol  \n",
       "0                  11873                      NaN                DDX11L1  \n",
       "1                  11873                      NaN                DDX11L1  \n",
       "2                  13639                   B7ZGX9                DDX11L1  \n",
       "3                  14361                      NaN                 WASH7P  \n",
       "4                  16857                      NaN                 WASH7P  "
      ]
     },
     "execution_count": 3,
     "metadata": {},
     "output_type": "execute_result"
    }
   ],
   "source": [
    "df.head()"
   ]
  },
  {
   "cell_type": "code",
   "execution_count": 4,
   "id": "2e27d704-c3cc-40f8-8e60-c9cf2fe7953d",
   "metadata": {
    "tags": []
   },
   "outputs": [
    {
     "name": "stdout",
     "output_type": "stream",
     "text": [
      "Index(['name', 'chrom', 'strand', 'txStart', 'txEnd', 'cdsStart', 'cdsEnd',\n",
      "       'proteinID', 'geneSymbol'],\n",
      "      dtype='object')\n"
     ]
    }
   ],
   "source": [
    "# Define a dictionary to map the old column names to the new shortened names\n",
    "column_mapping = {\n",
    "    '#hg19.knownGene.name': 'name',\n",
    "    'hg19.knownGene.chrom': 'chrom',\n",
    "    'hg19.knownGene.strand': 'strand',\n",
    "    'hg19.knownGene.txStart': 'txStart',\n",
    "    'hg19.knownGene.txEnd': 'txEnd',\n",
    "    'hg19.knownGene.cdsStart': 'cdsStart',\n",
    "    'hg19.knownGene.cdsEnd': 'cdsEnd',\n",
    "    'hg19.knownGene.proteinID': 'proteinID',\n",
    "    'hg19.kgXref.geneSymbol': 'geneSymbol'\n",
    "}\n",
    "\n",
    "# Use the rename() function with the column_mapping dictionary\n",
    "df = df.rename(columns=column_mapping)\n",
    "\n",
    "# Print the updated DataFrame with shortened column names\n",
    "print(df.columns)"
   ]
  },
  {
   "cell_type": "code",
   "execution_count": 5,
   "id": "d29ff855-bd58-4b6d-b9fa-912d99a8c98f",
   "metadata": {
    "tags": []
   },
   "outputs": [
    {
     "data": {
      "text/html": [
       "<div>\n",
       "<style scoped>\n",
       "    .dataframe tbody tr th:only-of-type {\n",
       "        vertical-align: middle;\n",
       "    }\n",
       "\n",
       "    .dataframe tbody tr th {\n",
       "        vertical-align: top;\n",
       "    }\n",
       "\n",
       "    .dataframe thead th {\n",
       "        text-align: right;\n",
       "    }\n",
       "</style>\n",
       "<table border=\"1\" class=\"dataframe\">\n",
       "  <thead>\n",
       "    <tr style=\"text-align: right;\">\n",
       "      <th></th>\n",
       "      <th>geneSymbol</th>\n",
       "      <th>txStart</th>\n",
       "      <th>txEnd</th>\n",
       "      <th>chrom</th>\n",
       "    </tr>\n",
       "  </thead>\n",
       "  <tbody>\n",
       "    <tr>\n",
       "      <th>0</th>\n",
       "      <td>5S_rRNA</td>\n",
       "      <td>8.343594e+07</td>\n",
       "      <td>8.343605e+07</td>\n",
       "      <td>chr1</td>\n",
       "    </tr>\n",
       "    <tr>\n",
       "      <th>1</th>\n",
       "      <td>6M1-18</td>\n",
       "      <td>7.347854e+05</td>\n",
       "      <td>7.642133e+05</td>\n",
       "      <td>chr6_apd_hap1</td>\n",
       "    </tr>\n",
       "    <tr>\n",
       "      <th>2</th>\n",
       "      <td>7SK</td>\n",
       "      <td>8.991109e+07</td>\n",
       "      <td>8.991133e+07</td>\n",
       "      <td>chr1</td>\n",
       "    </tr>\n",
       "    <tr>\n",
       "      <th>3</th>\n",
       "      <td>A1BG</td>\n",
       "      <td>5.885817e+07</td>\n",
       "      <td>5.886486e+07</td>\n",
       "      <td>chr19</td>\n",
       "    </tr>\n",
       "    <tr>\n",
       "      <th>4</th>\n",
       "      <td>A1BG-AS1</td>\n",
       "      <td>5.886123e+07</td>\n",
       "      <td>5.886655e+07</td>\n",
       "      <td>chr19</td>\n",
       "    </tr>\n",
       "  </tbody>\n",
       "</table>\n",
       "</div>"
      ],
      "text/plain": [
       "  geneSymbol       txStart         txEnd          chrom\n",
       "0    5S_rRNA  8.343594e+07  8.343605e+07           chr1\n",
       "1     6M1-18  7.347854e+05  7.642133e+05  chr6_apd_hap1\n",
       "2        7SK  8.991109e+07  8.991133e+07           chr1\n",
       "3       A1BG  5.885817e+07  5.886486e+07          chr19\n",
       "4   A1BG-AS1  5.886123e+07  5.886655e+07          chr19"
      ]
     },
     "execution_count": 5,
     "metadata": {},
     "output_type": "execute_result"
    }
   ],
   "source": [
    "# Create a subset with unique geneSymbol values and average of txStart\n",
    "subset_start = df.groupby('geneSymbol')['txStart'].mean().reset_index()\n",
    "subset_end = df.groupby('geneSymbol')['txEnd'].mean().reset_index()\n",
    "\n",
    "# Ensure that each geneSymbol is associated with only one chrom\n",
    "subset_chrom = df.drop_duplicates(subset=['geneSymbol'], keep='first')[['geneSymbol', 'chrom']]\n",
    "\n",
    "combined_subset = pd.merge(subset_start, subset_end, on='geneSymbol')\n",
    "combined_subset = pd.merge(combined_subset, subset_chrom, on='geneSymbol')\n",
    "\n",
    "# Print the subset DataFrame\n",
    "combined_subset.head()"
   ]
  },
  {
   "cell_type": "code",
   "execution_count": 6,
   "id": "44bc0266-417b-491f-8216-ce17186d3f1d",
   "metadata": {
    "tags": []
   },
   "outputs": [],
   "source": [
    "combined_subset.to_csv('hg19-gene-positions.csv', index=False)"
   ]
  }
 ],
 "metadata": {
  "kernelspec": {
   "display_name": "Python 3 (ipykernel)",
   "language": "python",
   "name": "python3"
  },
  "language_info": {
   "codemirror_mode": {
    "name": "ipython",
    "version": 3
   },
   "file_extension": ".py",
   "mimetype": "text/x-python",
   "name": "python",
   "nbconvert_exporter": "python",
   "pygments_lexer": "ipython3",
   "version": "3.11.3"
  }
 },
 "nbformat": 4,
 "nbformat_minor": 5
}
