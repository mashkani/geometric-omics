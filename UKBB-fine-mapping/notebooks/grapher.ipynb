{
 "cells": [
  {
   "cell_type": "markdown",
   "id": "00910a35-ffbc-4497-bcc8-21f008c326fb",
   "metadata": {},
   "source": [
    "# Grapher"
   ]
  },
  {
   "cell_type": "markdown",
   "id": "a6fd8be8-14cc-4d80-a944-76c5235c078b",
   "metadata": {},
   "source": [
    "## Data description"
   ]
  },
  {
   "cell_type": "markdown",
   "id": "a99bc773-edf8-4567-8767-a742662cb8ef",
   "metadata": {
    "tags": []
   },
   "source": [
    "### UKBB_94traits_release1.{tsv|bed}.gz"
   ]
  },
  {
   "cell_type": "markdown",
   "id": "a0ef1038-e49a-4607-9c7d-5ce6daf1d94b",
   "metadata": {},
   "source": [
    "This file contains genetic variant data used in a study investigating 94 complex diseases and traits from the UK Biobank. Each row represents a variant with columns detailing characteristics such as its genomic location, allele details, association statistics, and more. It also includes indicators for linkage disequilibrium with variants failing Hardy Weinberg equilibrium or with common structural variants. This file is particularly valuable for those interested in the genetic association results and the fine-mapping of these traits and diseases.\n",
    "\n",
    "Columns:\n",
    "\n",
    "1. Chromosome: hg19 autosomes only\n",
    "2. Start: 0-indexed hg19 start position\n",
    "3. End: 0-indexed hg19 end position\n",
    "4. Variant: unique variant identifier (chr:pos:ref:alt)\n",
    "5. rsid: rsid identifier\n",
    "6. Allele1: reference allele in hg19\n",
    "7. Allele2: alternative allele in hg19\n",
    "8. Minor allele: minor allele in cohort\n",
    "9. Cohort: GWAS cohort\n",
    "10. Model_marginal: type of regression model used\n",
    "11. Method: fine-mapping method used\n",
    "12. Trait: abbreviation for phenotype in genetic association tests\n",
    "13. Region: fine-mapping region in hg19\n",
    "14. MAF: minor allele frequency in cohort\n",
    "15. Beta_marginal: marginal association effect size (effect allele: alternative)\n",
    "16. SE_marginal: standard error on marginal association effect size\n",
    "17. Chisq_marginal: test statistic for marginal association\n",
    "18. PIP: posterior probability of association from fine-mapping\n",
    "19. CS_ID: ID of 95% credible set (-1 if variant not in 95% CS)\n",
    "20. Beta_posterior: posterior expectation of true effect size (effect allele: alternative)\n",
    "21. SD_posterior: posterior standard deviation of true effect size\n",
    "22. LD_HWE: indicator for LD (R^2 > 0.6) with a variant that failed HWE (p < 10^-12) in UK10K LD\n",
    "23. LD_SV: indicator for LD (R^2 > 0.8) with a common structural variant in gnomAD European samples"
   ]
  },
  {
   "cell_type": "markdown",
   "id": "113b033d-95f5-4584-b10c-72969a166612",
   "metadata": {},
   "source": [
    "## Load libraries"
   ]
  },
  {
   "cell_type": "code",
   "execution_count": 1,
   "id": "d4345459-b1ef-477c-8f06-c8f54c194af0",
   "metadata": {
    "tags": []
   },
   "outputs": [],
   "source": [
    "import os\n",
    "import pandoc\n",
    "\n",
    "import numpy as np\n",
    "import pandas as pd\n",
    "import matplotlib.pyplot as plt\n",
    "from sklearn.model_selection import train_test_split\n",
    "from sklearn.metrics import precision_recall_fscore_support, roc_auc_score, average_precision_score\n",
    "from sklearn.preprocessing import LabelEncoder, StandardScaler\n",
    "\n",
    "import torch\n",
    "import torch.nn.functional as F\n",
    "import torch_geometric\n",
    "from torch_geometric.data import Data\n",
    "from torch_geometric.nn import GCNConv, GATConv\n",
    "from torch_geometric.utils import to_undirected, negative_sampling\n",
    "\n",
    "import networkx as nx\n",
    "from ogb.io import DatasetSaver\n",
    "from ogb.linkproppred import LinkPropPredDataset\n",
    "\n",
    "from scipy.spatial import cKDTree"
   ]
  },
  {
   "cell_type": "markdown",
   "id": "a14f7ab7-4bf0-4dba-9428-9580338d9aa7",
   "metadata": {},
   "source": [
    "## Perform checks"
   ]
  },
  {
   "cell_type": "code",
   "execution_count": 2,
   "id": "b729b64d-2166-4dbb-9c4c-4173e0c9e807",
   "metadata": {
    "tags": []
   },
   "outputs": [
    {
     "name": "stdout",
     "output_type": "stream",
     "text": [
      "PyTorch version: 2.0.0+cu118\n",
      "PyTorch Geometric version: 2.3.1\n"
     ]
    }
   ],
   "source": [
    "print(f\"PyTorch version: {torch.__version__}\")\n",
    "print(f\"PyTorch Geometric version: {torch_geometric.__version__}\")"
   ]
  },
  {
   "cell_type": "code",
   "execution_count": 3,
   "id": "4f213c8b-5dc0-468b-b7d0-72c08a6e5282",
   "metadata": {
    "tags": []
   },
   "outputs": [
    {
     "name": "stdout",
     "output_type": "stream",
     "text": [
      "Using NVIDIA GeForce RTX 3060 Ti (cuda)\n",
      "CUDA version: 11.8\n",
      "Number of CUDA devices: 1\n"
     ]
    }
   ],
   "source": [
    "if torch.cuda.is_available():\n",
    "    device = torch.device(\"cuda\")          # Current CUDA device\n",
    "    print(f\"Using {torch.cuda.get_device_name()} ({device})\")\n",
    "    print(f\"CUDA version: {torch.version.cuda}\")\n",
    "    print(f\"Number of CUDA devices: {torch.cuda.device_count()}\")\n",
    "else:\n",
    "    print(\"CUDA is not available on this device.\")"
   ]
  },
  {
   "cell_type": "markdown",
   "id": "602a754a-7836-439e-801c-7efca6d2dfc0",
   "metadata": {
    "tags": []
   },
   "source": [
    "## Load data"
   ]
  },
  {
   "cell_type": "code",
   "execution_count": 4,
   "id": "05fe5b06-7392-4d62-a1e8-af081cdf3e6c",
   "metadata": {
    "tags": []
   },
   "outputs": [],
   "source": [
    "data = pd.read_csv('~/Desktop/geometric-omics/UKBB-fine-mapping/data/UKBB_94traits_release1.csv')\n",
    "hg19_gene_positions = pd.read_csv(\"~/Desktop/geometric-omics/UKBB-fine-mapping/data/hg19-gene-positions.csv\") "
   ]
  },
  {
   "cell_type": "code",
   "execution_count": 5,
   "id": "b3de12a0-5352-4bbc-9d24-baf89c6b6570",
   "metadata": {
    "tags": []
   },
   "outputs": [],
   "source": [
    "data['position'] = data['variant'].str.split(':').str[1]"
   ]
  },
  {
   "cell_type": "markdown",
   "id": "148e3e7c-413a-4014-a103-1762a804bc50",
   "metadata": {
    "tags": []
   },
   "source": [
    "## Get geneSymbol"
   ]
  },
  {
   "cell_type": "code",
   "execution_count": 6,
   "id": "74d4d183-cc94-4d72-9c95-e5347d43f760",
   "metadata": {
    "tags": []
   },
   "outputs": [
    {
     "name": "stdout",
     "output_type": "stream",
     "text": [
      "CPU times: total: 1min 51s\n",
      "Wall time: 3min 20s\n"
     ]
    }
   ],
   "source": [
    "%%time\n",
    "\n",
    "# Sort the dataframes and convert columns to string type\n",
    "data = data.sort_values(by=['chromosome', 'start'])\n",
    "data['chromosome'] = data['chromosome'].astype(str)\n",
    "\n",
    "hg19_gene_positions = hg19_gene_positions.sort_values(by=['chrom', 'txStart'])\n",
    "hg19_gene_positions['chrom'] = hg19_gene_positions['chrom'].astype(str)\n",
    "\n",
    "# Define leniency\n",
    "leniency = 100000\n",
    "\n",
    "# Convert the 'chrom' column to category type for efficient memory usage\n",
    "data['chromosome'] = data['chromosome'].astype('category')\n",
    "hg19_gene_positions['chrom'] = hg19_gene_positions['chrom'].astype('category')\n",
    "\n",
    "# Create an empty dictionary to store geneSymbols\n",
    "gene_symbols_dict = {}\n",
    "\n",
    "# Iterate over unique chromosome\n",
    "for chromosome in data['chromosome'].cat.categories:\n",
    "    # Subset data for current chromosome\n",
    "    data_chromosome = data[data['chromosome'] == chromosome]\n",
    "    hg19_gene_positions_chromosome = hg19_gene_positions[hg19_gene_positions['chrom'] == chromosome]\n",
    "\n",
    "    # Build KDTree for efficient nearest-neighbor search\n",
    "    tree = cKDTree(np.expand_dims(hg19_gene_positions_chromosome['txStart'].values, axis=1))\n",
    "\n",
    "    # Query the KDTree for nearest neighbors within the leniency\n",
    "    distances, indices = tree.query(np.expand_dims(data_chromosome['start'].values, axis=1), distance_upper_bound=leniency)\n",
    "\n",
    "    # Create a list of gene symbols\n",
    "    gene_symbols = []\n",
    "    for idx, distance in zip(indices, distances):\n",
    "        if distance == np.inf:\n",
    "            gene_symbols.append('N/A')  # or any other default value you want\n",
    "        else:\n",
    "            gene_symbols.append(hg19_gene_positions_chromosome.iloc[idx]['geneSymbol'])\n",
    "\n",
    "    # Assign geneSymbols to data dictionary\n",
    "    for idx, gene_symbol in zip(data_chromosome.index, gene_symbols):\n",
    "        gene_symbols_dict[idx] = gene_symbol\n",
    "\n",
    "# Convert the dictionary to a Series and assign it to a new column in 'data'\n",
    "data['geneSymbol'] = pd.Series(gene_symbols_dict)"
   ]
  },
  {
   "cell_type": "code",
   "execution_count": 7,
   "id": "f2594b60-01fa-49ad-86b0-b38c0ee4c80f",
   "metadata": {
    "tags": []
   },
   "outputs": [
    {
     "name": "stdout",
     "output_type": "stream",
     "text": [
      "Number of null values in data['geneSymbol']:  0\n",
      "Number of unique elements in data['geneSymbol']:  24464\n",
      "Number of unique elements in hg19_gene_positions['geneSymbol']:  29014\n"
     ]
    }
   ],
   "source": [
    "null_values = data['geneSymbol'].isnull().sum()\n",
    "print(\"Number of null values in data['geneSymbol']: \", null_values)\n",
    "\n",
    "unique_elements1 = data['geneSymbol'].nunique()\n",
    "print(\"Number of unique elements in data['geneSymbol']: \", unique_elements1)\n",
    "\n",
    "unique_elements2 = hg19_gene_positions['geneSymbol'].nunique()\n",
    "print(\"Number of unique elements in hg19_gene_positions['geneSymbol']: \", unique_elements2)"
   ]
  },
  {
   "cell_type": "markdown",
   "id": "66eddaed-2f48-4440-b6d6-0dc247f23ea8",
   "metadata": {
    "tags": []
   },
   "source": [
    "## Proposed graph features"
   ]
  },
  {
   "cell_type": "markdown",
   "id": "8fe89142-2b65-469b-b330-1620d303312b",
   "metadata": {},
   "source": [
    "All columns from `data` dataframe:\n",
    "\n",
    "Phenotype nodes features:\n",
    "- `trait` column\n",
    "\n",
    "Gene nodes features:\n",
    "- `geneSymbol` column\n",
    "- `chromosome` column\n",
    "- `start` column\n",
    "- `end` column\n",
    "\n",
    "SNP node features:\n",
    "- `rsid` column\n",
    "- `chromosome` column\n",
    "- `position` column\n",
    "- `allele1` column\n",
    "- `allele2` column\n",
    "\n",
    "Edge features:\n",
    "- undirected\n",
    "- weighted (use `pip` column)"
   ]
  },
  {
   "cell_type": "markdown",
   "id": "71abe533-6610-4f82-b8d6-533eb010858d",
   "metadata": {
    "tags": []
   },
   "source": [
    "## Create graph"
   ]
  },
  {
   "cell_type": "code",
   "execution_count": 8,
   "id": "849b5a45-34bc-441b-a20d-c78ff8a92d87",
   "metadata": {
    "tags": []
   },
   "outputs": [
    {
     "name": "stdout",
     "output_type": "stream",
     "text": [
      "Number of nodes: 4099617\n",
      "Number of edges: 5377879\n",
      "Node feature dimension: 6\n",
      "Node types: tensor([0, 0, 0,  ..., 2, 2, 2])\n"
     ]
    }
   ],
   "source": [
    "# Create mappings for phenotypes, genes and SNPs to integer indices\n",
    "phenotypes = data['trait'].unique()\n",
    "genes = data['geneSymbol'].unique()\n",
    "snps = data['rsid'].unique()\n",
    "phenotype_to_idx = {phenotype: idx for idx, phenotype in enumerate(phenotypes)}\n",
    "gene_to_idx = {gene: idx + len(phenotypes) for idx, gene in enumerate(genes)}\n",
    "snp_to_idx = {snp: idx + len(phenotypes) + len(genes) for idx, snp in enumerate(snps)}\n",
    "\n",
    "# Create node feature vectors for phenotypes, genes and SNPs\n",
    "phenotype_features = data.loc[data['trait'].isin(phenotypes)][['trait']].drop_duplicates().sort_values(by='trait').reset_index(drop=True)\n",
    "gene_features = data.loc[data['geneSymbol'].isin(genes)][['geneSymbol', 'chromosome', 'start', 'end']].drop_duplicates().sort_values(by='geneSymbol').reset_index(drop=True)\n",
    "snp_features = data.loc[data['rsid'].isin(snps)][['rsid', 'chromosome', 'position', 'allele1', 'allele2']].drop_duplicates().sort_values(by='rsid').reset_index(drop=True)\n",
    "\n",
    "# Create node type labels\n",
    "node_types = torch.tensor([0] * len(phenotypes) + [1] * len(genes) + [2] * len(snps), dtype=torch.long)\n",
    "\n",
    "# Create edges and edge attributes\n",
    "edges = data.apply(lambda row: (snp_to_idx[row['rsid']], phenotype_to_idx[row['trait']]), axis=1)\n",
    "edges = torch.tensor(list(edges), dtype=torch.long).t().contiguous()\n",
    "\n",
    "edge_attr = data[['pip']].values.astype(np.float32)  # get pip values as edge attributes\n",
    "edge_attr = torch.tensor(edge_attr, dtype=torch.float)\n",
    "\n",
    "# Combine the feature vectors\n",
    "combined_features = pd.concat([phenotype_features, gene_features, snp_features], ignore_index=True).drop(['trait', 'geneSymbol', 'rsid'], axis=1)\n",
    "\n",
    "# Now you can fill NaNs with 'N/A'\n",
    "nan_replacements = {'chromosome': 'N/A', 'start': 0, 'end': 0, 'position': 0, 'allele1': 'N/A', 'allele2': 'N/A'}\n",
    "for col, replacement in nan_replacements.items():\n",
    "    if col in combined_features:\n",
    "        if combined_features[col].dtype.name == 'category' and replacement not in combined_features[col].cat.categories:\n",
    "            combined_features[col] = combined_features[col].cat.add_categories([replacement])\n",
    "        combined_features[col].fillna(replacement, inplace=True)\n",
    "\n",
    "# Label encoding for categorical columns\n",
    "le = LabelEncoder()\n",
    "combined_features = combined_features.apply(lambda col: le.fit_transform(col.astype(str)) if col.dtype == 'object' else col)\n",
    "\n",
    "# Standardize numerical features\n",
    "scaler = StandardScaler()\n",
    "numerical_columns = ['start', 'end', 'position']\n",
    "categorical_columns = ['chromosome', 'allele1', 'allele2']\n",
    "for col in categorical_columns:\n",
    "    combined_features[col] = combined_features[col].astype('category').cat.codes\n",
    "\n",
    "features = torch.tensor(combined_features.values, dtype=torch.float)\n",
    "\n",
    "\n",
    "# Create the PyTorch Geometric graph\n",
    "graph = Data(x=features, edge_index=edges, edge_attr=edge_attr)\n",
    "graph.node_types = node_types\n",
    "\n",
    "print(f\"Number of nodes: {graph.num_nodes}\")\n",
    "print(f\"Number of edges: {graph.num_edges}\")\n",
    "print(f\"Node feature dimension: {graph.num_node_features}\")\n",
    "print(f\"Node types: {graph.node_types}\")"
   ]
  },
  {
   "cell_type": "markdown",
   "id": "a60cae52-2493-43ae-9e27-e7dc67c3a7f9",
   "metadata": {
    "tags": []
   },
   "source": [
    "## Graph stats"
   ]
  },
  {
   "cell_type": "code",
   "execution_count": 9,
   "id": "96d7d0e2-80bf-4a82-9c1c-6aac6307aab4",
   "metadata": {
    "tags": []
   },
   "outputs": [
    {
     "name": "stdout",
     "output_type": "stream",
     "text": [
      "Are there any NaN values in features? False\n"
     ]
    }
   ],
   "source": [
    "# Check for NaN values in features\n",
    "nan_in_features = torch.isnan(graph.x).any().item()\n",
    "print(f\"Are there any NaN values in features? {nan_in_features}\")"
   ]
  },
  {
   "cell_type": "code",
   "execution_count": 10,
   "id": "7e54401c-fe40-44f9-afed-9d903c67200c",
   "metadata": {
    "tags": []
   },
   "outputs": [
    {
     "name": "stdout",
     "output_type": "stream",
     "text": [
      "Graph stats:\n",
      "Number of nodes: 2049535\n",
      "Number of SNP nodes: 2049441\n",
      "Number of Gene nodes: 24464\n",
      "Number of Phenotype nodes: 94\n",
      "Number of edges: 3814894\n",
      "Number of connected components: 1\n",
      "Average degree: 3.72\n",
      "Median degree: 1.0\n",
      "Standard deviation of degree: 393.56\n",
      "Density: 0.0000018164\n",
      "Assortativity: -0.0102581519\n",
      "Average edge weight: 0.01\n",
      "Median edge weight: 0.0026488471776247025\n",
      "Standard deviation of edge weight: 0.05\n",
      "\n",
      "\n"
     ]
    }
   ],
   "source": [
    "def print_graph_stats(graph, phenotypes, snps):\n",
    "    G = nx.Graph()\n",
    "    edge_weights = graph.edge_attr.view(-1)  # ensure that edge_attr is a 1D tensor\n",
    "    for edge, weight in zip(graph.edge_index.t().numpy(), edge_weights):\n",
    "        G.add_edge(edge[0], edge[1], weight=weight.item())  # use the pip value as the edge weight\n",
    "\n",
    "    num_nodes = G.number_of_nodes()\n",
    "    num_phenotypes = len(phenotypes)\n",
    "    num_genes = len(genes)\n",
    "    num_snps = len(snps)\n",
    "    num_edges = G.number_of_edges()\n",
    "    num_connected_components = nx.number_connected_components(G)\n",
    "    average_degree = np.mean([degree for _, degree in G.degree()])\n",
    "    median_degree = np.median([degree for _, degree in G.degree()])\n",
    "    std_degree = np.std([degree for _, degree in G.degree()])\n",
    "    density = nx.density(G)\n",
    "    assortativity = nx.degree_assortativity_coefficient(G)\n",
    "    edge_weights = [data[\"weight\"] for _, _, data in G.edges(data=True)]\n",
    "    average_weight = np.mean(edge_weights)\n",
    "    median_weight = np.median(edge_weights)\n",
    "    std_weight = np.std(edge_weights)\n",
    "\n",
    "    print(f\"Number of nodes: {num_nodes}\")\n",
    "    print(\"Number of SNP nodes:\", num_snps)\n",
    "    print(\"Number of Gene nodes:\", num_genes)\n",
    "    print(\"Number of Phenotype nodes:\", num_phenotypes)\n",
    "    print(f\"Number of edges: {num_edges}\")\n",
    "    print(f\"Number of connected components: {num_connected_components}\")\n",
    "    print(f\"Average degree: {average_degree:.2f}\")\n",
    "    print(f\"Median degree: {median_degree}\")\n",
    "    print(f\"Standard deviation of degree: {std_degree:.2f}\")\n",
    "    print(f\"Density: {density:.10f}\")\n",
    "    print(f\"Assortativity: {assortativity:.10f}\")\n",
    "    print(f\"Average edge weight: {average_weight:.2f}\")\n",
    "    print(f\"Median edge weight: {median_weight}\")\n",
    "    print(f\"Standard deviation of edge weight: {std_weight:.2f}\")\n",
    "\n",
    "# Print\n",
    "print(\"Graph stats:\")\n",
    "print_graph_stats(graph, phenotypes, snps)\n",
    "print(\"\\n\")"
   ]
  },
  {
   "cell_type": "markdown",
   "id": "4a51e96d-660c-4b4f-8ac4-9a07dba5bcc1",
   "metadata": {
    "tags": []
   },
   "source": [
    "## Save graph"
   ]
  },
  {
   "cell_type": "code",
   "execution_count": 12,
   "id": "1744860e-e107-4495-9e88-79fe72ac7db7",
   "metadata": {
    "tags": []
   },
   "outputs": [],
   "source": [
    "# Save the PyTorch Geometric graph\n",
    "torch.save(graph, 'graph.pth')"
   ]
  }
 ],
 "metadata": {
  "kernelspec": {
   "display_name": "Python 3 (ipykernel)",
   "language": "python",
   "name": "python3"
  },
  "language_info": {
   "codemirror_mode": {
    "name": "ipython",
    "version": 3
   },
   "file_extension": ".py",
   "mimetype": "text/x-python",
   "name": "python",
   "nbconvert_exporter": "python",
   "pygments_lexer": "ipython3",
   "version": "3.11.3"
  }
 },
 "nbformat": 4,
 "nbformat_minor": 5
}
