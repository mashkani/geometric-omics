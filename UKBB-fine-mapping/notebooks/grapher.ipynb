{
 "cells": [
  {
   "cell_type": "markdown",
   "id": "00910a35-ffbc-4497-bcc8-21f008c326fb",
   "metadata": {},
   "source": [
    "# Grapher"
   ]
  },
  {
   "cell_type": "markdown",
   "id": "a6fd8be8-14cc-4d80-a944-76c5235c078b",
   "metadata": {},
   "source": [
    "## Data Description"
   ]
  },
  {
   "cell_type": "markdown",
   "id": "a99bc773-edf8-4567-8767-a742662cb8ef",
   "metadata": {
    "tags": []
   },
   "source": [
    "### UKBB_94traits_release1.{tsv|bed}.gz"
   ]
  },
  {
   "cell_type": "markdown",
   "id": "a0ef1038-e49a-4607-9c7d-5ce6daf1d94b",
   "metadata": {},
   "source": [
    "This file contains genetic variant data used in a study investigating 94 complex diseases and traits from the UK Biobank. Each row represents a variant with columns detailing characteristics such as its genomic location, allele details, association statistics, and more. It also includes indicators for linkage disequilibrium with variants failing Hardy Weinberg equilibrium or with common structural variants. This file is particularly valuable for those interested in the genetic association results and the fine-mapping of these traits and diseases.\n",
    "\n",
    "Columns:\n",
    "\n",
    "- Chromosome: hg19 autosomes only\n",
    "- Start: 0-indexed hg19 start position\n",
    "- End: 0-indexed hg19 end position\n",
    "- Variant: unique variant identifier (chr:pos:ref:alt)\n",
    "- rsid: rsid identifier\n",
    "- Allele1: reference allele in hg19\n",
    "- Allele2: alternative allele in hg19\n",
    "- Minor allele: minor allele in cohort\n",
    "- Cohort: GWAS cohort\n",
    "- Model_marginal: type of regression model used\n",
    "- Method: fine-mapping method used\n",
    "- Trait: abbreviation for phenotype in genetic association tests\n",
    "- Region: fine-mapping region in hg19\n",
    "- MAF: minor allele frequency in cohort\n",
    "- Beta_marginal: marginal association effect size (effect allele: alternative)\n",
    "- SE_marginal: standard error on marginal association effect size\n",
    "- Chisq_marginal: test statistic for marginal association\n",
    "- PIP: posterior probability of association from fine-mapping\n",
    "- CS_ID: ID of 95% credible set (-1 if variant not in 95% CS)\n",
    "- Beta_posterior: posterior expectation of true effect size (effect allele: alternative)\n",
    "- SD_posterior: posterior standard deviation of true effect size\n",
    "- LD_HWE: indicator for LD (R^2 > 0.6) with a variant that failed HWE (p < 10^-12) in UK10K LD\n",
    "- LD_SV: indicator for LD (R^2 > 0.8) with a common structural variant in gnomAD European samples"
   ]
  },
  {
   "cell_type": "markdown",
   "id": "4cf8180d-f858-41bb-8eef-947178d1443d",
   "metadata": {},
   "source": [
    "### UKBB_94traits_release1_regions.bed.gz"
   ]
  },
  {
   "cell_type": "markdown",
   "id": "9f61d367-6f94-4950-9865-b4addac78bb8",
   "metadata": {},
   "source": [
    "This file also pertains to the same study but instead focuses on genomic regions used for fine-mapping. Each row represents a genomic region with columns providing details about the cohort, trait, and whether the fine-mapping methods (FINEMAP, SuSiE) successfully completed. It also includes the variant identifier for variants located in these regions. This file is useful for exploring the specific regions of the genome under investigation in the study and the outcomes of the fine-mapping process.\n",
    "\n",
    "Columns:\n",
    "\n",
    "- Chromosome: hg19 autosomes only\n",
    "- Start: 0-indexed hg19 start position\n",
    "- End: 0-indexed hg19 end position\n",
    "- Cohort: GWAS cohort\n",
    "- Trait: abbreviation for phenotype in genetic association tests\n",
    "- Region: fine-mapping region in hg19\n",
    "- Variant: unique variant identifier (chr:pos:ref:alt)\n",
    "- Success_FINEMAP: indicator for successful FINEMAP completion\n",
    "- Success_SuSiE: indicator for successful SuSiE completion"
   ]
  },
  {
   "cell_type": "code",
   "execution_count": 1,
   "id": "d4345459-b1ef-477c-8f06-c8f54c194af0",
   "metadata": {
    "tags": []
   },
   "outputs": [],
   "source": [
    "import os\n",
    "\n",
    "import numpy as np\n",
    "import pandas as pd\n",
    "import matplotlib.pyplot as plt\n",
    "from sklearn.model_selection import train_test_split\n",
    "from sklearn.metrics import precision_recall_fscore_support, roc_auc_score, average_precision_score\n",
    "from sklearn.preprocessing import LabelEncoder, StandardScaler\n",
    "\n",
    "import torch\n",
    "import torch.nn.functional as F\n",
    "import torch_geometric\n",
    "from torch_geometric.data import Data\n",
    "from torch_geometric.nn import GCNConv, GATConv\n",
    "from torch_geometric.utils import to_undirected, negative_sampling\n",
    "\n",
    "import networkx as nx\n",
    "from ogb.io import DatasetSaver\n",
    "from ogb.linkproppred import LinkPropPredDataset"
   ]
  },
  {
   "cell_type": "code",
   "execution_count": 2,
   "id": "b729b64d-2166-4dbb-9c4c-4173e0c9e807",
   "metadata": {
    "tags": []
   },
   "outputs": [
    {
     "name": "stdout",
     "output_type": "stream",
     "text": [
      "PyTorch version: 2.0.0+cu118\n",
      "PyTorch Geometric version: 2.3.1\n"
     ]
    }
   ],
   "source": [
    "print(f\"PyTorch version: {torch.__version__}\")\n",
    "print(f\"PyTorch Geometric version: {torch_geometric.__version__}\")"
   ]
  },
  {
   "cell_type": "code",
   "execution_count": 3,
   "id": "4f213c8b-5dc0-468b-b7d0-72c08a6e5282",
   "metadata": {
    "tags": []
   },
   "outputs": [
    {
     "name": "stdout",
     "output_type": "stream",
     "text": [
      "Using NVIDIA GeForce RTX 3060 Ti (cuda)\n",
      "CUDA version: 11.8\n",
      "Number of CUDA devices: 1\n"
     ]
    }
   ],
   "source": [
    "if torch.cuda.is_available():\n",
    "    device = torch.device(\"cuda\")          # Current CUDA device\n",
    "    print(f\"Using {torch.cuda.get_device_name()} ({device})\")\n",
    "    print(f\"CUDA version: {torch.version.cuda}\")\n",
    "    print(f\"Number of CUDA devices: {torch.cuda.device_count()}\")\n",
    "else:\n",
    "    print(\"CUDA is not available on this device.\")"
   ]
  },
  {
   "cell_type": "code",
   "execution_count": 4,
   "id": "05fe5b06-7392-4d62-a1e8-af081cdf3e6c",
   "metadata": {
    "tags": []
   },
   "outputs": [],
   "source": [
    "data = pd.read_csv('~/Desktop/geometric-omics/UKBB-fine-mapping/data/UKBB_94traits_release1.csv')"
   ]
  },
  {
   "cell_type": "code",
   "execution_count": 5,
   "id": "b3de12a0-5352-4bbc-9d24-baf89c6b6570",
   "metadata": {
    "tags": []
   },
   "outputs": [],
   "source": [
    "data['position'] = data['variant'].str.split(':').str[1]"
   ]
  },
  {
   "cell_type": "markdown",
   "id": "8fe89142-2b65-469b-b330-1620d303312b",
   "metadata": {},
   "source": [
    "Phenotype nodes features:\n",
    "- trait\n",
    "- region\n",
    "- chromosome\n",
    "- start\n",
    "- end\n",
    "\n",
    "\n",
    "SNP node features:\n",
    "\n",
    "- rsid\n",
    "- chromosome\n",
    "- position\n",
    "- allele1\n",
    "- allele2\n",
    "\n",
    "Edge features:\n",
    "- directed\n",
    "- weighted (use `pip` column)"
   ]
  },
  {
   "cell_type": "code",
   "execution_count": 6,
   "id": "a837cedd-66ed-4136-99d7-5cc1708cb92f",
   "metadata": {
    "tags": []
   },
   "outputs": [
    {
     "data": {
      "text/html": [
       "<div>\n",
       "<style scoped>\n",
       "    .dataframe tbody tr th:only-of-type {\n",
       "        vertical-align: middle;\n",
       "    }\n",
       "\n",
       "    .dataframe tbody tr th {\n",
       "        vertical-align: top;\n",
       "    }\n",
       "\n",
       "    .dataframe thead th {\n",
       "        text-align: right;\n",
       "    }\n",
       "</style>\n",
       "<table border=\"1\" class=\"dataframe\">\n",
       "  <thead>\n",
       "    <tr style=\"text-align: right;\">\n",
       "      <th></th>\n",
       "      <th>chromosome</th>\n",
       "      <th>start</th>\n",
       "      <th>end</th>\n",
       "      <th>variant</th>\n",
       "      <th>rsid</th>\n",
       "      <th>allele1</th>\n",
       "      <th>allele2</th>\n",
       "      <th>minorallele</th>\n",
       "      <th>cohort</th>\n",
       "      <th>model_marginal</th>\n",
       "      <th>...</th>\n",
       "      <th>beta_marginal</th>\n",
       "      <th>se_marginal</th>\n",
       "      <th>chisq_marginal</th>\n",
       "      <th>pip</th>\n",
       "      <th>cs_id</th>\n",
       "      <th>beta_posterior</th>\n",
       "      <th>sd_posterior</th>\n",
       "      <th>LD_HWE</th>\n",
       "      <th>LD_SV</th>\n",
       "      <th>position</th>\n",
       "    </tr>\n",
       "  </thead>\n",
       "  <tbody>\n",
       "    <tr>\n",
       "      <th>0</th>\n",
       "      <td>chr1</td>\n",
       "      <td>755434.0</td>\n",
       "      <td>755435.0</td>\n",
       "      <td>chr1:755435:T:G</td>\n",
       "      <td>rs184270342</td>\n",
       "      <td>T</td>\n",
       "      <td>G</td>\n",
       "      <td>G</td>\n",
       "      <td>UKBB</td>\n",
       "      <td>BOLT</td>\n",
       "      <td>...</td>\n",
       "      <td>-0.041597</td>\n",
       "      <td>0.015979</td>\n",
       "      <td>6.77670</td>\n",
       "      <td>0.001039</td>\n",
       "      <td>-1</td>\n",
       "      <td>-0.000039</td>\n",
       "      <td>0.001322</td>\n",
       "      <td>False</td>\n",
       "      <td>False</td>\n",
       "      <td>755435</td>\n",
       "    </tr>\n",
       "    <tr>\n",
       "      <th>1</th>\n",
       "      <td>chr1</td>\n",
       "      <td>759599.0</td>\n",
       "      <td>759602.0</td>\n",
       "      <td>chr1:759600:AGT:A</td>\n",
       "      <td>1:759600_AGT_A</td>\n",
       "      <td>AGT</td>\n",
       "      <td>A</td>\n",
       "      <td>A</td>\n",
       "      <td>UKBB</td>\n",
       "      <td>BOLT</td>\n",
       "      <td>...</td>\n",
       "      <td>-0.037406</td>\n",
       "      <td>0.014444</td>\n",
       "      <td>6.70666</td>\n",
       "      <td>0.001013</td>\n",
       "      <td>-1</td>\n",
       "      <td>-0.000035</td>\n",
       "      <td>0.001175</td>\n",
       "      <td>False</td>\n",
       "      <td>False</td>\n",
       "      <td>759600</td>\n",
       "    </tr>\n",
       "    <tr>\n",
       "      <th>2</th>\n",
       "      <td>chr1</td>\n",
       "      <td>768115.0</td>\n",
       "      <td>768116.0</td>\n",
       "      <td>chr1:768116:A:AGTTTT</td>\n",
       "      <td>rs376645387</td>\n",
       "      <td>A</td>\n",
       "      <td>AGTTTT</td>\n",
       "      <td>A</td>\n",
       "      <td>UKBB</td>\n",
       "      <td>BOLT</td>\n",
       "      <td>...</td>\n",
       "      <td>-0.010750</td>\n",
       "      <td>0.003233</td>\n",
       "      <td>11.05590</td>\n",
       "      <td>0.003874</td>\n",
       "      <td>-1</td>\n",
       "      <td>-0.000040</td>\n",
       "      <td>0.000664</td>\n",
       "      <td>False</td>\n",
       "      <td>False</td>\n",
       "      <td>768116</td>\n",
       "    </tr>\n",
       "    <tr>\n",
       "      <th>3</th>\n",
       "      <td>chr1</td>\n",
       "      <td>768252.0</td>\n",
       "      <td>768253.0</td>\n",
       "      <td>chr1:768253:A:C</td>\n",
       "      <td>rs2977608</td>\n",
       "      <td>A</td>\n",
       "      <td>C</td>\n",
       "      <td>A</td>\n",
       "      <td>UKBB</td>\n",
       "      <td>BOLT</td>\n",
       "      <td>...</td>\n",
       "      <td>0.007864</td>\n",
       "      <td>0.002525</td>\n",
       "      <td>9.69922</td>\n",
       "      <td>0.003492</td>\n",
       "      <td>-1</td>\n",
       "      <td>0.000025</td>\n",
       "      <td>0.000444</td>\n",
       "      <td>False</td>\n",
       "      <td>False</td>\n",
       "      <td>768253</td>\n",
       "    </tr>\n",
       "    <tr>\n",
       "      <th>4</th>\n",
       "      <td>chr1</td>\n",
       "      <td>768447.0</td>\n",
       "      <td>768448.0</td>\n",
       "      <td>chr1:768448:G:A</td>\n",
       "      <td>rs12562034</td>\n",
       "      <td>G</td>\n",
       "      <td>A</td>\n",
       "      <td>A</td>\n",
       "      <td>UKBB</td>\n",
       "      <td>BOLT</td>\n",
       "      <td>...</td>\n",
       "      <td>0.012003</td>\n",
       "      <td>0.003585</td>\n",
       "      <td>11.21150</td>\n",
       "      <td>0.004263</td>\n",
       "      <td>-1</td>\n",
       "      <td>0.000049</td>\n",
       "      <td>0.000779</td>\n",
       "      <td>False</td>\n",
       "      <td>False</td>\n",
       "      <td>768448</td>\n",
       "    </tr>\n",
       "  </tbody>\n",
       "</table>\n",
       "<p>5 rows × 24 columns</p>\n",
       "</div>"
      ],
      "text/plain": [
       "  chromosome     start       end               variant            rsid   \n",
       "0       chr1  755434.0  755435.0       chr1:755435:T:G     rs184270342  \\\n",
       "1       chr1  759599.0  759602.0     chr1:759600:AGT:A  1:759600_AGT_A   \n",
       "2       chr1  768115.0  768116.0  chr1:768116:A:AGTTTT     rs376645387   \n",
       "3       chr1  768252.0  768253.0       chr1:768253:A:C       rs2977608   \n",
       "4       chr1  768447.0  768448.0       chr1:768448:G:A      rs12562034   \n",
       "\n",
       "  allele1 allele2 minorallele cohort model_marginal  ... beta_marginal   \n",
       "0       T       G           G   UKBB           BOLT  ...     -0.041597  \\\n",
       "1     AGT       A           A   UKBB           BOLT  ...     -0.037406   \n",
       "2       A  AGTTTT           A   UKBB           BOLT  ...     -0.010750   \n",
       "3       A       C           A   UKBB           BOLT  ...      0.007864   \n",
       "4       G       A           A   UKBB           BOLT  ...      0.012003   \n",
       "\n",
       "  se_marginal chisq_marginal       pip  cs_id  beta_posterior  sd_posterior   \n",
       "0    0.015979        6.77670  0.001039     -1       -0.000039      0.001322  \\\n",
       "1    0.014444        6.70666  0.001013     -1       -0.000035      0.001175   \n",
       "2    0.003233       11.05590  0.003874     -1       -0.000040      0.000664   \n",
       "3    0.002525        9.69922  0.003492     -1        0.000025      0.000444   \n",
       "4    0.003585       11.21150  0.004263     -1        0.000049      0.000779   \n",
       "\n",
       "   LD_HWE  LD_SV  position  \n",
       "0   False  False    755435  \n",
       "1   False  False    759600  \n",
       "2   False  False    768116  \n",
       "3   False  False    768253  \n",
       "4   False  False    768448  \n",
       "\n",
       "[5 rows x 24 columns]"
      ]
     },
     "execution_count": 6,
     "metadata": {},
     "output_type": "execute_result"
    }
   ],
   "source": [
    "data.head()"
   ]
  },
  {
   "cell_type": "code",
   "execution_count": 7,
   "id": "acbd47a7-8fa8-4d2a-8031-5a957a606d52",
   "metadata": {
    "tags": []
   },
   "outputs": [
    {
     "data": {
      "text/plain": [
       "Index(['chromosome', 'start', 'end', 'variant', 'rsid', 'allele1', 'allele2',\n",
       "       'minorallele', 'cohort', 'model_marginal', 'method', 'trait', 'region',\n",
       "       'maf', 'beta_marginal', 'se_marginal', 'chisq_marginal', 'pip', 'cs_id',\n",
       "       'beta_posterior', 'sd_posterior', 'LD_HWE', 'LD_SV', 'position'],\n",
       "      dtype='object')"
      ]
     },
     "execution_count": 7,
     "metadata": {},
     "output_type": "execute_result"
    }
   ],
   "source": [
    "data.columns"
   ]
  },
  {
   "cell_type": "code",
   "execution_count": 8,
   "id": "849b5a45-34bc-441b-a20d-c78ff8a92d87",
   "metadata": {
    "tags": []
   },
   "outputs": [
    {
     "name": "stdout",
     "output_type": "stream",
     "text": [
      "Number of nodes: 5864975\n",
      "Number of edges: 5377879\n",
      "Node feature dimension: 7\n",
      "Node types: tensor([0, 0, 0,  ..., 1, 1, 1])\n"
     ]
    }
   ],
   "source": [
    "# Create mappings for phenotypes and SNPs to integer indices\n",
    "phenotypes = data['trait'].unique()\n",
    "snps = data['rsid'].unique()\n",
    "phenotype_to_idx = {phenotype: idx for idx, phenotype in enumerate(phenotypes)}\n",
    "snp_to_idx = {snp: idx + len(phenotypes) for idx, snp in enumerate(snps)}\n",
    "\n",
    "# Create node feature vectors for phenotypes and SNPs\n",
    "phenotype_features = data.loc[data['trait'].isin(phenotypes)][['trait', 'region', 'chromosome', 'start', 'end']].drop_duplicates().sort_values(by='trait').reset_index(drop=True)\n",
    "snp_features = data.loc[data['rsid'].isin(snps)][['rsid', 'chromosome', 'position', 'allele1', 'allele2']].drop_duplicates().sort_values(by='rsid').reset_index(drop=True)\n",
    "\n",
    "# Create node type labels\n",
    "node_types = torch.tensor([0] * len(phenotypes) + [1] * len(snps), dtype=torch.long)\n",
    "\n",
    "# Create edges and edge attributes\n",
    "edges = data.apply(lambda row: (snp_to_idx[row['rsid']], phenotype_to_idx[row['trait']]), axis=1)\n",
    "edges = torch.tensor(list(edges), dtype=torch.long).t().contiguous()\n",
    "\n",
    "edge_attr = data[['pip']].values.astype(np.float32)  # get pip values as edge attributes\n",
    "edge_attr = torch.tensor(edge_attr, dtype=torch.float)\n",
    "\n",
    "# Combine the feature vectors\n",
    "combined_features = pd.concat([phenotype_features, snp_features], ignore_index=True).drop(['trait', 'rsid'], axis=1)\n",
    "\n",
    "# Replace NaN and empty strings with \"N/A\" or 0 as appropriate\n",
    "combined_features.fillna({'chromosome': 'N/A', 'start': 0, 'end': 0, 'position': 0, 'allele1': 'N/A', 'allele2': 'N/A'}, inplace=True)\n",
    "combined_features.replace({'chromosome': {'': 'N/A'}, 'allele1': {'': 'N/A'}, 'allele2': {'': 'N/A'}}, inplace=True)\n",
    "\n",
    "# Label encoding for categorical columns\n",
    "le = LabelEncoder()\n",
    "combined_features = combined_features.apply(lambda col: le.fit_transform(col.astype(str)) if col.dtype == 'object' else col)\n",
    "\n",
    "# Standardize numerical features\n",
    "numerical_columns = ['start', 'end', 'position']\n",
    "scaler = StandardScaler()\n",
    "combined_features[numerical_columns] = scaler.fit_transform(combined_features[numerical_columns])\n",
    "\n",
    "# Create the PyTorch tensor\n",
    "features = torch.tensor(combined_features.values, dtype=torch.float)\n",
    "\n",
    "# Create the PyTorch Geometric graph\n",
    "graph = Data(x=features, edge_index=edges, edge_attr=edge_attr)\n",
    "graph.node_types = node_types\n",
    "\n",
    "print(f\"Number of nodes: {graph.num_nodes}\")\n",
    "print(f\"Number of edges: {graph.num_edges}\")\n",
    "print(f\"Node feature dimension: {graph.num_node_features}\")\n",
    "print(f\"Node types: {graph.node_types}\")"
   ]
  },
  {
   "cell_type": "code",
   "execution_count": 9,
   "id": "96d7d0e2-80bf-4a82-9c1c-6aac6307aab4",
   "metadata": {
    "tags": []
   },
   "outputs": [
    {
     "name": "stdout",
     "output_type": "stream",
     "text": [
      "Are there any NaN values in features? False\n"
     ]
    }
   ],
   "source": [
    "# Check for NaN values in features\n",
    "nan_in_features = torch.isnan(graph.x).any().item()\n",
    "print(f\"Are there any NaN values in features? {nan_in_features}\")"
   ]
  },
  {
   "cell_type": "code",
   "execution_count": 10,
   "id": "7e54401c-fe40-44f9-afed-9d903c67200c",
   "metadata": {
    "tags": []
   },
   "outputs": [
    {
     "name": "stdout",
     "output_type": "stream",
     "text": [
      "Graph stats:\n",
      "Number of nodes: 2049535\n",
      "Number of SNP nodes: 2049441\n",
      "Number of Phenotype nodes: 94\n",
      "Number of edges: 3814894\n",
      "Number of connected components: 1\n",
      "Average degree: 3.72\n",
      "Median degree: 1.0\n",
      "Standard deviation of degree: 393.56\n",
      "Density: 0.0000018164\n",
      "Assortativity: -0.0102581519\n",
      "Average edge weight: 0.01\n",
      "Median edge weight: 0.0026488471776247025\n",
      "Standard deviation of edge weight: 0.05\n",
      "\n",
      "\n"
     ]
    }
   ],
   "source": [
    "def print_graph_stats(graph, phenotypes, snps):\n",
    "    G = nx.Graph()\n",
    "    edge_weights = graph.edge_attr.view(-1)  # ensure that edge_attr is a 1D tensor\n",
    "    for edge, weight in zip(graph.edge_index.t().numpy(), edge_weights):\n",
    "        G.add_edge(edge[0], edge[1], weight=weight.item())  # use the pip value as the edge weight\n",
    "\n",
    "    num_nodes = G.number_of_nodes()\n",
    "    num_phenotypes = len(phenotypes)\n",
    "    num_snps = len(snps)\n",
    "    num_edges = G.number_of_edges()\n",
    "    num_connected_components = nx.number_connected_components(G)\n",
    "    average_degree = np.mean([degree for _, degree in G.degree()])\n",
    "    median_degree = np.median([degree for _, degree in G.degree()])\n",
    "    std_degree = np.std([degree for _, degree in G.degree()])\n",
    "    density = nx.density(G)\n",
    "    assortativity = nx.degree_assortativity_coefficient(G)\n",
    "    edge_weights = [data[\"weight\"] for _, _, data in G.edges(data=True)]\n",
    "    average_weight = np.mean(edge_weights)\n",
    "    median_weight = np.median(edge_weights)\n",
    "    std_weight = np.std(edge_weights)\n",
    "\n",
    "    print(f\"Number of nodes: {num_nodes}\")\n",
    "    print(\"Number of SNP nodes:\", num_snps)\n",
    "    print(\"Number of Phenotype nodes:\", num_phenotypes)\n",
    "    print(f\"Number of edges: {num_edges}\")\n",
    "    print(f\"Number of connected components: {num_connected_components}\")\n",
    "    print(f\"Average degree: {average_degree:.2f}\")\n",
    "    print(f\"Median degree: {median_degree}\")\n",
    "    print(f\"Standard deviation of degree: {std_degree:.2f}\")\n",
    "    print(f\"Density: {density:.10f}\")\n",
    "    print(f\"Assortativity: {assortativity:.10f}\")\n",
    "    print(f\"Average edge weight: {average_weight:.2f}\")\n",
    "    print(f\"Median edge weight: {median_weight}\")\n",
    "    print(f\"Standard deviation of edge weight: {std_weight:.2f}\")\n",
    "\n",
    "# Print\n",
    "print(\"Graph stats:\")\n",
    "print_graph_stats(graph, phenotypes, snps)\n",
    "print(\"\\n\")"
   ]
  },
  {
   "cell_type": "code",
   "execution_count": 11,
   "id": "1744860e-e107-4495-9e88-79fe72ac7db7",
   "metadata": {
    "tags": []
   },
   "outputs": [],
   "source": [
    "# Save the PyTorch Geometric graph\n",
    "torch.save(graph, 'graph.pth')"
   ]
  }
 ],
 "metadata": {
  "kernelspec": {
   "display_name": "Python 3 (ipykernel)",
   "language": "python",
   "name": "python3"
  },
  "language_info": {
   "codemirror_mode": {
    "name": "ipython",
    "version": 3
   },
   "file_extension": ".py",
   "mimetype": "text/x-python",
   "name": "python",
   "nbconvert_exporter": "python",
   "pygments_lexer": "ipython3",
   "version": "3.11.3"
  }
 },
 "nbformat": 4,
 "nbformat_minor": 5
}
