{
 "cells": [
  {
   "attachments": {},
   "cell_type": "markdown",
   "id": "8856a85c-cc6c-4e9c-9466-fafee6338628",
   "metadata": {
    "tags": []
   },
   "source": [
    "## README \n",
    "Website: https://www.eqtlgen.org/phase1.html\n",
    "\n",
    "Paper: https://www.nature.com/articles/s41588-021-00913-zhttps://www.nature.com/articles/s41588-021-00913-z\n",
    "\n",
    "This Jupyter notebook README covers cis-eQTL and trans-eQTL results from the eQTLGen project. The dataset includes significant files for both cis-eQTL and trans-eQTL analyses. \n",
    "\n",
    "Files contain various columns with information on P-value, SNP rs ID, SNP chromosome, SNP position, assessed and not assessed alleles, Z-score, ENSG and HGNC names of eQTL genes, gene chromosome, gene position, number of cohorts, number of samples, false discovery rate, and Bonferroni-corrected P-value.\n",
    "\n",
    "The cis-eQTL analysis includes 19,250 genes expressed in blood, with SNP-gene combinations within 1Mb from the gene center and tested in at least 2 cohorts. The trans-eQTL analysis tests 19,960 genes expressed in blood and 10,317 trait-associated SNPs based on GWAS Catalog, Immunobase, and Astle et al. study. Trans-eQTL combinations have a distance of >5Mb and were tested in at least 2 cohorts.\n",
    "\n",
    "The FDR calculation uses a pruned set of SNPs for trans-eQTL mapping and permutation-based FDR calculation. Crossmapping filters are applied to identify and remove potential artifacts in trans-eQTL results, recalculating the FDR afterward. Note that the full results file has not been filtered for cross-mapping effects, which may lead to artifacts in the data.\n",
    "\n",
    "The code below demonstrates the process of creating a graph-based representation of the combined cis and trans-eQTL data using PyTorch Geometric. This process can be broken down into several steps:\n",
    "\n",
    "1. Combine cis and trans dataframes: The code begins by concatenating the cis and trans dataframes into a single dataframe named 'data', which contains information on both cis-eQTL and trans-eQTL results. This combined dataset simplifies the process of working with the data and ensures that all relevant information is contained within a single data structure.\n",
    "\n",
    "2. Create mappings for genes and SNPs: To represent the genes and SNPs as nodes in the graph, integer indices are assigned to each unique gene and SNP. This is done using dictionaries called 'gene_to_idx' and 'snp_to_idx', which map the gene and SNP identifiers to their corresponding integer indices.\n",
    "\n",
    "3. Generate node type labels: Node type labels are created using PyTorch tensors, distinguishing between gene nodes (assigned a label of 0) and SNP nodes (assigned a label of 1). This differentiation is useful for various graph-based analyses and machine learning tasks that require knowledge of node types.\n",
    "\n",
    "4. Create edges based on gene and SNP indices: Edges in the graph represent the relationships between genes and SNPs. These edges are created by iterating over the 'data' dataframe and extracting the corresponding gene and SNP indices from the previously created mappings. The edges are then represented as a PyTorch tensor with a long data type.\n",
    "\n",
    "5. Convert edges to undirected: Since the relationships between genes and SNPs are undirected, the edges in the graph should also be undirected. This is achieved using the 'to_undirected()' function from PyTorch Geometric, which ensures that the graph correctly represents the underlying biology.\n",
    "\n",
    "6. Create a PyTorch Geometric graph: Finally, the graph is created using the PyTorch Geometric 'Data' class. The node types and edge indices are used as inputs to instantiate the graph object, which can then be utilized for further analysis and visualization.\n",
    "\n",
    "The resulting 'graph' object is a PyTorch Geometric representation of the combined cis and trans-eQTL data. The prediction task is to predict new association edges given the training edges, with the task type being link prediction. Below are a few important graph statistics:\n",
    "\n",
    "- Number of nodes: 3681495\n",
    "- Number of SNP nodes: 3664025\n",
    "- Number of Gene nodes: 17470\n",
    "- Number of edges: 10567450\n",
    "- Number of connected components: 424\n",
    "- Average degree: 5.74\n",
    "- Median degree: 2.0\n",
    "- Standard deviation of degree: 69.81\n",
    "- Density: 0.0000015594\n",
    "- Assortativity: -0.2267915607\n",
    "\n",
    "The prediction task is to predict new association edges given the training edges, with the task type being link prediction. The data splitting is random while maintaining an equal proportion of cis- and trans- associations."
   ]
  },
  {
   "attachments": {},
   "cell_type": "markdown",
   "id": "4ae5b6c8-9ccf-4c35-b6dc-e8755e8c251e",
   "metadata": {},
   "source": [
    "## Data Setup "
   ]
  },
  {
   "attachments": {},
   "cell_type": "markdown",
   "id": "6c312ac4-08e0-46ae-b18a-10f81e6b2ddb",
   "metadata": {},
   "source": [
    "### Libraries"
   ]
  },
  {
   "cell_type": "code",
   "execution_count": 1,
   "id": "08f0bf7f-91fc-4010-bb06-e5e4434c3c73",
   "metadata": {
    "tags": []
   },
   "outputs": [],
   "source": [
    "import os\n",
    "\n",
    "import numpy as np\n",
    "import pandas as pd\n",
    "import matplotlib.pyplot as plt\n",
    "from sklearn.model_selection import train_test_split\n",
    "from sklearn.metrics import precision_recall_fscore_support, roc_auc_score, average_precision_score\n",
    "\n",
    "import torch\n",
    "import torch.nn.functional as F\n",
    "import torch_geometric\n",
    "from torch_geometric.data import Data\n",
    "from torch_geometric.nn import GCNConv, GATConv\n",
    "from torch_geometric.utils import to_undirected, negative_sampling\n",
    "import torch_geometric.utils as pyg_utils\n",
    "\n",
    "import networkx as nx\n",
    "from ogb.io import DatasetSaver\n",
    "from ogb.linkproppred import LinkPropPredDataset"
   ]
  },
  {
   "cell_type": "code",
   "execution_count": 2,
   "id": "c398fa63-4d51-40a5-baab-d085d2beaf66",
   "metadata": {},
   "outputs": [
    {
     "name": "stdout",
     "output_type": "stream",
     "text": [
      "PyTorch version: 2.0.0+cu118\n",
      "PyTorch Geometric version: 2.3.1\n"
     ]
    }
   ],
   "source": [
    "print(f\"PyTorch version: {torch.__version__}\")\n",
    "print(f\"PyTorch Geometric version: {torch_geometric.__version__}\")"
   ]
  },
  {
   "attachments": {},
   "cell_type": "markdown",
   "id": "c59f449a-fcde-4fb3-92cf-98d585bf4a7e",
   "metadata": {},
   "source": [
    "### Load data"
   ]
  },
  {
   "cell_type": "code",
   "execution_count": 3,
   "id": "1837b7ee-8c4a-416b-b8eb-1e0fbcdfed40",
   "metadata": {
    "tags": []
   },
   "outputs": [],
   "source": [
    "# Read files\n",
    "cis = pd.read_csv(\"sig-cis.csv\")\n",
    "trans = pd.read_csv(\"sig-trans.csv\")"
   ]
  },
  {
   "cell_type": "code",
   "execution_count": 4,
   "id": "87d6c69b-6525-4160-a365-df6070991fab",
   "metadata": {
    "tags": []
   },
   "outputs": [
    {
     "data": {
      "text/html": [
       "<div>\n",
       "<style scoped>\n",
       "    .dataframe tbody tr th:only-of-type {\n",
       "        vertical-align: middle;\n",
       "    }\n",
       "\n",
       "    .dataframe tbody tr th {\n",
       "        vertical-align: top;\n",
       "    }\n",
       "\n",
       "    .dataframe thead th {\n",
       "        text-align: right;\n",
       "    }\n",
       "</style>\n",
       "<table border=\"1\" class=\"dataframe\">\n",
       "  <thead>\n",
       "    <tr style=\"text-align: right;\">\n",
       "      <th></th>\n",
       "      <th>Pvalue</th>\n",
       "      <th>SNP</th>\n",
       "      <th>SNPChr</th>\n",
       "      <th>SNPPos</th>\n",
       "      <th>AssessedAllele</th>\n",
       "      <th>OtherAllele</th>\n",
       "      <th>Zscore</th>\n",
       "      <th>Gene</th>\n",
       "      <th>GeneSymbol</th>\n",
       "      <th>GeneChr</th>\n",
       "      <th>GenePos</th>\n",
       "      <th>NrCohorts</th>\n",
       "      <th>NrSamples</th>\n",
       "      <th>FDR</th>\n",
       "      <th>BonferroniP</th>\n",
       "    </tr>\n",
       "  </thead>\n",
       "  <tbody>\n",
       "    <tr>\n",
       "      <th>0</th>\n",
       "      <td>3.271700e-310</td>\n",
       "      <td>rs12230244</td>\n",
       "      <td>12</td>\n",
       "      <td>10117369</td>\n",
       "      <td>T</td>\n",
       "      <td>A</td>\n",
       "      <td>200.7534</td>\n",
       "      <td>ENSG00000172322</td>\n",
       "      <td>CLEC12A</td>\n",
       "      <td>12</td>\n",
       "      <td>10126104</td>\n",
       "      <td>34</td>\n",
       "      <td>30596</td>\n",
       "      <td>0.0</td>\n",
       "      <td>4.166200e-302</td>\n",
       "    </tr>\n",
       "    <tr>\n",
       "      <th>1</th>\n",
       "      <td>3.271700e-310</td>\n",
       "      <td>rs12229020</td>\n",
       "      <td>12</td>\n",
       "      <td>10117683</td>\n",
       "      <td>G</td>\n",
       "      <td>C</td>\n",
       "      <td>200.6568</td>\n",
       "      <td>ENSG00000172322</td>\n",
       "      <td>CLEC12A</td>\n",
       "      <td>12</td>\n",
       "      <td>10126104</td>\n",
       "      <td>34</td>\n",
       "      <td>30596</td>\n",
       "      <td>0.0</td>\n",
       "      <td>4.166200e-302</td>\n",
       "    </tr>\n",
       "    <tr>\n",
       "      <th>2</th>\n",
       "      <td>3.271700e-310</td>\n",
       "      <td>rs61913527</td>\n",
       "      <td>12</td>\n",
       "      <td>10116198</td>\n",
       "      <td>T</td>\n",
       "      <td>C</td>\n",
       "      <td>200.2654</td>\n",
       "      <td>ENSG00000172322</td>\n",
       "      <td>CLEC12A</td>\n",
       "      <td>12</td>\n",
       "      <td>10126104</td>\n",
       "      <td>34</td>\n",
       "      <td>30598</td>\n",
       "      <td>0.0</td>\n",
       "      <td>4.166200e-302</td>\n",
       "    </tr>\n",
       "    <tr>\n",
       "      <th>3</th>\n",
       "      <td>3.271700e-310</td>\n",
       "      <td>rs2594103</td>\n",
       "      <td>12</td>\n",
       "      <td>10115428</td>\n",
       "      <td>T</td>\n",
       "      <td>C</td>\n",
       "      <td>200.0420</td>\n",
       "      <td>ENSG00000172322</td>\n",
       "      <td>CLEC12A</td>\n",
       "      <td>12</td>\n",
       "      <td>10126104</td>\n",
       "      <td>34</td>\n",
       "      <td>30598</td>\n",
       "      <td>0.0</td>\n",
       "      <td>4.166200e-302</td>\n",
       "    </tr>\n",
       "    <tr>\n",
       "      <th>4</th>\n",
       "      <td>3.271700e-310</td>\n",
       "      <td>rs12231833</td>\n",
       "      <td>12</td>\n",
       "      <td>10118428</td>\n",
       "      <td>A</td>\n",
       "      <td>G</td>\n",
       "      <td>199.9508</td>\n",
       "      <td>ENSG00000172322</td>\n",
       "      <td>CLEC12A</td>\n",
       "      <td>12</td>\n",
       "      <td>10126104</td>\n",
       "      <td>34</td>\n",
       "      <td>30592</td>\n",
       "      <td>0.0</td>\n",
       "      <td>4.166200e-302</td>\n",
       "    </tr>\n",
       "  </tbody>\n",
       "</table>\n",
       "</div>"
      ],
      "text/plain": [
       "          Pvalue         SNP  SNPChr    SNPPos AssessedAllele OtherAllele   \n",
       "0  3.271700e-310  rs12230244      12  10117369              T           A  \\\n",
       "1  3.271700e-310  rs12229020      12  10117683              G           C   \n",
       "2  3.271700e-310  rs61913527      12  10116198              T           C   \n",
       "3  3.271700e-310   rs2594103      12  10115428              T           C   \n",
       "4  3.271700e-310  rs12231833      12  10118428              A           G   \n",
       "\n",
       "     Zscore             Gene GeneSymbol  GeneChr   GenePos  NrCohorts   \n",
       "0  200.7534  ENSG00000172322    CLEC12A       12  10126104         34  \\\n",
       "1  200.6568  ENSG00000172322    CLEC12A       12  10126104         34   \n",
       "2  200.2654  ENSG00000172322    CLEC12A       12  10126104         34   \n",
       "3  200.0420  ENSG00000172322    CLEC12A       12  10126104         34   \n",
       "4  199.9508  ENSG00000172322    CLEC12A       12  10126104         34   \n",
       "\n",
       "   NrSamples  FDR    BonferroniP  \n",
       "0      30596  0.0  4.166200e-302  \n",
       "1      30596  0.0  4.166200e-302  \n",
       "2      30598  0.0  4.166200e-302  \n",
       "3      30598  0.0  4.166200e-302  \n",
       "4      30592  0.0  4.166200e-302  "
      ]
     },
     "execution_count": 4,
     "metadata": {},
     "output_type": "execute_result"
    }
   ],
   "source": [
    "# Print cis\n",
    "cis.head()"
   ]
  },
  {
   "cell_type": "code",
   "execution_count": 5,
   "id": "376b26c3-7e37-4aed-89ff-3f2f94dddebd",
   "metadata": {},
   "outputs": [
    {
     "data": {
      "text/plain": [
       "Index(['Pvalue', 'SNP', 'SNPChr', 'SNPPos', 'AssessedAllele', 'OtherAllele',\n",
       "       'Zscore', 'Gene', 'GeneSymbol', 'GeneChr', 'GenePos', 'NrCohorts',\n",
       "       'NrSamples', 'FDR', 'BonferroniP'],\n",
       "      dtype='object')"
      ]
     },
     "execution_count": 5,
     "metadata": {},
     "output_type": "execute_result"
    }
   ],
   "source": [
    "# Print trans\n",
    "trans.columns"
   ]
  },
  {
   "attachments": {},
   "cell_type": "markdown",
   "id": "49b5ebac-59d8-4e08-9de7-a3a51e770769",
   "metadata": {
    "tags": []
   },
   "source": [
    "### Create graphs"
   ]
  },
  {
   "cell_type": "code",
   "execution_count": 6,
   "id": "a2efe87e-d367-4fea-93f0-1502f08c9558",
   "metadata": {
    "tags": []
   },
   "outputs": [
    {
     "name": "stdout",
     "output_type": "stream",
     "text": [
      "Graph created with 3681495 nodes and 21134900 edges.\n",
      "Cis Filtered: mean=4.67e-40, median=4.74e-93, std=3.75e-39\n",
      "Cis Remaining: mean=4.08e-01, median=9.70e-03, std=4.77e-01\n",
      "Trans Filtered: mean=1.44e-05, median=3.07e-10, std=4.02e-05\n",
      "Trans Remaining: mean=8.16e-01, median=1.00e+00, std=3.63e-01\n"
     ]
    }
   ],
   "source": [
    "# For the cis dataframe\n",
    "cis_genes = cis['Gene'].unique()\n",
    "cis_snps = cis['SNP'].unique()\n",
    "cis_gene_to_idx = {gene: idx for idx, gene in enumerate(cis_genes)}\n",
    "cis_snp_to_idx = {snp: idx + len(cis_genes) for idx, snp in enumerate(cis_snps)}\n",
    "\n",
    "cis_node_types = torch.tensor([0] * len(cis_genes) + [1] * len(cis_snps), dtype=torch.long)\n",
    "\n",
    "cis_edges = cis.apply(lambda row: (cis_gene_to_idx[row['Gene']], cis_snp_to_idx[row['SNP']]), axis=1)\n",
    "cis_edges = torch.tensor(list(cis_edges), dtype=torch.long).t().contiguous()\n",
    "\n",
    "cis_edges = to_undirected(cis_edges)\n",
    "\n",
    "cis_graph = Data(x=cis_node_types.view(-1, 1), edge_index=cis_edges)\n",
    "\n",
    "\n",
    "\n",
    "# For the trans dataframe\n",
    "trans_genes = trans['Gene'].unique()\n",
    "trans_snps = trans['SNP'].unique()\n",
    "trans_gene_to_idx = {gene: idx for idx, gene in enumerate(trans_genes)}\n",
    "trans_snp_to_idx = {snp: idx + len(trans_genes) for idx, snp in enumerate(trans_snps)}\n",
    "\n",
    "trans_node_types = torch.tensor([0] * len(trans_genes) + [1] * len(trans_snps), dtype=torch.long)\n",
    "\n",
    "trans_edges = trans.apply(lambda row: (trans_gene_to_idx[row['Gene']], trans_snp_to_idx[row['SNP']]), axis=1)\n",
    "trans_edges = torch.tensor(list(trans_edges), dtype=torch.long).t().contiguous()\n",
    "\n",
    "trans_edges = to_undirected(trans_edges)\n",
    "\n",
    "trans_graph = Data(x=trans_node_types.view(-1, 1), edge_index=trans_edges)\n",
    "\n",
    "\n",
    "\n",
    "# Combine the cis and trans dataframes\n",
    "data = pd.concat([cis, trans], ignore_index=True)\n",
    "\n",
    "# Function to filter the lowest 20% of associations\n",
    "def filter_lowest_20_percent(df):\n",
    "    threshold = np.percentile(df['BonferroniP'], 20)\n",
    "    return df[df['BonferroniP'] <= threshold]\n",
    "\n",
    "# Filter cis and trans dataframes\n",
    "cis_filtered = filter_lowest_20_percent(cis)\n",
    "trans_filtered = filter_lowest_20_percent(trans)\n",
    "\n",
    "# Remove filtered data from original dataframes\n",
    "cis_remaining = cis[~cis.index.isin(cis_filtered.index)]\n",
    "trans_remaining = trans[~trans.index.isin(trans_filtered.index)]\n",
    "\n",
    "# Test that all values in 'BonferroniP' column of cis_filtered are lower than cis_remaining\n",
    "assert all(cis_filtered['BonferroniP'] <= cis_remaining['BonferroniP'].min()), \"Values in cis_filtered are not all lower than cis_remaining\"\n",
    "\n",
    "# Test that all values in 'BonferroniP' column of trans_filtered are lower than trans_remaining\n",
    "assert all(trans_filtered['BonferroniP'] <= trans_remaining['BonferroniP'].min()), \"Values in trans_filtered are not all lower than trans_remaining\"\n",
    "\n",
    "# Create mappings for genes and SNPs to integer indices\n",
    "genes = data['Gene'].unique()\n",
    "snps = data['SNP'].unique()\n",
    "gene_to_idx = {gene: idx for idx, gene in enumerate(genes)}\n",
    "snp_to_idx = {snp: idx + len(genes) for idx, snp in enumerate(snps)}\n",
    "\n",
    "# Create node type labels\n",
    "node_types = torch.tensor([0] * len(genes) + [1] * len(snps), dtype=torch.long)\n",
    "\n",
    "# Create edges\n",
    "edges = data.apply(lambda row: (gene_to_idx[row['Gene']], snp_to_idx[row['SNP']]), axis=1)\n",
    "edges = torch.tensor(list(edges), dtype=torch.long).t().contiguous()\n",
    "\n",
    "# Convert edges to undirected\n",
    "edges = to_undirected(edges)\n",
    "\n",
    "# Create the PyTorch Geometric graph\n",
    "graph = Data(x=node_types.view(-1, 1), edge_index=edges)\n",
    "\n",
    "# Print the number of nodes and edges in the graph\n",
    "print(\"Graph created with\", len(genes) + len(snps), \"nodes and\", edges.size(1), \"edges.\")\n",
    "\n",
    "def compute_descriptive_stats(cis_filtered, cis_remaining, trans_filtered, trans_remaining):\n",
    "    # Compute mean, median, and standard deviation for cis_filtered and cis_remaining\n",
    "    mean_cis_filtered = cis_filtered['BonferroniP'].mean()\n",
    "    median_cis_filtered = cis_filtered['BonferroniP'].median()\n",
    "    std_cis_filtered = cis_filtered['BonferroniP'].std()\n",
    "    \n",
    "    mean_cis_remaining = cis_remaining['BonferroniP'].mean()\n",
    "    median_cis_remaining = cis_remaining['BonferroniP'].median()\n",
    "    std_cis_remaining = cis_remaining['BonferroniP'].std()\n",
    "    \n",
    "    # Compute mean, median, and standard deviation for trans_filtered and trans_remaining\n",
    "    mean_trans_filtered = trans_filtered['BonferroniP'].mean()\n",
    "    median_trans_filtered = trans_filtered['BonferroniP'].median()\n",
    "    std_trans_filtered = trans_filtered['BonferroniP'].std()\n",
    "    \n",
    "    mean_trans_remaining = trans_remaining['BonferroniP'].mean()\n",
    "    median_trans_remaining = trans_remaining['BonferroniP'].median()\n",
    "    std_trans_remaining = trans_remaining['BonferroniP'].std()\n",
    "    \n",
    "    # Print the results\n",
    "    print(\"Cis Filtered: mean=%.2e, median=%.2e, std=%.2e\" % (mean_cis_filtered, median_cis_filtered, std_cis_filtered))\n",
    "    print(\"Cis Remaining: mean=%.2e, median=%.2e, std=%.2e\" % (mean_cis_remaining, median_cis_remaining, std_cis_remaining))\n",
    "    print(\"Trans Filtered: mean=%.2e, median=%.2e, std=%.2e\" % (mean_trans_filtered, median_trans_filtered, std_trans_filtered))\n",
    "    print(\"Trans Remaining: mean=%.2e, median=%.2e, std=%.2e\" % (mean_trans_remaining, median_trans_remaining, std_trans_remaining))\n",
    "\n",
    "\n",
    "\n",
    "compute_descriptive_stats(cis_filtered, cis_remaining, trans_filtered, trans_remaining)"
   ]
  },
  {
   "attachments": {},
   "cell_type": "markdown",
   "id": "4d91610a-04ca-4ced-8f4f-cb7dd3721854",
   "metadata": {
    "tags": []
   },
   "source": [
    "### Graph stats"
   ]
  },
  {
   "cell_type": "code",
   "execution_count": 7,
   "id": "f582f0ba-df4f-4c1f-9e85-914fac687de6",
   "metadata": {
    "tags": []
   },
   "outputs": [
    {
     "name": "stdout",
     "output_type": "stream",
     "text": [
      "Cis-graph stats:\n",
      "Number of nodes: 3680443\n",
      "Number of SNP nodes: 3663456\n",
      "Number of Gene nodes: 16987\n",
      "Number of edges: 10507664\n",
      "Number of connected components: 1226\n",
      "Average degree: 5.71\n",
      "Median degree: 2.0\n",
      "Standard deviation of degree: 69.64\n",
      "Density: 0.0000015514\n",
      "Assortativity: -0.2263568608\n",
      "\n",
      "\n",
      "Trans-graph stats:\n",
      "Number of nodes: 10151\n",
      "Number of SNP nodes: 3853\n",
      "Number of Gene nodes: 6298\n",
      "Number of edges: 59786\n",
      "Number of connected components: 500\n",
      "Average degree: 11.78\n",
      "Median degree: 3.0\n",
      "Standard deviation of degree: 29.91\n",
      "Density: 0.0011605253\n",
      "Assortativity: -0.2050825845\n",
      "\n",
      "\n",
      "Combined graph stats:\n",
      "Number of nodes: 3681495\n",
      "Number of SNP nodes: 3664025\n",
      "Number of Gene nodes: 17470\n",
      "Number of edges: 10567450\n",
      "Number of connected components: 424\n",
      "Average degree: 5.74\n",
      "Median degree: 2.0\n",
      "Standard deviation of degree: 69.81\n",
      "Density: 0.0000015594\n",
      "Assortativity: -0.2267915607\n"
     ]
    }
   ],
   "source": [
    "def print_graph_stats(graph, genes, snps):\n",
    "    G = nx.Graph()\n",
    "    for edge in graph.edge_index.t().numpy():\n",
    "        G.add_edge(edge[0], edge[1])\n",
    "\n",
    "    num_nodes = G.number_of_nodes()\n",
    "    num_genes = len(genes)\n",
    "    num_snps = len(snps)\n",
    "    num_edges = G.number_of_edges()\n",
    "    num_connected_components = nx.number_connected_components(G)\n",
    "    average_degree = np.mean([degree for _, degree in G.degree()])\n",
    "    median_degree = np.median([degree for _, degree in G.degree()])\n",
    "    std_degree = np.std([degree for _, degree in G.degree()])\n",
    "    density = nx.density(G)\n",
    "    assortativity = nx.degree_assortativity_coefficient(G)\n",
    "\n",
    "    print(f\"Number of nodes: {num_nodes}\")\n",
    "    print(\"Number of SNP nodes:\", num_snps)\n",
    "    print(\"Number of Gene nodes:\", num_genes)\n",
    "    print(f\"Number of edges: {num_edges}\")\n",
    "    print(f\"Number of connected components: {num_connected_components}\")\n",
    "    print(f\"Average degree: {average_degree:.2f}\")\n",
    "    print(f\"Median degree: {median_degree}\")\n",
    "    print(f\"Standard deviation of degree: {std_degree:.2f}\")\n",
    "    print(f\"Density: {density:.10f}\")\n",
    "    print(f\"Assortativity: {assortativity:.10f}\")\n",
    "\n",
    "\n",
    "# For the cis-graph\n",
    "print(\"Cis-graph stats:\")\n",
    "print_graph_stats(cis_graph, cis_genes, cis_snps)\n",
    "print(\"\\n\")\n",
    "\n",
    "# For the trans-graph\n",
    "print(\"Trans-graph stats:\")\n",
    "print_graph_stats(trans_graph, trans_genes, trans_snps)\n",
    "print(\"\\n\")\n",
    "\n",
    "# For the combined graph\n",
    "print(\"Combined graph stats:\")\n",
    "print_graph_stats(graph, genes, snps)"
   ]
  },
  {
   "cell_type": "code",
   "execution_count": 13,
   "id": "1a93ac81-d92d-4092-9869-f5aa5ff056d3",
   "metadata": {
    "tags": []
   },
   "outputs": [
    {
     "ename": "KeyError",
     "evalue": "'source'",
     "output_type": "error",
     "traceback": [
      "\u001b[1;31m---------------------------------------------------------------------------\u001b[0m",
      "\u001b[1;31mKeyError\u001b[0m                                  Traceback (most recent call last)",
      "File \u001b[1;32m~\\AppData\\Local\\Programs\\Python\\Python311\\Lib\\site-packages\\pandas\\core\\indexes\\base.py:3652\u001b[0m, in \u001b[0;36mIndex.get_loc\u001b[1;34m(self, key)\u001b[0m\n\u001b[0;32m   3651\u001b[0m \u001b[38;5;28;01mtry\u001b[39;00m:\n\u001b[1;32m-> 3652\u001b[0m     \u001b[38;5;28;01mreturn\u001b[39;00m \u001b[38;5;28;43mself\u001b[39;49m\u001b[38;5;241;43m.\u001b[39;49m\u001b[43m_engine\u001b[49m\u001b[38;5;241;43m.\u001b[39;49m\u001b[43mget_loc\u001b[49m\u001b[43m(\u001b[49m\u001b[43mcasted_key\u001b[49m\u001b[43m)\u001b[49m\n\u001b[0;32m   3653\u001b[0m \u001b[38;5;28;01mexcept\u001b[39;00m \u001b[38;5;167;01mKeyError\u001b[39;00m \u001b[38;5;28;01mas\u001b[39;00m err:\n",
      "File \u001b[1;32m~\\AppData\\Local\\Programs\\Python\\Python311\\Lib\\site-packages\\pandas\\_libs\\index.pyx:147\u001b[0m, in \u001b[0;36mpandas._libs.index.IndexEngine.get_loc\u001b[1;34m()\u001b[0m\n",
      "File \u001b[1;32m~\\AppData\\Local\\Programs\\Python\\Python311\\Lib\\site-packages\\pandas\\_libs\\index.pyx:176\u001b[0m, in \u001b[0;36mpandas._libs.index.IndexEngine.get_loc\u001b[1;34m()\u001b[0m\n",
      "File \u001b[1;32mpandas\\_libs\\hashtable_class_helper.pxi:7080\u001b[0m, in \u001b[0;36mpandas._libs.hashtable.PyObjectHashTable.get_item\u001b[1;34m()\u001b[0m\n",
      "File \u001b[1;32mpandas\\_libs\\hashtable_class_helper.pxi:7088\u001b[0m, in \u001b[0;36mpandas._libs.hashtable.PyObjectHashTable.get_item\u001b[1;34m()\u001b[0m\n",
      "\u001b[1;31mKeyError\u001b[0m: 'source'",
      "\nThe above exception was the direct cause of the following exception:\n",
      "\u001b[1;31mKeyError\u001b[0m                                  Traceback (most recent call last)",
      "Cell \u001b[1;32mIn[13], line 28\u001b[0m\n\u001b[0;32m     24\u001b[0m             max_size \u001b[38;5;241m=\u001b[39m \u001b[38;5;28mmax\u001b[39m(max_size, dfs(node, graph, visited))\n\u001b[0;32m     26\u001b[0m     \u001b[38;5;28;01mreturn\u001b[39;00m max_size\n\u001b[1;32m---> 28\u001b[0m subgraph \u001b[38;5;241m=\u001b[39m \u001b[43mlargest_subgraph\u001b[49m\u001b[43m(\u001b[49m\u001b[43mdata\u001b[49m\u001b[43m)\u001b[49m\n",
      "Cell \u001b[1;32mIn[13], line 16\u001b[0m, in \u001b[0;36mlargest_subgraph\u001b[1;34m(df)\u001b[0m\n\u001b[0;32m     14\u001b[0m graph \u001b[38;5;241m=\u001b[39m defaultdict(\u001b[38;5;28mlist\u001b[39m)\n\u001b[0;32m     15\u001b[0m \u001b[38;5;28;01mfor\u001b[39;00m _, row \u001b[38;5;129;01min\u001b[39;00m df\u001b[38;5;241m.\u001b[39miterrows():\n\u001b[1;32m---> 16\u001b[0m     graph[\u001b[43mrow\u001b[49m\u001b[43m[\u001b[49m\u001b[38;5;124;43m'\u001b[39;49m\u001b[38;5;124;43msource\u001b[39;49m\u001b[38;5;124;43m'\u001b[39;49m\u001b[43m]\u001b[49m]\u001b[38;5;241m.\u001b[39mappend(row[\u001b[38;5;124m'\u001b[39m\u001b[38;5;124mtarget\u001b[39m\u001b[38;5;124m'\u001b[39m])\n\u001b[0;32m     17\u001b[0m     graph[row[\u001b[38;5;124m'\u001b[39m\u001b[38;5;124mtarget\u001b[39m\u001b[38;5;124m'\u001b[39m]]\u001b[38;5;241m.\u001b[39mappend(row[\u001b[38;5;124m'\u001b[39m\u001b[38;5;124msource\u001b[39m\u001b[38;5;124m'\u001b[39m])\n\u001b[0;32m     19\u001b[0m visited \u001b[38;5;241m=\u001b[39m {node: \u001b[38;5;28;01mFalse\u001b[39;00m \u001b[38;5;28;01mfor\u001b[39;00m node \u001b[38;5;129;01min\u001b[39;00m graph}\n",
      "File \u001b[1;32m~\\AppData\\Local\\Programs\\Python\\Python311\\Lib\\site-packages\\pandas\\core\\series.py:1007\u001b[0m, in \u001b[0;36mSeries.__getitem__\u001b[1;34m(self, key)\u001b[0m\n\u001b[0;32m   1004\u001b[0m     \u001b[38;5;28;01mreturn\u001b[39;00m \u001b[38;5;28mself\u001b[39m\u001b[38;5;241m.\u001b[39m_values[key]\n\u001b[0;32m   1006\u001b[0m \u001b[38;5;28;01melif\u001b[39;00m key_is_scalar:\n\u001b[1;32m-> 1007\u001b[0m     \u001b[38;5;28;01mreturn\u001b[39;00m \u001b[38;5;28;43mself\u001b[39;49m\u001b[38;5;241;43m.\u001b[39;49m\u001b[43m_get_value\u001b[49m\u001b[43m(\u001b[49m\u001b[43mkey\u001b[49m\u001b[43m)\u001b[49m\n\u001b[0;32m   1009\u001b[0m \u001b[38;5;28;01mif\u001b[39;00m is_hashable(key):\n\u001b[0;32m   1010\u001b[0m     \u001b[38;5;66;03m# Otherwise index.get_value will raise InvalidIndexError\u001b[39;00m\n\u001b[0;32m   1011\u001b[0m     \u001b[38;5;28;01mtry\u001b[39;00m:\n\u001b[0;32m   1012\u001b[0m         \u001b[38;5;66;03m# For labels that don't resolve as scalars like tuples and frozensets\u001b[39;00m\n",
      "File \u001b[1;32m~\\AppData\\Local\\Programs\\Python\\Python311\\Lib\\site-packages\\pandas\\core\\series.py:1116\u001b[0m, in \u001b[0;36mSeries._get_value\u001b[1;34m(self, label, takeable)\u001b[0m\n\u001b[0;32m   1113\u001b[0m     \u001b[38;5;28;01mreturn\u001b[39;00m \u001b[38;5;28mself\u001b[39m\u001b[38;5;241m.\u001b[39m_values[label]\n\u001b[0;32m   1115\u001b[0m \u001b[38;5;66;03m# Similar to Index.get_value, but we do not fall back to positional\u001b[39;00m\n\u001b[1;32m-> 1116\u001b[0m loc \u001b[38;5;241m=\u001b[39m \u001b[38;5;28;43mself\u001b[39;49m\u001b[38;5;241;43m.\u001b[39;49m\u001b[43mindex\u001b[49m\u001b[38;5;241;43m.\u001b[39;49m\u001b[43mget_loc\u001b[49m\u001b[43m(\u001b[49m\u001b[43mlabel\u001b[49m\u001b[43m)\u001b[49m\n\u001b[0;32m   1118\u001b[0m \u001b[38;5;28;01mif\u001b[39;00m is_integer(loc):\n\u001b[0;32m   1119\u001b[0m     \u001b[38;5;28;01mreturn\u001b[39;00m \u001b[38;5;28mself\u001b[39m\u001b[38;5;241m.\u001b[39m_values[loc]\n",
      "File \u001b[1;32m~\\AppData\\Local\\Programs\\Python\\Python311\\Lib\\site-packages\\pandas\\core\\indexes\\base.py:3654\u001b[0m, in \u001b[0;36mIndex.get_loc\u001b[1;34m(self, key)\u001b[0m\n\u001b[0;32m   3652\u001b[0m     \u001b[38;5;28;01mreturn\u001b[39;00m \u001b[38;5;28mself\u001b[39m\u001b[38;5;241m.\u001b[39m_engine\u001b[38;5;241m.\u001b[39mget_loc(casted_key)\n\u001b[0;32m   3653\u001b[0m \u001b[38;5;28;01mexcept\u001b[39;00m \u001b[38;5;167;01mKeyError\u001b[39;00m \u001b[38;5;28;01mas\u001b[39;00m err:\n\u001b[1;32m-> 3654\u001b[0m     \u001b[38;5;28;01mraise\u001b[39;00m \u001b[38;5;167;01mKeyError\u001b[39;00m(key) \u001b[38;5;28;01mfrom\u001b[39;00m \u001b[38;5;21;01merr\u001b[39;00m\n\u001b[0;32m   3655\u001b[0m \u001b[38;5;28;01mexcept\u001b[39;00m \u001b[38;5;167;01mTypeError\u001b[39;00m:\n\u001b[0;32m   3656\u001b[0m     \u001b[38;5;66;03m# If we have a listlike key, _check_indexing_error will raise\u001b[39;00m\n\u001b[0;32m   3657\u001b[0m     \u001b[38;5;66;03m#  InvalidIndexError. Otherwise we fall through and re-raise\u001b[39;00m\n\u001b[0;32m   3658\u001b[0m     \u001b[38;5;66;03m#  the TypeError.\u001b[39;00m\n\u001b[0;32m   3659\u001b[0m     \u001b[38;5;28mself\u001b[39m\u001b[38;5;241m.\u001b[39m_check_indexing_error(key)\n",
      "\u001b[1;31mKeyError\u001b[0m: 'source'"
     ]
    }
   ],
   "source": [
    "from collections import defaultdict\n",
    "\n",
    "data = pd.concat([cis, trans], ignore_index=True)\n",
    "\n",
    "def dfs(node, graph, visited):\n",
    "    visited[node] = True\n",
    "    size = 1\n",
    "    for neighbor in graph[node]:\n",
    "        if not visited[neighbor]:\n",
    "            size += dfs(neighbor, graph, visited)\n",
    "    return size\n",
    "\n",
    "def largest_subgraph(df):\n",
    "    graph = defaultdict(list)\n",
    "    for _, row in df.iterrows():\n",
    "        graph[row['source']].append(row['target'])\n",
    "        graph[row['target']].append(row['source'])\n",
    "\n",
    "    visited = {node: False for node in graph}\n",
    "    max_size = 0\n",
    "\n",
    "    for node in graph:\n",
    "        if not visited[node]:\n",
    "            max_size = max(max_size, dfs(node, graph, visited))\n",
    "\n",
    "    return max_size\n",
    "\n",
    "subgraph = largest_subgraph(data)"
   ]
  },
  {
   "cell_type": "code",
   "execution_count": 11,
   "id": "74109747-173c-42d7-b774-0e238a8b9c1b",
   "metadata": {
    "tags": []
   },
   "outputs": [
    {
     "data": {
      "text/plain": [
       "pandas.core.frame.DataFrame"
      ]
     },
     "execution_count": 11,
     "metadata": {},
     "output_type": "execute_result"
    }
   ],
   "source": [
    "type(data)"
   ]
  },
  {
   "cell_type": "code",
   "execution_count": null,
   "id": "f4997a7f-fd93-447a-b417-2b42bf4cfcc3",
   "metadata": {},
   "outputs": [],
   "source": []
  }
 ],
 "metadata": {
  "kernelspec": {
   "display_name": "Python 3 (ipykernel)",
   "language": "python",
   "name": "python3"
  },
  "language_info": {
   "codemirror_mode": {
    "name": "ipython",
    "version": 3
   },
   "file_extension": ".py",
   "mimetype": "text/x-python",
   "name": "python",
   "nbconvert_exporter": "python",
   "pygments_lexer": "ipython3",
   "version": "3.11.3"
  },
  "toc-autonumbering": false
 },
 "nbformat": 4,
 "nbformat_minor": 5
}
