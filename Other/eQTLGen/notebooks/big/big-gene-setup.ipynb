{
 "cells": [
  {
   "cell_type": "markdown",
   "id": "4ae5b6c8-9ccf-4c35-b6dc-e8755e8c251e",
   "metadata": {},
   "source": [
    "## Data Setup "
   ]
  },
  {
   "cell_type": "markdown",
   "id": "6c312ac4-08e0-46ae-b18a-10f81e6b2ddb",
   "metadata": {},
   "source": [
    "### Libraries"
   ]
  },
  {
   "cell_type": "code",
   "execution_count": 1,
   "id": "08f0bf7f-91fc-4010-bb06-e5e4434c3c73",
   "metadata": {
    "tags": []
   },
   "outputs": [],
   "source": [
    "import os\n",
    "\n",
    "import numpy as np\n",
    "import pandas as pd\n",
    "import matplotlib.pyplot as plt\n",
    "import pyarrow.parquet as pq\n",
    "\n",
    "\n",
    "from sklearn.model_selection import train_test_split\n",
    "from sklearn.metrics import precision_recall_fscore_support, roc_auc_score, average_precision_score\n",
    "from sklearn.preprocessing import LabelEncoder\n",
    "from sklearn.preprocessing import StandardScaler\n",
    "\n",
    "\n",
    "import torch\n",
    "import torch.nn as nn\n",
    "import torch.nn.functional as F\n",
    "import torch.nn.init as init\n",
    "\n",
    "import torch_sparse\n",
    "\n",
    "import torch_geometric\n",
    "from torch_geometric.data import Data\n",
    "from torch_geometric.nn import GCNConv, GATConv\n",
    "from torch_geometric.utils import to_undirected, negative_sampling, subgraph\n",
    "from torch_geometric.transforms import RandomLinkSplit\n",
    "\n",
    "import networkx as nx\n",
    "from ogb.io import DatasetSaver\n",
    "from ogb.linkproppred import LinkPropPredDataset"
   ]
  },
  {
   "cell_type": "code",
   "execution_count": 2,
   "id": "c398fa63-4d51-40a5-baab-d085d2beaf66",
   "metadata": {},
   "outputs": [
    {
     "name": "stdout",
     "output_type": "stream",
     "text": [
      "PyTorch version: 2.0.0+cu118\n",
      "PyTorch Geometric version: 2.3.1\n"
     ]
    }
   ],
   "source": [
    "print(f\"PyTorch version: {torch.__version__}\")\n",
    "print(f\"PyTorch Geometric version: {torch_geometric.__version__}\")"
   ]
  },
  {
   "cell_type": "code",
   "execution_count": 3,
   "id": "95bdb806-8661-4798-93a7-85e08eff2304",
   "metadata": {
    "tags": []
   },
   "outputs": [
    {
     "name": "stdout",
     "output_type": "stream",
     "text": [
      "Using NVIDIA GeForce RTX 3060 Ti (cuda)\n",
      "CUDA version: 11.8\n",
      "Number of CUDA devices: 1\n"
     ]
    }
   ],
   "source": [
    "if torch.cuda.is_available():\n",
    "    device = torch.device(\"cuda\")          # Current CUDA device\n",
    "    print(f\"Using {torch.cuda.get_device_name()} ({device})\")\n",
    "    print(f\"CUDA version: {torch.version.cuda}\")\n",
    "    print(f\"Number of CUDA devices: {torch.cuda.device_count()}\")\n",
    "else:\n",
    "    print(\"CUDA is not available on this device.\")"
   ]
  },
  {
   "cell_type": "markdown",
   "id": "583de81d-d721-4177-bb5c-f056a1ed773c",
   "metadata": {
    "tags": []
   },
   "source": [
    "### Load files"
   ]
  },
  {
   "cell_type": "code",
   "execution_count": 7,
   "id": "0da49136-551a-497d-aebc-2c352d2bf5a9",
   "metadata": {},
   "outputs": [],
   "source": [
    "data_types = {'Pvalue': float, 'SNP': str, 'SNPChr': str, 'SNPPos': float,\n",
    "              'AssessedAllele': str, 'OtherAllele': str, 'Zscore': float,\n",
    "              'Gene': str, 'GeneSymbol': str, 'GeneChr': str, 'GenePos': float,\n",
    "              'NrCohorts': int, 'NrSamples': int, 'FDR': float,\n",
    "              'BonferroniP': float, 'GeneStart': float, 'GeneEnd': float}\n",
    "\n",
    "gene_data = pd.read_csv(\"~/Desktop/geometric-omics/data/sig-combined-with-genes.csv\", dtype=data_types)"
   ]
  },
  {
   "cell_type": "code",
   "execution_count": 8,
   "id": "714f8035-3326-47e5-a2a2-08a756cb242b",
   "metadata": {
    "tags": []
   },
   "outputs": [
    {
     "name": "stdout",
     "output_type": "stream",
     "text": [
      "CPU times: total: 4min 38s\n",
      "Wall time: 5min 46s\n"
     ]
    }
   ],
   "source": [
    "%%time\n",
    "# Read the Parquet files into Pandas DataFrames\n",
    "trans = pd.read_parquet('~/Desktop/geometric-omics/data/big-trans.parquet')\n",
    "cis = pd.read_parquet('~/Desktop/geometric-omics/data/big-cis.parquet')\n",
    "\n",
    "sig_trans = pd.read_parquet('~/Desktop/geometric-omics/data/sig-trans.parquet')\n",
    "sig_cis = pd.read_parquet('~/Desktop/geometric-omics/data/sig-cis.parquet')"
   ]
  },
  {
   "cell_type": "code",
   "execution_count": 10,
   "id": "20f9cce3-433c-458f-a383-7b530c1e00db",
   "metadata": {
    "tags": []
   },
   "outputs": [
    {
     "name": "stdout",
     "output_type": "stream",
     "text": [
      "trans length: 203547746\n",
      "cis length: 127341798\n",
      "sig_trans length: 59786\n",
      "sig_cis length: 10507664\n"
     ]
    }
   ],
   "source": [
    "# Print DataFrame lengths\n",
    "print(\"trans length:\", len(trans))\n",
    "print(\"cis length:\", len(cis))\n",
    "print(\"sig_trans length:\", len(sig_trans))\n",
    "print(\"sig_cis length:\", len(sig_cis))"
   ]
  },
  {
   "cell_type": "markdown",
   "id": "54e0e41b-0dc6-4468-86aa-ed0027650bec",
   "metadata": {},
   "source": [
    "### Filter by Sig"
   ]
  },
  {
   "cell_type": "code",
   "execution_count": null,
   "id": "09f919b2-b112-4e01-8a5d-9fae26e44e57",
   "metadata": {
    "tags": []
   },
   "outputs": [],
   "source": [
    "%%time\n",
    "# For trans_gene DataFrame\n",
    "trans_gene['Sig'] = trans_gene.apply(lambda row: 1 if row.name in sig_trans.index and row.equals(sig_trans.loc[row.name]) else 0, axis=1)\n",
    "\n",
    "# For cis_gene DataFrame\n",
    "cis_gene['Sig'] = cis_gene.apply(lambda row: 1 if row.name in sig_cis.index and row.equals(sig_cis.loc[row.name]) else 0, axis=1)"
   ]
  },
  {
   "cell_type": "markdown",
   "id": "1f58a942-25d4-4997-9d26-a4fbbc65b62f",
   "metadata": {},
   "source": [
    "### Map gene start/end info to dfs"
   ]
  },
  {
   "cell_type": "code",
   "execution_count": null,
   "id": "b8443b75-6135-4cd6-b5d4-a4167f0c68e9",
   "metadata": {},
   "outputs": [],
   "source": [
    "def add_gene_start_end(df, gene_data):\n",
    "    # Group gene_data by Gene\n",
    "    gene_groups = gene_data.groupby('Gene')\n",
    "\n",
    "    # Create a dictionary mapping genes to their GeneStart and GeneEnd values\n",
    "    gene_dict = {\n",
    "        gene: {'GeneStart': group['GeneStart'].iloc[0], 'GeneEnd': group['GeneEnd'].iloc[0]}\n",
    "        for gene, group in gene_groups\n",
    "        if not group['GeneStart'].isna().any() and not group['GeneEnd'].isna().any()\n",
    "    }\n",
    "\n",
    "    # Set GeneStart and GeneEnd columns of the dataframe using the gene_dict\n",
    "    df = df.assign(\n",
    "        GeneStart=df['Gene'].apply(lambda gene: gene_dict.get(gene, {}).get('GeneStart')),\n",
    "        GeneEnd=df['Gene'].apply(lambda gene: gene_dict.get(gene, {}).get('GeneEnd'))\n",
    "    )\n",
    "\n",
    "    # Drop rows with missing GeneStart or GeneEnd values\n",
    "    df.dropna(subset=['GeneStart', 'GeneEnd'], inplace=True)\n",
    "\n",
    "    return df"
   ]
  },
  {
   "cell_type": "code",
   "execution_count": null,
   "id": "29b3b7a9-8dcd-4e6b-9ac6-84b92c254167",
   "metadata": {
    "tags": []
   },
   "outputs": [],
   "source": [
    "%%time\n",
    "trans_gene = add_gene_start_end(trans_gene, gene_data)\n",
    "cis_gene = add_gene_start_end(cis_gene, gene_data)"
   ]
  },
  {
   "cell_type": "code",
   "execution_count": null,
   "id": "5e78b3f8-0479-495f-a5e3-7292e602fb3c",
   "metadata": {
    "tags": []
   },
   "outputs": [],
   "source": [
    "print(cis_gene.columns)\n",
    "print(trans_gene.columns)"
   ]
  },
  {
   "cell_type": "code",
   "execution_count": null,
   "id": "cc4f07c5-3b7a-4f62-8ecc-59d4bab1d55a",
   "metadata": {
    "tags": []
   },
   "outputs": [],
   "source": [
    "print(len(cis_gene))\n",
    "print(len(trans_gene))\n",
    "print(len(cis))\n",
    "print(len(trans))"
   ]
  },
  {
   "cell_type": "markdown",
   "id": "040b2d2d-6906-4138-ba7f-6142ed754df2",
   "metadata": {
    "tags": []
   },
   "source": [
    "### To CSV"
   ]
  },
  {
   "cell_type": "code",
   "execution_count": null,
   "id": "66d69c4a-6268-4c5b-9995-f0be3824c854",
   "metadata": {
    "tags": []
   },
   "outputs": [],
   "source": [
    "%%time\n",
    "trans_gene.to_csv('big-trans-genes.csv')\n",
    "cis_gene.to_csv('big-cis-genes.csv')"
   ]
  }
 ],
 "metadata": {
  "kernelspec": {
   "display_name": "Python 3 (ipykernel)",
   "language": "python",
   "name": "python3"
  },
  "language_info": {
   "codemirror_mode": {
    "name": "ipython",
    "version": 3
   },
   "file_extension": ".py",
   "mimetype": "text/x-python",
   "name": "python",
   "nbconvert_exporter": "python",
   "pygments_lexer": "ipython3",
   "version": "3.11.3"
  },
  "toc-autonumbering": false
 },
 "nbformat": 4,
 "nbformat_minor": 5
}
