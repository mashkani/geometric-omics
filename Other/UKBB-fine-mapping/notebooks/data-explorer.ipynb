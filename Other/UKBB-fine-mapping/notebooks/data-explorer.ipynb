{
 "cells": [
  {
   "cell_type": "markdown",
   "id": "00910a35-ffbc-4497-bcc8-21f008c326fb",
   "metadata": {},
   "source": [
    "# Data Explorer Notebook"
   ]
  },
  {
   "cell_type": "markdown",
   "id": "a6fd8be8-14cc-4d80-a944-76c5235c078b",
   "metadata": {},
   "source": [
    "## Data Description"
   ]
  },
  {
   "cell_type": "markdown",
   "id": "a99bc773-edf8-4567-8767-a742662cb8ef",
   "metadata": {
    "tags": []
   },
   "source": [
    "### UKBB_94traits_release1.{tsv|bed}.gz"
   ]
  },
  {
   "cell_type": "markdown",
   "id": "a0ef1038-e49a-4607-9c7d-5ce6daf1d94b",
   "metadata": {},
   "source": [
    "This file contains genetic variant data used in a study investigating 94 complex diseases and traits from the UK Biobank. Each row represents a variant with columns detailing characteristics such as its genomic location, allele details, association statistics, and more. It also includes indicators for linkage disequilibrium with variants failing Hardy Weinberg equilibrium or with common structural variants. This file is particularly valuable for those interested in the genetic association results and the fine-mapping of these traits and diseases.\n",
    "\n",
    "Columns:\n",
    "\n",
    "- Chromosome: hg19 autosomes only\n",
    "- Start: 0-indexed hg19 start position\n",
    "- End: 0-indexed hg19 end position\n",
    "- Variant: unique variant identifier (chr:pos:ref:alt)\n",
    "- rsID: rsID identifier\n",
    "- Allele1: reference allele in hg19\n",
    "- Allele2: alternative allele in hg19\n",
    "- Minor allele: minor allele in cohort\n",
    "- Cohort: GWAS cohort\n",
    "- Model_marginal: type of regression model used\n",
    "- Method: fine-mapping method used\n",
    "- Trait: abbreviation for phenotype in genetic association tests\n",
    "- Region: fine-mapping region in hg19\n",
    "- MAF: minor allele frequency in cohort\n",
    "- Beta_marginal: marginal association effect size (effect allele: alternative)\n",
    "- SE_marginal: standard error on marginal association effect size\n",
    "- Chisq_marginal: test statistic for marginal association\n",
    "- PIP: posterior probability of association from fine-mapping\n",
    "- CS_ID: ID of 95% credible set (-1 if variant not in 95% CS)\n",
    "- Beta_posterior: posterior expectation of true effect size (effect allele: alternative)\n",
    "- SD_posterior: posterior standard deviation of true effect size\n",
    "- LD_HWE: indicator for LD (R^2 > 0.6) with a variant that failed HWE (p < 10^-12) in UK10K LD\n",
    "- LD_SV: indicator for LD (R^2 > 0.8) with a common structural variant in gnomAD European samples"
   ]
  },
  {
   "cell_type": "markdown",
   "id": "4cf8180d-f858-41bb-8eef-947178d1443d",
   "metadata": {},
   "source": [
    "### UKBB_94traits_release1_regions.bed.gz"
   ]
  },
  {
   "cell_type": "markdown",
   "id": "9f61d367-6f94-4950-9865-b4addac78bb8",
   "metadata": {},
   "source": [
    "This file also pertains to the same study but instead focuses on genomic regions used for fine-mapping. Each row represents a genomic region with columns providing details about the cohort, trait, and whether the fine-mapping methods (FINEMAP, SuSiE) successfully completed. It also includes the variant identifier for variants located in these regions. This file is useful for exploring the specific regions of the genome under investigation in the study and the outcomes of the fine-mapping process.\n",
    "\n",
    "Columns:\n",
    "\n",
    "- Chromosome: hg19 autosomes only\n",
    "- Start: 0-indexed hg19 start position\n",
    "- End: 0-indexed hg19 end position\n",
    "- Cohort: GWAS cohort\n",
    "- Trait: abbreviation for phenotype in genetic association tests\n",
    "- Region: fine-mapping region in hg19\n",
    "- Variant: unique variant identifier (chr:pos:ref:alt)\n",
    "- Success_FINEMAP: indicator for successful FINEMAP completion\n",
    "- Success_SuSiE: indicator for successful SuSiE completion"
   ]
  },
  {
   "cell_type": "markdown",
   "id": "c30d6716-fce0-4ca7-9f2b-0070bda37dce",
   "metadata": {
    "tags": []
   },
   "source": [
    "## .bed -> .csv"
   ]
  },
  {
   "cell_type": "code",
   "execution_count": 3,
   "id": "d4345459-b1ef-477c-8f06-c8f54c194af0",
   "metadata": {
    "tags": []
   },
   "outputs": [],
   "source": [
    "import pandas as pd"
   ]
  },
  {
   "cell_type": "code",
   "execution_count": 2,
   "id": "51b27983-bfa4-4d39-8b64-5af5eec086a5",
   "metadata": {
    "tags": []
   },
   "outputs": [],
   "source": [
    "# For UKBB_94traits_release1.{tsv|bed}.gz\n",
    "bed_columns_94traits = [\n",
    "    \"chromosome\", \"start\", \"end\", \"variant\", \"rsid\", \"allele1\", \"allele2\", \n",
    "    \"minorallele\", \"cohort\", \"model_marginal\", \"method\", \"trait\", \"region\", \n",
    "    \"maf\", \"beta_marginal\", \"se_marginal\", \"chisq_marginal\", \"pip\", \"cs_id\", \n",
    "    \"beta_posterior\", \"sd_posterior\", \"LD_HWE\", \"LD_SV\"\n",
    "]\n",
    "\n",
    "# For UKBB_94traits_release1_regions.bed.gz\n",
    "bed_columns_94traits_regions = [\n",
    "    \"chromosome\", \"start\", \"end\", \"cohort\", \"trait\", \"region\", \n",
    "    \"variant\", \"success_finemap\", \"success_susie\"\n",
    "]"
   ]
  },
  {
   "cell_type": "code",
   "execution_count": 5,
   "id": "2b801088-c1c4-4393-9965-b9ffc2db8383",
   "metadata": {
    "tags": []
   },
   "outputs": [],
   "source": [
    "# load the bed file\n",
    "# adjust the column names depending on your specific bed file\n",
    "bed_data_94traits = pd.read_csv('~/Desktop/geometric-omics/UKBB-fine-mapping/data/UKBB_94traits_release1.bed', sep='\\t', names=bed_columns_94traits, comment='#')\n",
    "\n",
    "# write to a csv file\n",
    "bed_data_94traits.to_csv('UKBB_94traits_release1.csv', index=False)\n",
    "\n",
    "# repeat the process for the regions file\n",
    "bed_data_94traits_regions = pd.read_csv('~/Desktop/geometric-omics/UKBB-fine-mapping/data/UKBB_94traits_release1_regions.bed', sep='\\t', names=bed_columns_94traits_regions, comment='#')\n",
    "\n",
    "# write to a csv file\n",
    "bed_data_94traits_regions.to_csv('UKBB_94traits_release1_regions.csv', index=False)"
   ]
  },
  {
   "cell_type": "code",
   "execution_count": 9,
   "id": "05fe5b06-7392-4d62-a1e8-af081cdf3e6c",
   "metadata": {
    "tags": []
   },
   "outputs": [],
   "source": [
    "data = pd.read_csv('UKBB_94traits_release1.csv')"
   ]
  },
  {
   "cell_type": "code",
   "execution_count": 10,
   "id": "b3de12a0-5352-4bbc-9d24-baf89c6b6570",
   "metadata": {
    "tags": []
   },
   "outputs": [
    {
     "data": {
      "text/plain": [
       "5377879"
      ]
     },
     "execution_count": 10,
     "metadata": {},
     "output_type": "execute_result"
    }
   ],
   "source": [
    "len(data)"
   ]
  },
  {
   "cell_type": "markdown",
   "id": "8fe89142-2b65-469b-b330-1620d303312b",
   "metadata": {},
   "source": [
    "In the graph, the SNP nodes could be encoded using the following features:\n",
    "\n",
    "1. **Variant**: Unique identifier for the SNP.\n",
    "2. **rsID**: rsID identifier, another unique identifier often used in genetic research.\n",
    "3. **Minor allele**: Minor allele in the cohort, can help in SNP characterization.\n",
    "4. **MAF**: Minor allele frequency in the cohort, provides insights into the rarity or commonality of the SNP.\n",
    "5. **PIP**: Posterior probability of association from fine-mapping, indicates the statistical significance of the SNP.\n",
    "6. **Beta_marginal** and **SE_marginal**: These could be used to encode the effect size and its uncertainty.\n",
    "7. **Beta_posterior** and **SD_posterior**: These represent the posterior expectation and uncertainty of the true effect size.\n",
    "8. **LD_HWE** and **LD_SV**: Indicators for linkage disequilibrium with other variant types, these could provide information about SNP's genetic context.\n",
    "\n",
    "The gene nodes could be encoded using the following features:\n",
    "\n",
    "1. **Trait**: Abbreviation for phenotype in genetic association tests, represents the phenotypic trait associated with the gene.\n",
    "2. **Region**: Fine-mapping region in hg19, provides the genomic region where the gene is located."
   ]
  }
 ],
 "metadata": {
  "kernelspec": {
   "display_name": "Python 3 (ipykernel)",
   "language": "python",
   "name": "python3"
  },
  "language_info": {
   "codemirror_mode": {
    "name": "ipython",
    "version": 3
   },
   "file_extension": ".py",
   "mimetype": "text/x-python",
   "name": "python",
   "nbconvert_exporter": "python",
   "pygments_lexer": "ipython3",
   "version": "3.11.3"
  }
 },
 "nbformat": 4,
 "nbformat_minor": 5
}
