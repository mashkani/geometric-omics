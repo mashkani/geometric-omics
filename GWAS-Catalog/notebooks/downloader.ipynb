{
 "cells": [
  {
   "cell_type": "code",
   "execution_count": 1,
   "id": "1a42e22a-55c7-487b-9851-949bb5be4742",
   "metadata": {
    "tags": []
   },
   "outputs": [
    {
     "data": {
      "text/plain": [
       "'http://ftp.ebi.ac.uk/pub/databases/gwas/summary_statistics/GCST003001-GCST004000/GCST003738'"
      ]
     },
     "execution_count": 1,
     "metadata": {},
     "output_type": "execute_result"
    }
   ],
   "source": [
    "import pandas as pd\n",
    "import requests\n",
    "import os\n",
    "import csv\n",
    "import concurrent.futures\n",
    "\n",
    "file_path = \"list_gwas_summary_statistics.tsv\"\n",
    "data = pd.read_csv(file_path, sep='\\t')\n",
    "\n",
    "# Now, the 'data' variable contains the contents of the TSV file as a DataFrame\n",
    "\n",
    "data[\"Data Access\"][0]"
   ]
  },
  {
   "cell_type": "code",
   "execution_count": 2,
   "id": "60b6af42-22f6-4b5d-99da-a14140d31081",
   "metadata": {
    "tags": []
   },
   "outputs": [
    {
     "name": "stdout",
     "output_type": "stream",
     "text": [
      "Downloaded file: C:\\Users\\falty\\Desktop\\geometric-omics\\GWAS-Catalog\\data\\GCST003738_buildGRCh37.tsv.gz\n",
      "Downloaded file: C:\\Users\\falty\\Desktop\\geometric-omics\\GWAS-Catalog\\data\\GCST003739_buildGRCh37.tsv.gz\n"
     ]
    }
   ],
   "source": [
    "def download_file(url):\n",
    "    # Extract the GCST number from the URL and construct the filename\n",
    "    gcst_number = url.split(\"/\")[-1]\n",
    "\n",
    "    # Construct the filename\n",
    "    filename = f\"{gcst_number}_buildGRCh37.tsv.gz\"\n",
    "\n",
    "    # Append the filename to the URL\n",
    "    file_url = url + \"/\" + filename\n",
    "\n",
    "    # Send a GET request to the URL\n",
    "    response = requests.get(file_url, stream=True)\n",
    "\n",
    "    # Check if the request was successful\n",
    "    if response.status_code == 200:\n",
    "        # Get the file name from the URL\n",
    "        file_name = os.path.join(save_dir, filename)\n",
    "\n",
    "        # Open the file and write the content of the request to it\n",
    "        with open(file_name, 'wb') as file:\n",
    "            for chunk in response.iter_content(chunk_size=8192):\n",
    "                file.write(chunk)\n",
    "                \n",
    "        print(f\"Downloaded file: {file_name}\")\n",
    "\n",
    "# Directory to save files. In this case, it's the current directory.\n",
    "save_dir = 'C:\\\\Users\\\\falty\\\\Desktop\\\\geometric-omics\\\\GWAS-Catalog\\\\data'\n",
    "\n",
    "# Maximum number of files to download\n",
    "max_files = 2\n",
    "\n",
    "# Get the first max_files URLs\n",
    "urls = data[\"Data Access\"][:max_files]\n",
    "\n",
    "# Create a ThreadPoolExecutor with a maximum of 12 threads\n",
    "with concurrent.futures.ThreadPoolExecutor(max_workers=12) as executor:\n",
    "    # Start downloading files\n",
    "    executor.map(download_file, urls)"
   ]
  }
 ],
 "metadata": {
  "kernelspec": {
   "display_name": "Python 3 (ipykernel)",
   "language": "python",
   "name": "python3"
  },
  "language_info": {
   "codemirror_mode": {
    "name": "ipython",
    "version": 3
   },
   "file_extension": ".py",
   "mimetype": "text/x-python",
   "name": "python",
   "nbconvert_exporter": "python",
   "pygments_lexer": "ipython3",
   "version": "3.11.3"
  }
 },
 "nbformat": 4,
 "nbformat_minor": 5
}
